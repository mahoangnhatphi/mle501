{
  "cells": [
    {
      "cell_type": "markdown",
      "metadata": {
        "id": "view-in-github",
        "colab_type": "text"
      },
      "source": [
        "<a href=\"https://colab.research.google.com/github/mahoangnhatphi/mle501/blob/main/MLE501_Assignment.ipynb\" target=\"_parent\"><img src=\"https://colab.research.google.com/assets/colab-badge.svg\" alt=\"Open In Colab\"/></a>"
      ]
    },
    {
      "cell_type": "markdown",
      "metadata": {
        "id": "CT56K7YjEvn_"
      },
      "source": [
        "# Problem Statement\n",
        "\n",
        "**Context**: </br>\n",
        "The Kaggle dataset on arrests for marijuana possession shows that Black people are arrested for marijuana possession at a much higher rate than white people. This suggests that there may be racial bias in the way that marijuana laws are enforced in DC.\n",
        "\n",
        "The dataset could be used to develop policies that would help to reduce racial disparities in marijuana arrests. Some specific policy recommendations that could be made based on the data include:\n",
        "\n",
        "* Decriminalize marijuana possession.\n",
        "* Implement reforms that would make it more difficult for police to make marijuana arrests.\n",
        "* Require probable cause for an arrest.\n",
        "* Mandate body cameras for police officers.\n",
        "* Establish independent review boards to investigate allegations of racial bias in policing.\n",
        "\n",
        "These policy recommendations could help to make the criminal justice system more fair and equitable for all people.\n",
        "\n",
        "\n",
        "https://www.kaggle.com/datasets/utkarshx27/arrests-for-marijuana-possession\n"
      ],
      "id": "CT56K7YjEvn_"
    },
    {
      "cell_type": "markdown",
      "metadata": {
        "id": "9f33d279"
      },
      "source": [
        "## Importing Required Libraries"
      ],
      "id": "9f33d279"
    },
    {
      "cell_type": "code",
      "execution_count": 1,
      "metadata": {
        "colab": {
          "base_uri": "https://localhost:8080/"
        },
        "id": "kqWVeUHbGRWC",
        "outputId": "29461a70-3abd-430d-8b78-5904540846ae"
      },
      "outputs": [
        {
          "output_type": "stream",
          "name": "stdout",
          "text": [
            "Looking in indexes: https://pypi.org/simple, https://us-python.pkg.dev/colab-wheels/public/simple/\n",
            "Requirement already satisfied: kaggle in /usr/local/lib/python3.10/dist-packages (1.5.13)\n",
            "Requirement already satisfied: six>=1.10 in /usr/local/lib/python3.10/dist-packages (from kaggle) (1.16.0)\n",
            "Requirement already satisfied: certifi in /usr/local/lib/python3.10/dist-packages (from kaggle) (2023.5.7)\n",
            "Requirement already satisfied: python-dateutil in /usr/local/lib/python3.10/dist-packages (from kaggle) (2.8.2)\n",
            "Requirement already satisfied: requests in /usr/local/lib/python3.10/dist-packages (from kaggle) (2.27.1)\n",
            "Requirement already satisfied: tqdm in /usr/local/lib/python3.10/dist-packages (from kaggle) (4.65.0)\n",
            "Requirement already satisfied: python-slugify in /usr/local/lib/python3.10/dist-packages (from kaggle) (8.0.1)\n",
            "Requirement already satisfied: urllib3 in /usr/local/lib/python3.10/dist-packages (from kaggle) (1.26.16)\n",
            "Requirement already satisfied: text-unidecode>=1.3 in /usr/local/lib/python3.10/dist-packages (from python-slugify->kaggle) (1.3)\n",
            "Requirement already satisfied: charset-normalizer~=2.0.0 in /usr/local/lib/python3.10/dist-packages (from requests->kaggle) (2.0.12)\n",
            "Requirement already satisfied: idna<4,>=2.5 in /usr/local/lib/python3.10/dist-packages (from requests->kaggle) (3.4)\n",
            "Cloning into 'mle501'...\n",
            "remote: Enumerating objects: 25, done.\u001b[K\n",
            "remote: Counting objects: 100% (25/25), done.\u001b[K\n",
            "remote: Compressing objects: 100% (21/21), done.\u001b[K\n",
            "remote: Total 25 (delta 7), reused 8 (delta 3), pack-reused 0\u001b[K\n",
            "Unpacking objects: 100% (25/25), 690.11 KiB | 1.71 MiB/s, done.\n"
          ]
        }
      ],
      "source": [
        "!pip install kaggle\n",
        "!rm -rf mle501\n",
        "!git clone https://github.com/mahoangnhatphi/mle501"
      ],
      "id": "kqWVeUHbGRWC"
    },
    {
      "cell_type": "code",
      "source": [
        "# This Python 3 environment comes with many helpful analytics libraries installed\n",
        "# It is defined by the kaggle/python docker image: https://github.com/kaggle/docker-python\n",
        "# For example, here's several helpful packages to load in\n",
        "\n",
        "import numpy as np # linear algebra\n",
        "import pandas as pd # data processing, CSV file I/O (e.g. pd.read_csv)\n",
        "\n",
        "# Input data files are available in the \"../input/\" directory.\n",
        "# For example, running this (by clicking run or pressing Shift+Enter) will list all files under the input directory\n",
        "\n",
        "import os\n",
        "for dirname, _, filenames in os.walk('/kaggle/input'):\n",
        "    for filename in filenames:\n",
        "        print(os.path.join(dirname, filename))"
      ],
      "metadata": {
        "id": "wua_6TYnFpPa"
      },
      "id": "wua_6TYnFpPa",
      "execution_count": 2,
      "outputs": []
    },
    {
      "cell_type": "code",
      "execution_count": 3,
      "metadata": {
        "colab": {
          "base_uri": "https://localhost:8080/"
        },
        "id": "7wkWnsnmGaYB",
        "outputId": "a8a19158-5d49-4239-c9b9-2c5dfc5cf5a0"
      },
      "outputs": [
        {
          "output_type": "stream",
          "name": "stdout",
          "text": [
            "/content\n",
            "Downloading arrests-for-marijuana-possession.zip to .\n",
            "  0% 0.00/32.1k [00:00<?, ?B/s]\n",
            "100% 32.1k/32.1k [00:00<00:00, 1.69MB/s]\n",
            "Archive:  ./arrests-for-marijuana-possession.zip\n",
            "  inflating: /content/kaggle/Arrests.csv  \n",
            "['Arrests.csv']\n"
          ]
        }
      ],
      "source": [
        "import os\n",
        "# Cấu hình secret key để xác thực truy cập đến Kaggle trên môi trường\n",
        "os.environ['KAGGLE_USERNAME'] = 'phimhongnht'\n",
        "os.environ['KAGGLE_KEY'] = 'ace8dc63a771b700643375177c78a1a5'\n",
        "\n",
        "%cd /content\n",
        "if not os.path.exists('/content/kaggle/Arrests.csv'):\n",
        "  !kaggle datasets download -d utkarshx27/arrests-for-marijuana-possession -p ./ # Download dữ liệu train từ Kaggle\n",
        "  !unzip  ./*.zip -d /content/kaggle\n",
        "else:\n",
        "    print('File already exists, no need to download or unzip.')\n",
        "\n",
        "print(os.listdir('/content/kaggle'))"
      ],
      "id": "7wkWnsnmGaYB"
    },
    {
      "cell_type": "code",
      "source": [
        "%cd /content/mle501/utils\n",
        "import glob\n",
        "file_list = glob.glob('*.py')\n",
        "\n",
        "import importlib\n",
        "for file in file_list:\n",
        "    module_name = file[:-3]  # remove the \".py\" extension\n",
        "    module = importlib.import_module(module_name)"
      ],
      "metadata": {
        "colab": {
          "base_uri": "https://localhost:8080/"
        },
        "id": "bUhfQmL-bvhb",
        "outputId": "a27871cd-ad99-4f12-8ea2-071c56b158ad"
      },
      "id": "bUhfQmL-bvhb",
      "execution_count": 4,
      "outputs": [
        {
          "output_type": "stream",
          "name": "stdout",
          "text": [
            "/content/mle501/utils\n"
          ]
        }
      ]
    },
    {
      "cell_type": "code",
      "execution_count": 5,
      "metadata": {
        "id": "98e40f2d"
      },
      "outputs": [],
      "source": [
        "import numpy as np\n",
        "import pandas as pd\n",
        "import matplotlib.pyplot as plt\n",
        "\n",
        "import seaborn as sns\n",
        "import warnings\n",
        "warnings.filterwarnings('ignore')\n",
        "\n",
        "import sklearn\n",
        "import sklearn.datasets\n",
        "import scipy.io\n",
        "\n",
        "%matplotlib inline\n",
        "plt.rcParams['figure.figsize'] = (7.0, 5.0) # set default size of plots\n",
        "plt.rcParams['image.interpolation'] = 'nearest'\n",
        "plt.rcParams['image.cmap'] = 'gray'\n"
      ],
      "id": "98e40f2d"
    },
    {
      "cell_type": "markdown",
      "metadata": {
        "id": "6166f6f6"
      },
      "source": [
        "## Reading CSV Files"
      ],
      "id": "6166f6f6"
    },
    {
      "cell_type": "markdown",
      "metadata": {
        "id": "85kGKVCO_CXA"
      },
      "source": [
        "This file contains different attribute of the candidates educational history and work experience. The detailed data dictionary is given below:\n",
        "</br>\n",
        "\n",
        "* **released:** This variable indicates whether the individual was released after the arrest. It is a categorical variable with two levels: \"Yes\" if the individual was released and \"No\" if they were not.\n",
        "\n",
        "* **colour:** This variable represents the race or ethnicity of the individual. It is a categorical variable with possible values such as \"White\" or \"Black\".\n",
        "\n",
        "* **year:** This variable denotes the year of the arrest. It is a numerical variable that represents the year as a four-digit number (e.g., 2002).\n",
        "\n",
        "* **age:** This variable represents the age of the individual at the time of arrest. It is a numerical variable expressed in years.\n",
        "\n",
        "* **sex:** This variable indicates the gender of the individual. It is a categorical variable with values such as \"Male\" or \"Female\".\n",
        "\n",
        "* **employed:** This variable indicates whether the individual was employed at the time of arrest. It is a categorical variable with two levels: \"Yes\" if the individual was employed and \"No\" if they were not.\n",
        "\n",
        "* **citizen:** This variable represents the citizenship status of the individual. It is a categorical variable with two levels: \"Yes\" if the individual is a citizen and \"No\" if they are not.\n",
        "\n",
        "* **checks:** This variable denotes the number of prior police checks on the individual. It is a numerical variable that represents the count of previous police checks."
      ],
      "id": "85kGKVCO_CXA"
    },
    {
      "cell_type": "code",
      "execution_count": 6,
      "metadata": {
        "id": "6fd1394f"
      },
      "outputs": [],
      "source": [
        "data = pd.read_csv('/content/kaggle/Arrests.csv')"
      ],
      "id": "6fd1394f"
    },
    {
      "cell_type": "code",
      "execution_count": 7,
      "metadata": {
        "colab": {
          "base_uri": "https://localhost:8080/"
        },
        "id": "2a78340b",
        "outputId": "56a4c5bb-9d83-42fe-8e5e-acecb9b7f158"
      },
      "outputs": [
        {
          "output_type": "execute_result",
          "data": {
            "text/plain": [
              "(5226, 9)"
            ]
          },
          "metadata": {},
          "execution_count": 7
        }
      ],
      "source": [
        "data.shape"
      ],
      "id": "2a78340b"
    },
    {
      "cell_type": "markdown",
      "metadata": {
        "id": "0bb3ca9d"
      },
      "source": [
        "## EDA"
      ],
      "id": "0bb3ca9d"
    },
    {
      "cell_type": "code",
      "execution_count": 8,
      "metadata": {
        "colab": {
          "base_uri": "https://localhost:8080/",
          "height": 206
        },
        "id": "801c98c4",
        "outputId": "8f4cc66e-e446-4896-ff8c-e2320f9108c0"
      },
      "outputs": [
        {
          "output_type": "execute_result",
          "data": {
            "text/plain": [
              "   Unnamed: 0 released colour  year  age     sex employed citizen  checks\n",
              "0           1      Yes  White  2002   21    Male      Yes     Yes       3\n",
              "1           2       No  Black  1999   17    Male      Yes     Yes       3\n",
              "2           3      Yes  White  2000   24    Male      Yes     Yes       3\n",
              "3           4       No  Black  2000   46    Male      Yes     Yes       1\n",
              "4           5      Yes  Black  1999   27  Female      Yes     Yes       1"
            ],
            "text/html": [
              "\n",
              "  <div id=\"df-b4b4aa17-6367-4c1d-80c5-63e3662c0737\">\n",
              "    <div class=\"colab-df-container\">\n",
              "      <div>\n",
              "<style scoped>\n",
              "    .dataframe tbody tr th:only-of-type {\n",
              "        vertical-align: middle;\n",
              "    }\n",
              "\n",
              "    .dataframe tbody tr th {\n",
              "        vertical-align: top;\n",
              "    }\n",
              "\n",
              "    .dataframe thead th {\n",
              "        text-align: right;\n",
              "    }\n",
              "</style>\n",
              "<table border=\"1\" class=\"dataframe\">\n",
              "  <thead>\n",
              "    <tr style=\"text-align: right;\">\n",
              "      <th></th>\n",
              "      <th>Unnamed: 0</th>\n",
              "      <th>released</th>\n",
              "      <th>colour</th>\n",
              "      <th>year</th>\n",
              "      <th>age</th>\n",
              "      <th>sex</th>\n",
              "      <th>employed</th>\n",
              "      <th>citizen</th>\n",
              "      <th>checks</th>\n",
              "    </tr>\n",
              "  </thead>\n",
              "  <tbody>\n",
              "    <tr>\n",
              "      <th>0</th>\n",
              "      <td>1</td>\n",
              "      <td>Yes</td>\n",
              "      <td>White</td>\n",
              "      <td>2002</td>\n",
              "      <td>21</td>\n",
              "      <td>Male</td>\n",
              "      <td>Yes</td>\n",
              "      <td>Yes</td>\n",
              "      <td>3</td>\n",
              "    </tr>\n",
              "    <tr>\n",
              "      <th>1</th>\n",
              "      <td>2</td>\n",
              "      <td>No</td>\n",
              "      <td>Black</td>\n",
              "      <td>1999</td>\n",
              "      <td>17</td>\n",
              "      <td>Male</td>\n",
              "      <td>Yes</td>\n",
              "      <td>Yes</td>\n",
              "      <td>3</td>\n",
              "    </tr>\n",
              "    <tr>\n",
              "      <th>2</th>\n",
              "      <td>3</td>\n",
              "      <td>Yes</td>\n",
              "      <td>White</td>\n",
              "      <td>2000</td>\n",
              "      <td>24</td>\n",
              "      <td>Male</td>\n",
              "      <td>Yes</td>\n",
              "      <td>Yes</td>\n",
              "      <td>3</td>\n",
              "    </tr>\n",
              "    <tr>\n",
              "      <th>3</th>\n",
              "      <td>4</td>\n",
              "      <td>No</td>\n",
              "      <td>Black</td>\n",
              "      <td>2000</td>\n",
              "      <td>46</td>\n",
              "      <td>Male</td>\n",
              "      <td>Yes</td>\n",
              "      <td>Yes</td>\n",
              "      <td>1</td>\n",
              "    </tr>\n",
              "    <tr>\n",
              "      <th>4</th>\n",
              "      <td>5</td>\n",
              "      <td>Yes</td>\n",
              "      <td>Black</td>\n",
              "      <td>1999</td>\n",
              "      <td>27</td>\n",
              "      <td>Female</td>\n",
              "      <td>Yes</td>\n",
              "      <td>Yes</td>\n",
              "      <td>1</td>\n",
              "    </tr>\n",
              "  </tbody>\n",
              "</table>\n",
              "</div>\n",
              "      <button class=\"colab-df-convert\" onclick=\"convertToInteractive('df-b4b4aa17-6367-4c1d-80c5-63e3662c0737')\"\n",
              "              title=\"Convert this dataframe to an interactive table.\"\n",
              "              style=\"display:none;\">\n",
              "        \n",
              "  <svg xmlns=\"http://www.w3.org/2000/svg\" height=\"24px\"viewBox=\"0 0 24 24\"\n",
              "       width=\"24px\">\n",
              "    <path d=\"M0 0h24v24H0V0z\" fill=\"none\"/>\n",
              "    <path d=\"M18.56 5.44l.94 2.06.94-2.06 2.06-.94-2.06-.94-.94-2.06-.94 2.06-2.06.94zm-11 1L8.5 8.5l.94-2.06 2.06-.94-2.06-.94L8.5 2.5l-.94 2.06-2.06.94zm10 10l.94 2.06.94-2.06 2.06-.94-2.06-.94-.94-2.06-.94 2.06-2.06.94z\"/><path d=\"M17.41 7.96l-1.37-1.37c-.4-.4-.92-.59-1.43-.59-.52 0-1.04.2-1.43.59L10.3 9.45l-7.72 7.72c-.78.78-.78 2.05 0 2.83L4 21.41c.39.39.9.59 1.41.59.51 0 1.02-.2 1.41-.59l7.78-7.78 2.81-2.81c.8-.78.8-2.07 0-2.86zM5.41 20L4 18.59l7.72-7.72 1.47 1.35L5.41 20z\"/>\n",
              "  </svg>\n",
              "      </button>\n",
              "      \n",
              "  <style>\n",
              "    .colab-df-container {\n",
              "      display:flex;\n",
              "      flex-wrap:wrap;\n",
              "      gap: 12px;\n",
              "    }\n",
              "\n",
              "    .colab-df-convert {\n",
              "      background-color: #E8F0FE;\n",
              "      border: none;\n",
              "      border-radius: 50%;\n",
              "      cursor: pointer;\n",
              "      display: none;\n",
              "      fill: #1967D2;\n",
              "      height: 32px;\n",
              "      padding: 0 0 0 0;\n",
              "      width: 32px;\n",
              "    }\n",
              "\n",
              "    .colab-df-convert:hover {\n",
              "      background-color: #E2EBFA;\n",
              "      box-shadow: 0px 1px 2px rgba(60, 64, 67, 0.3), 0px 1px 3px 1px rgba(60, 64, 67, 0.15);\n",
              "      fill: #174EA6;\n",
              "    }\n",
              "\n",
              "    [theme=dark] .colab-df-convert {\n",
              "      background-color: #3B4455;\n",
              "      fill: #D2E3FC;\n",
              "    }\n",
              "\n",
              "    [theme=dark] .colab-df-convert:hover {\n",
              "      background-color: #434B5C;\n",
              "      box-shadow: 0px 1px 3px 1px rgba(0, 0, 0, 0.15);\n",
              "      filter: drop-shadow(0px 1px 2px rgba(0, 0, 0, 0.3));\n",
              "      fill: #FFFFFF;\n",
              "    }\n",
              "  </style>\n",
              "\n",
              "      <script>\n",
              "        const buttonEl =\n",
              "          document.querySelector('#df-b4b4aa17-6367-4c1d-80c5-63e3662c0737 button.colab-df-convert');\n",
              "        buttonEl.style.display =\n",
              "          google.colab.kernel.accessAllowed ? 'block' : 'none';\n",
              "\n",
              "        async function convertToInteractive(key) {\n",
              "          const element = document.querySelector('#df-b4b4aa17-6367-4c1d-80c5-63e3662c0737');\n",
              "          const dataTable =\n",
              "            await google.colab.kernel.invokeFunction('convertToInteractive',\n",
              "                                                     [key], {});\n",
              "          if (!dataTable) return;\n",
              "\n",
              "          const docLinkHtml = 'Like what you see? Visit the ' +\n",
              "            '<a target=\"_blank\" href=https://colab.research.google.com/notebooks/data_table.ipynb>data table notebook</a>'\n",
              "            + ' to learn more about interactive tables.';\n",
              "          element.innerHTML = '';\n",
              "          dataTable['output_type'] = 'display_data';\n",
              "          await google.colab.output.renderOutput(dataTable, element);\n",
              "          const docLink = document.createElement('div');\n",
              "          docLink.innerHTML = docLinkHtml;\n",
              "          element.appendChild(docLink);\n",
              "        }\n",
              "      </script>\n",
              "    </div>\n",
              "  </div>\n",
              "  "
            ]
          },
          "metadata": {},
          "execution_count": 8
        }
      ],
      "source": [
        "data.head() #Returns Top 5 records"
      ],
      "id": "801c98c4"
    },
    {
      "cell_type": "code",
      "execution_count": 9,
      "metadata": {
        "colab": {
          "base_uri": "https://localhost:8080/"
        },
        "id": "48f8ff3a",
        "outputId": "664e3d19-ec60-4c4b-f0ed-1d6aeca09406"
      },
      "outputs": [
        {
          "output_type": "stream",
          "name": "stdout",
          "text": [
            "<class 'pandas.core.frame.DataFrame'>\n",
            "RangeIndex: 5226 entries, 0 to 5225\n",
            "Data columns (total 9 columns):\n",
            " #   Column      Non-Null Count  Dtype \n",
            "---  ------      --------------  ----- \n",
            " 0   Unnamed: 0  5226 non-null   int64 \n",
            " 1   released    5226 non-null   object\n",
            " 2   colour      5226 non-null   object\n",
            " 3   year        5226 non-null   int64 \n",
            " 4   age         5226 non-null   int64 \n",
            " 5   sex         5226 non-null   object\n",
            " 6   employed    5226 non-null   object\n",
            " 7   citizen     5226 non-null   object\n",
            " 8   checks      5226 non-null   int64 \n",
            "dtypes: int64(4), object(5)\n",
            "memory usage: 367.6+ KB\n"
          ]
        }
      ],
      "source": [
        "data.info() #Returns the count of null values and the data types of the features"
      ],
      "id": "48f8ff3a"
    },
    {
      "cell_type": "code",
      "execution_count": 10,
      "metadata": {
        "colab": {
          "base_uri": "https://localhost:8080/",
          "height": 300
        },
        "id": "1d790e80",
        "outputId": "4bdae963-a774-4650-cb3b-12cc100a1655"
      },
      "outputs": [
        {
          "output_type": "execute_result",
          "data": {
            "text/plain": [
              "        Unnamed: 0         year          age       checks\n",
              "count  5226.000000  5226.000000  5226.000000  5226.000000\n",
              "mean   2613.500000  1999.509376    23.846537     1.636433\n",
              "std    1508.760584     1.390056     8.316133     1.539230\n",
              "min       1.000000  1997.000000    12.000000     0.000000\n",
              "25%    1307.250000  1998.000000    18.000000     0.000000\n",
              "50%    2613.500000  2000.000000    21.000000     1.000000\n",
              "75%    3919.750000  2001.000000    27.000000     3.000000\n",
              "max    5226.000000  2002.000000    66.000000     6.000000"
            ],
            "text/html": [
              "\n",
              "  <div id=\"df-403d9cc2-0335-4587-93b8-fa7c370529c2\">\n",
              "    <div class=\"colab-df-container\">\n",
              "      <div>\n",
              "<style scoped>\n",
              "    .dataframe tbody tr th:only-of-type {\n",
              "        vertical-align: middle;\n",
              "    }\n",
              "\n",
              "    .dataframe tbody tr th {\n",
              "        vertical-align: top;\n",
              "    }\n",
              "\n",
              "    .dataframe thead th {\n",
              "        text-align: right;\n",
              "    }\n",
              "</style>\n",
              "<table border=\"1\" class=\"dataframe\">\n",
              "  <thead>\n",
              "    <tr style=\"text-align: right;\">\n",
              "      <th></th>\n",
              "      <th>Unnamed: 0</th>\n",
              "      <th>year</th>\n",
              "      <th>age</th>\n",
              "      <th>checks</th>\n",
              "    </tr>\n",
              "  </thead>\n",
              "  <tbody>\n",
              "    <tr>\n",
              "      <th>count</th>\n",
              "      <td>5226.000000</td>\n",
              "      <td>5226.000000</td>\n",
              "      <td>5226.000000</td>\n",
              "      <td>5226.000000</td>\n",
              "    </tr>\n",
              "    <tr>\n",
              "      <th>mean</th>\n",
              "      <td>2613.500000</td>\n",
              "      <td>1999.509376</td>\n",
              "      <td>23.846537</td>\n",
              "      <td>1.636433</td>\n",
              "    </tr>\n",
              "    <tr>\n",
              "      <th>std</th>\n",
              "      <td>1508.760584</td>\n",
              "      <td>1.390056</td>\n",
              "      <td>8.316133</td>\n",
              "      <td>1.539230</td>\n",
              "    </tr>\n",
              "    <tr>\n",
              "      <th>min</th>\n",
              "      <td>1.000000</td>\n",
              "      <td>1997.000000</td>\n",
              "      <td>12.000000</td>\n",
              "      <td>0.000000</td>\n",
              "    </tr>\n",
              "    <tr>\n",
              "      <th>25%</th>\n",
              "      <td>1307.250000</td>\n",
              "      <td>1998.000000</td>\n",
              "      <td>18.000000</td>\n",
              "      <td>0.000000</td>\n",
              "    </tr>\n",
              "    <tr>\n",
              "      <th>50%</th>\n",
              "      <td>2613.500000</td>\n",
              "      <td>2000.000000</td>\n",
              "      <td>21.000000</td>\n",
              "      <td>1.000000</td>\n",
              "    </tr>\n",
              "    <tr>\n",
              "      <th>75%</th>\n",
              "      <td>3919.750000</td>\n",
              "      <td>2001.000000</td>\n",
              "      <td>27.000000</td>\n",
              "      <td>3.000000</td>\n",
              "    </tr>\n",
              "    <tr>\n",
              "      <th>max</th>\n",
              "      <td>5226.000000</td>\n",
              "      <td>2002.000000</td>\n",
              "      <td>66.000000</td>\n",
              "      <td>6.000000</td>\n",
              "    </tr>\n",
              "  </tbody>\n",
              "</table>\n",
              "</div>\n",
              "      <button class=\"colab-df-convert\" onclick=\"convertToInteractive('df-403d9cc2-0335-4587-93b8-fa7c370529c2')\"\n",
              "              title=\"Convert this dataframe to an interactive table.\"\n",
              "              style=\"display:none;\">\n",
              "        \n",
              "  <svg xmlns=\"http://www.w3.org/2000/svg\" height=\"24px\"viewBox=\"0 0 24 24\"\n",
              "       width=\"24px\">\n",
              "    <path d=\"M0 0h24v24H0V0z\" fill=\"none\"/>\n",
              "    <path d=\"M18.56 5.44l.94 2.06.94-2.06 2.06-.94-2.06-.94-.94-2.06-.94 2.06-2.06.94zm-11 1L8.5 8.5l.94-2.06 2.06-.94-2.06-.94L8.5 2.5l-.94 2.06-2.06.94zm10 10l.94 2.06.94-2.06 2.06-.94-2.06-.94-.94-2.06-.94 2.06-2.06.94z\"/><path d=\"M17.41 7.96l-1.37-1.37c-.4-.4-.92-.59-1.43-.59-.52 0-1.04.2-1.43.59L10.3 9.45l-7.72 7.72c-.78.78-.78 2.05 0 2.83L4 21.41c.39.39.9.59 1.41.59.51 0 1.02-.2 1.41-.59l7.78-7.78 2.81-2.81c.8-.78.8-2.07 0-2.86zM5.41 20L4 18.59l7.72-7.72 1.47 1.35L5.41 20z\"/>\n",
              "  </svg>\n",
              "      </button>\n",
              "      \n",
              "  <style>\n",
              "    .colab-df-container {\n",
              "      display:flex;\n",
              "      flex-wrap:wrap;\n",
              "      gap: 12px;\n",
              "    }\n",
              "\n",
              "    .colab-df-convert {\n",
              "      background-color: #E8F0FE;\n",
              "      border: none;\n",
              "      border-radius: 50%;\n",
              "      cursor: pointer;\n",
              "      display: none;\n",
              "      fill: #1967D2;\n",
              "      height: 32px;\n",
              "      padding: 0 0 0 0;\n",
              "      width: 32px;\n",
              "    }\n",
              "\n",
              "    .colab-df-convert:hover {\n",
              "      background-color: #E2EBFA;\n",
              "      box-shadow: 0px 1px 2px rgba(60, 64, 67, 0.3), 0px 1px 3px 1px rgba(60, 64, 67, 0.15);\n",
              "      fill: #174EA6;\n",
              "    }\n",
              "\n",
              "    [theme=dark] .colab-df-convert {\n",
              "      background-color: #3B4455;\n",
              "      fill: #D2E3FC;\n",
              "    }\n",
              "\n",
              "    [theme=dark] .colab-df-convert:hover {\n",
              "      background-color: #434B5C;\n",
              "      box-shadow: 0px 1px 3px 1px rgba(0, 0, 0, 0.15);\n",
              "      filter: drop-shadow(0px 1px 2px rgba(0, 0, 0, 0.3));\n",
              "      fill: #FFFFFF;\n",
              "    }\n",
              "  </style>\n",
              "\n",
              "      <script>\n",
              "        const buttonEl =\n",
              "          document.querySelector('#df-403d9cc2-0335-4587-93b8-fa7c370529c2 button.colab-df-convert');\n",
              "        buttonEl.style.display =\n",
              "          google.colab.kernel.accessAllowed ? 'block' : 'none';\n",
              "\n",
              "        async function convertToInteractive(key) {\n",
              "          const element = document.querySelector('#df-403d9cc2-0335-4587-93b8-fa7c370529c2');\n",
              "          const dataTable =\n",
              "            await google.colab.kernel.invokeFunction('convertToInteractive',\n",
              "                                                     [key], {});\n",
              "          if (!dataTable) return;\n",
              "\n",
              "          const docLinkHtml = 'Like what you see? Visit the ' +\n",
              "            '<a target=\"_blank\" href=https://colab.research.google.com/notebooks/data_table.ipynb>data table notebook</a>'\n",
              "            + ' to learn more about interactive tables.';\n",
              "          element.innerHTML = '';\n",
              "          dataTable['output_type'] = 'display_data';\n",
              "          await google.colab.output.renderOutput(dataTable, element);\n",
              "          const docLink = document.createElement('div');\n",
              "          docLink.innerHTML = docLinkHtml;\n",
              "          element.appendChild(docLink);\n",
              "        }\n",
              "      </script>\n",
              "    </div>\n",
              "  </div>\n",
              "  "
            ]
          },
          "metadata": {},
          "execution_count": 10
        }
      ],
      "source": [
        "data.describe() # Returns the statistical descriptions of the data"
      ],
      "id": "1d790e80"
    },
    {
      "cell_type": "code",
      "execution_count": 11,
      "metadata": {
        "colab": {
          "base_uri": "https://localhost:8080/"
        },
        "id": "b351f055",
        "outputId": "963a6761-d16d-4a7f-a8b5-107c1a87e291"
      },
      "outputs": [
        {
          "output_type": "execute_result",
          "data": {
            "text/plain": [
              "Unnamed: 0    0\n",
              "released      0\n",
              "colour        0\n",
              "year          0\n",
              "age           0\n",
              "sex           0\n",
              "employed      0\n",
              "citizen       0\n",
              "checks        0\n",
              "dtype: int64"
            ]
          },
          "metadata": {},
          "execution_count": 11
        }
      ],
      "source": [
        "data.isna().sum() #Returns the count of the null values"
      ],
      "id": "b351f055"
    },
    {
      "cell_type": "code",
      "source": [
        "data = data.drop('Unnamed: 0', axis = 1)\n",
        "data"
      ],
      "metadata": {
        "colab": {
          "base_uri": "https://localhost:8080/",
          "height": 423
        },
        "id": "GT9HbxhInFKS",
        "outputId": "69e0e775-3555-42f7-c748-b760b58a7144"
      },
      "id": "GT9HbxhInFKS",
      "execution_count": 12,
      "outputs": [
        {
          "output_type": "execute_result",
          "data": {
            "text/plain": [
              "     released colour  year  age     sex employed citizen  checks\n",
              "0         Yes  White  2002   21    Male      Yes     Yes       3\n",
              "1          No  Black  1999   17    Male      Yes     Yes       3\n",
              "2         Yes  White  2000   24    Male      Yes     Yes       3\n",
              "3          No  Black  2000   46    Male      Yes     Yes       1\n",
              "4         Yes  Black  1999   27  Female      Yes     Yes       1\n",
              "...       ...    ...   ...  ...     ...      ...     ...     ...\n",
              "5221      Yes  White  2000   17    Male      Yes     Yes       0\n",
              "5222      Yes  White  2000   21  Female      Yes     Yes       0\n",
              "5223      Yes  Black  1999   21  Female      Yes     Yes       1\n",
              "5224       No  Black  1998   24    Male      Yes     Yes       4\n",
              "5225      Yes  White  1999   16    Male      Yes     Yes       3\n",
              "\n",
              "[5226 rows x 8 columns]"
            ],
            "text/html": [
              "\n",
              "  <div id=\"df-8b8dc243-aa5b-43b8-8964-88b900d3c29e\">\n",
              "    <div class=\"colab-df-container\">\n",
              "      <div>\n",
              "<style scoped>\n",
              "    .dataframe tbody tr th:only-of-type {\n",
              "        vertical-align: middle;\n",
              "    }\n",
              "\n",
              "    .dataframe tbody tr th {\n",
              "        vertical-align: top;\n",
              "    }\n",
              "\n",
              "    .dataframe thead th {\n",
              "        text-align: right;\n",
              "    }\n",
              "</style>\n",
              "<table border=\"1\" class=\"dataframe\">\n",
              "  <thead>\n",
              "    <tr style=\"text-align: right;\">\n",
              "      <th></th>\n",
              "      <th>released</th>\n",
              "      <th>colour</th>\n",
              "      <th>year</th>\n",
              "      <th>age</th>\n",
              "      <th>sex</th>\n",
              "      <th>employed</th>\n",
              "      <th>citizen</th>\n",
              "      <th>checks</th>\n",
              "    </tr>\n",
              "  </thead>\n",
              "  <tbody>\n",
              "    <tr>\n",
              "      <th>0</th>\n",
              "      <td>Yes</td>\n",
              "      <td>White</td>\n",
              "      <td>2002</td>\n",
              "      <td>21</td>\n",
              "      <td>Male</td>\n",
              "      <td>Yes</td>\n",
              "      <td>Yes</td>\n",
              "      <td>3</td>\n",
              "    </tr>\n",
              "    <tr>\n",
              "      <th>1</th>\n",
              "      <td>No</td>\n",
              "      <td>Black</td>\n",
              "      <td>1999</td>\n",
              "      <td>17</td>\n",
              "      <td>Male</td>\n",
              "      <td>Yes</td>\n",
              "      <td>Yes</td>\n",
              "      <td>3</td>\n",
              "    </tr>\n",
              "    <tr>\n",
              "      <th>2</th>\n",
              "      <td>Yes</td>\n",
              "      <td>White</td>\n",
              "      <td>2000</td>\n",
              "      <td>24</td>\n",
              "      <td>Male</td>\n",
              "      <td>Yes</td>\n",
              "      <td>Yes</td>\n",
              "      <td>3</td>\n",
              "    </tr>\n",
              "    <tr>\n",
              "      <th>3</th>\n",
              "      <td>No</td>\n",
              "      <td>Black</td>\n",
              "      <td>2000</td>\n",
              "      <td>46</td>\n",
              "      <td>Male</td>\n",
              "      <td>Yes</td>\n",
              "      <td>Yes</td>\n",
              "      <td>1</td>\n",
              "    </tr>\n",
              "    <tr>\n",
              "      <th>4</th>\n",
              "      <td>Yes</td>\n",
              "      <td>Black</td>\n",
              "      <td>1999</td>\n",
              "      <td>27</td>\n",
              "      <td>Female</td>\n",
              "      <td>Yes</td>\n",
              "      <td>Yes</td>\n",
              "      <td>1</td>\n",
              "    </tr>\n",
              "    <tr>\n",
              "      <th>...</th>\n",
              "      <td>...</td>\n",
              "      <td>...</td>\n",
              "      <td>...</td>\n",
              "      <td>...</td>\n",
              "      <td>...</td>\n",
              "      <td>...</td>\n",
              "      <td>...</td>\n",
              "      <td>...</td>\n",
              "    </tr>\n",
              "    <tr>\n",
              "      <th>5221</th>\n",
              "      <td>Yes</td>\n",
              "      <td>White</td>\n",
              "      <td>2000</td>\n",
              "      <td>17</td>\n",
              "      <td>Male</td>\n",
              "      <td>Yes</td>\n",
              "      <td>Yes</td>\n",
              "      <td>0</td>\n",
              "    </tr>\n",
              "    <tr>\n",
              "      <th>5222</th>\n",
              "      <td>Yes</td>\n",
              "      <td>White</td>\n",
              "      <td>2000</td>\n",
              "      <td>21</td>\n",
              "      <td>Female</td>\n",
              "      <td>Yes</td>\n",
              "      <td>Yes</td>\n",
              "      <td>0</td>\n",
              "    </tr>\n",
              "    <tr>\n",
              "      <th>5223</th>\n",
              "      <td>Yes</td>\n",
              "      <td>Black</td>\n",
              "      <td>1999</td>\n",
              "      <td>21</td>\n",
              "      <td>Female</td>\n",
              "      <td>Yes</td>\n",
              "      <td>Yes</td>\n",
              "      <td>1</td>\n",
              "    </tr>\n",
              "    <tr>\n",
              "      <th>5224</th>\n",
              "      <td>No</td>\n",
              "      <td>Black</td>\n",
              "      <td>1998</td>\n",
              "      <td>24</td>\n",
              "      <td>Male</td>\n",
              "      <td>Yes</td>\n",
              "      <td>Yes</td>\n",
              "      <td>4</td>\n",
              "    </tr>\n",
              "    <tr>\n",
              "      <th>5225</th>\n",
              "      <td>Yes</td>\n",
              "      <td>White</td>\n",
              "      <td>1999</td>\n",
              "      <td>16</td>\n",
              "      <td>Male</td>\n",
              "      <td>Yes</td>\n",
              "      <td>Yes</td>\n",
              "      <td>3</td>\n",
              "    </tr>\n",
              "  </tbody>\n",
              "</table>\n",
              "<p>5226 rows × 8 columns</p>\n",
              "</div>\n",
              "      <button class=\"colab-df-convert\" onclick=\"convertToInteractive('df-8b8dc243-aa5b-43b8-8964-88b900d3c29e')\"\n",
              "              title=\"Convert this dataframe to an interactive table.\"\n",
              "              style=\"display:none;\">\n",
              "        \n",
              "  <svg xmlns=\"http://www.w3.org/2000/svg\" height=\"24px\"viewBox=\"0 0 24 24\"\n",
              "       width=\"24px\">\n",
              "    <path d=\"M0 0h24v24H0V0z\" fill=\"none\"/>\n",
              "    <path d=\"M18.56 5.44l.94 2.06.94-2.06 2.06-.94-2.06-.94-.94-2.06-.94 2.06-2.06.94zm-11 1L8.5 8.5l.94-2.06 2.06-.94-2.06-.94L8.5 2.5l-.94 2.06-2.06.94zm10 10l.94 2.06.94-2.06 2.06-.94-2.06-.94-.94-2.06-.94 2.06-2.06.94z\"/><path d=\"M17.41 7.96l-1.37-1.37c-.4-.4-.92-.59-1.43-.59-.52 0-1.04.2-1.43.59L10.3 9.45l-7.72 7.72c-.78.78-.78 2.05 0 2.83L4 21.41c.39.39.9.59 1.41.59.51 0 1.02-.2 1.41-.59l7.78-7.78 2.81-2.81c.8-.78.8-2.07 0-2.86zM5.41 20L4 18.59l7.72-7.72 1.47 1.35L5.41 20z\"/>\n",
              "  </svg>\n",
              "      </button>\n",
              "      \n",
              "  <style>\n",
              "    .colab-df-container {\n",
              "      display:flex;\n",
              "      flex-wrap:wrap;\n",
              "      gap: 12px;\n",
              "    }\n",
              "\n",
              "    .colab-df-convert {\n",
              "      background-color: #E8F0FE;\n",
              "      border: none;\n",
              "      border-radius: 50%;\n",
              "      cursor: pointer;\n",
              "      display: none;\n",
              "      fill: #1967D2;\n",
              "      height: 32px;\n",
              "      padding: 0 0 0 0;\n",
              "      width: 32px;\n",
              "    }\n",
              "\n",
              "    .colab-df-convert:hover {\n",
              "      background-color: #E2EBFA;\n",
              "      box-shadow: 0px 1px 2px rgba(60, 64, 67, 0.3), 0px 1px 3px 1px rgba(60, 64, 67, 0.15);\n",
              "      fill: #174EA6;\n",
              "    }\n",
              "\n",
              "    [theme=dark] .colab-df-convert {\n",
              "      background-color: #3B4455;\n",
              "      fill: #D2E3FC;\n",
              "    }\n",
              "\n",
              "    [theme=dark] .colab-df-convert:hover {\n",
              "      background-color: #434B5C;\n",
              "      box-shadow: 0px 1px 3px 1px rgba(0, 0, 0, 0.15);\n",
              "      filter: drop-shadow(0px 1px 2px rgba(0, 0, 0, 0.3));\n",
              "      fill: #FFFFFF;\n",
              "    }\n",
              "  </style>\n",
              "\n",
              "      <script>\n",
              "        const buttonEl =\n",
              "          document.querySelector('#df-8b8dc243-aa5b-43b8-8964-88b900d3c29e button.colab-df-convert');\n",
              "        buttonEl.style.display =\n",
              "          google.colab.kernel.accessAllowed ? 'block' : 'none';\n",
              "\n",
              "        async function convertToInteractive(key) {\n",
              "          const element = document.querySelector('#df-8b8dc243-aa5b-43b8-8964-88b900d3c29e');\n",
              "          const dataTable =\n",
              "            await google.colab.kernel.invokeFunction('convertToInteractive',\n",
              "                                                     [key], {});\n",
              "          if (!dataTable) return;\n",
              "\n",
              "          const docLinkHtml = 'Like what you see? Visit the ' +\n",
              "            '<a target=\"_blank\" href=https://colab.research.google.com/notebooks/data_table.ipynb>data table notebook</a>'\n",
              "            + ' to learn more about interactive tables.';\n",
              "          element.innerHTML = '';\n",
              "          dataTable['output_type'] = 'display_data';\n",
              "          await google.colab.output.renderOutput(dataTable, element);\n",
              "          const docLink = document.createElement('div');\n",
              "          docLink.innerHTML = docLinkHtml;\n",
              "          element.appendChild(docLink);\n",
              "        }\n",
              "      </script>\n",
              "    </div>\n",
              "  </div>\n",
              "  "
            ]
          },
          "metadata": {},
          "execution_count": 12
        }
      ]
    },
    {
      "cell_type": "code",
      "source": [
        "from sklearn.preprocessing import LabelBinarizer\n",
        "lb = LabelBinarizer()\n",
        "data['released_binary'] = lb.fit_transform(data['released'])\n",
        "data['colour_binary'] = lb.fit_transform(data['colour'])\n",
        "data['sex_binary'] = lb.fit_transform(data['sex'])\n",
        "data['employed_binary'] = lb.fit_transform(data['employed'])\n",
        "data['citizen_binary'] = lb.fit_transform(data['citizen'])\n",
        "data"
      ],
      "metadata": {
        "colab": {
          "base_uri": "https://localhost:8080/",
          "height": 423
        },
        "id": "3gt0CDuenJGI",
        "outputId": "33afbdbe-f5f9-4f90-e117-250d45eac1da"
      },
      "id": "3gt0CDuenJGI",
      "execution_count": 13,
      "outputs": [
        {
          "output_type": "execute_result",
          "data": {
            "text/plain": [
              "     released colour  year  age     sex employed citizen  checks  \\\n",
              "0         Yes  White  2002   21    Male      Yes     Yes       3   \n",
              "1          No  Black  1999   17    Male      Yes     Yes       3   \n",
              "2         Yes  White  2000   24    Male      Yes     Yes       3   \n",
              "3          No  Black  2000   46    Male      Yes     Yes       1   \n",
              "4         Yes  Black  1999   27  Female      Yes     Yes       1   \n",
              "...       ...    ...   ...  ...     ...      ...     ...     ...   \n",
              "5221      Yes  White  2000   17    Male      Yes     Yes       0   \n",
              "5222      Yes  White  2000   21  Female      Yes     Yes       0   \n",
              "5223      Yes  Black  1999   21  Female      Yes     Yes       1   \n",
              "5224       No  Black  1998   24    Male      Yes     Yes       4   \n",
              "5225      Yes  White  1999   16    Male      Yes     Yes       3   \n",
              "\n",
              "      released_binary  colour_binary  sex_binary  employed_binary  \\\n",
              "0                   1              1           1                1   \n",
              "1                   0              0           1                1   \n",
              "2                   1              1           1                1   \n",
              "3                   0              0           1                1   \n",
              "4                   1              0           0                1   \n",
              "...               ...            ...         ...              ...   \n",
              "5221                1              1           1                1   \n",
              "5222                1              1           0                1   \n",
              "5223                1              0           0                1   \n",
              "5224                0              0           1                1   \n",
              "5225                1              1           1                1   \n",
              "\n",
              "      citizen_binary  \n",
              "0                  1  \n",
              "1                  1  \n",
              "2                  1  \n",
              "3                  1  \n",
              "4                  1  \n",
              "...              ...  \n",
              "5221               1  \n",
              "5222               1  \n",
              "5223               1  \n",
              "5224               1  \n",
              "5225               1  \n",
              "\n",
              "[5226 rows x 13 columns]"
            ],
            "text/html": [
              "\n",
              "  <div id=\"df-a91c042b-7359-4df9-9a19-dcbebc477241\">\n",
              "    <div class=\"colab-df-container\">\n",
              "      <div>\n",
              "<style scoped>\n",
              "    .dataframe tbody tr th:only-of-type {\n",
              "        vertical-align: middle;\n",
              "    }\n",
              "\n",
              "    .dataframe tbody tr th {\n",
              "        vertical-align: top;\n",
              "    }\n",
              "\n",
              "    .dataframe thead th {\n",
              "        text-align: right;\n",
              "    }\n",
              "</style>\n",
              "<table border=\"1\" class=\"dataframe\">\n",
              "  <thead>\n",
              "    <tr style=\"text-align: right;\">\n",
              "      <th></th>\n",
              "      <th>released</th>\n",
              "      <th>colour</th>\n",
              "      <th>year</th>\n",
              "      <th>age</th>\n",
              "      <th>sex</th>\n",
              "      <th>employed</th>\n",
              "      <th>citizen</th>\n",
              "      <th>checks</th>\n",
              "      <th>released_binary</th>\n",
              "      <th>colour_binary</th>\n",
              "      <th>sex_binary</th>\n",
              "      <th>employed_binary</th>\n",
              "      <th>citizen_binary</th>\n",
              "    </tr>\n",
              "  </thead>\n",
              "  <tbody>\n",
              "    <tr>\n",
              "      <th>0</th>\n",
              "      <td>Yes</td>\n",
              "      <td>White</td>\n",
              "      <td>2002</td>\n",
              "      <td>21</td>\n",
              "      <td>Male</td>\n",
              "      <td>Yes</td>\n",
              "      <td>Yes</td>\n",
              "      <td>3</td>\n",
              "      <td>1</td>\n",
              "      <td>1</td>\n",
              "      <td>1</td>\n",
              "      <td>1</td>\n",
              "      <td>1</td>\n",
              "    </tr>\n",
              "    <tr>\n",
              "      <th>1</th>\n",
              "      <td>No</td>\n",
              "      <td>Black</td>\n",
              "      <td>1999</td>\n",
              "      <td>17</td>\n",
              "      <td>Male</td>\n",
              "      <td>Yes</td>\n",
              "      <td>Yes</td>\n",
              "      <td>3</td>\n",
              "      <td>0</td>\n",
              "      <td>0</td>\n",
              "      <td>1</td>\n",
              "      <td>1</td>\n",
              "      <td>1</td>\n",
              "    </tr>\n",
              "    <tr>\n",
              "      <th>2</th>\n",
              "      <td>Yes</td>\n",
              "      <td>White</td>\n",
              "      <td>2000</td>\n",
              "      <td>24</td>\n",
              "      <td>Male</td>\n",
              "      <td>Yes</td>\n",
              "      <td>Yes</td>\n",
              "      <td>3</td>\n",
              "      <td>1</td>\n",
              "      <td>1</td>\n",
              "      <td>1</td>\n",
              "      <td>1</td>\n",
              "      <td>1</td>\n",
              "    </tr>\n",
              "    <tr>\n",
              "      <th>3</th>\n",
              "      <td>No</td>\n",
              "      <td>Black</td>\n",
              "      <td>2000</td>\n",
              "      <td>46</td>\n",
              "      <td>Male</td>\n",
              "      <td>Yes</td>\n",
              "      <td>Yes</td>\n",
              "      <td>1</td>\n",
              "      <td>0</td>\n",
              "      <td>0</td>\n",
              "      <td>1</td>\n",
              "      <td>1</td>\n",
              "      <td>1</td>\n",
              "    </tr>\n",
              "    <tr>\n",
              "      <th>4</th>\n",
              "      <td>Yes</td>\n",
              "      <td>Black</td>\n",
              "      <td>1999</td>\n",
              "      <td>27</td>\n",
              "      <td>Female</td>\n",
              "      <td>Yes</td>\n",
              "      <td>Yes</td>\n",
              "      <td>1</td>\n",
              "      <td>1</td>\n",
              "      <td>0</td>\n",
              "      <td>0</td>\n",
              "      <td>1</td>\n",
              "      <td>1</td>\n",
              "    </tr>\n",
              "    <tr>\n",
              "      <th>...</th>\n",
              "      <td>...</td>\n",
              "      <td>...</td>\n",
              "      <td>...</td>\n",
              "      <td>...</td>\n",
              "      <td>...</td>\n",
              "      <td>...</td>\n",
              "      <td>...</td>\n",
              "      <td>...</td>\n",
              "      <td>...</td>\n",
              "      <td>...</td>\n",
              "      <td>...</td>\n",
              "      <td>...</td>\n",
              "      <td>...</td>\n",
              "    </tr>\n",
              "    <tr>\n",
              "      <th>5221</th>\n",
              "      <td>Yes</td>\n",
              "      <td>White</td>\n",
              "      <td>2000</td>\n",
              "      <td>17</td>\n",
              "      <td>Male</td>\n",
              "      <td>Yes</td>\n",
              "      <td>Yes</td>\n",
              "      <td>0</td>\n",
              "      <td>1</td>\n",
              "      <td>1</td>\n",
              "      <td>1</td>\n",
              "      <td>1</td>\n",
              "      <td>1</td>\n",
              "    </tr>\n",
              "    <tr>\n",
              "      <th>5222</th>\n",
              "      <td>Yes</td>\n",
              "      <td>White</td>\n",
              "      <td>2000</td>\n",
              "      <td>21</td>\n",
              "      <td>Female</td>\n",
              "      <td>Yes</td>\n",
              "      <td>Yes</td>\n",
              "      <td>0</td>\n",
              "      <td>1</td>\n",
              "      <td>1</td>\n",
              "      <td>0</td>\n",
              "      <td>1</td>\n",
              "      <td>1</td>\n",
              "    </tr>\n",
              "    <tr>\n",
              "      <th>5223</th>\n",
              "      <td>Yes</td>\n",
              "      <td>Black</td>\n",
              "      <td>1999</td>\n",
              "      <td>21</td>\n",
              "      <td>Female</td>\n",
              "      <td>Yes</td>\n",
              "      <td>Yes</td>\n",
              "      <td>1</td>\n",
              "      <td>1</td>\n",
              "      <td>0</td>\n",
              "      <td>0</td>\n",
              "      <td>1</td>\n",
              "      <td>1</td>\n",
              "    </tr>\n",
              "    <tr>\n",
              "      <th>5224</th>\n",
              "      <td>No</td>\n",
              "      <td>Black</td>\n",
              "      <td>1998</td>\n",
              "      <td>24</td>\n",
              "      <td>Male</td>\n",
              "      <td>Yes</td>\n",
              "      <td>Yes</td>\n",
              "      <td>4</td>\n",
              "      <td>0</td>\n",
              "      <td>0</td>\n",
              "      <td>1</td>\n",
              "      <td>1</td>\n",
              "      <td>1</td>\n",
              "    </tr>\n",
              "    <tr>\n",
              "      <th>5225</th>\n",
              "      <td>Yes</td>\n",
              "      <td>White</td>\n",
              "      <td>1999</td>\n",
              "      <td>16</td>\n",
              "      <td>Male</td>\n",
              "      <td>Yes</td>\n",
              "      <td>Yes</td>\n",
              "      <td>3</td>\n",
              "      <td>1</td>\n",
              "      <td>1</td>\n",
              "      <td>1</td>\n",
              "      <td>1</td>\n",
              "      <td>1</td>\n",
              "    </tr>\n",
              "  </tbody>\n",
              "</table>\n",
              "<p>5226 rows × 13 columns</p>\n",
              "</div>\n",
              "      <button class=\"colab-df-convert\" onclick=\"convertToInteractive('df-a91c042b-7359-4df9-9a19-dcbebc477241')\"\n",
              "              title=\"Convert this dataframe to an interactive table.\"\n",
              "              style=\"display:none;\">\n",
              "        \n",
              "  <svg xmlns=\"http://www.w3.org/2000/svg\" height=\"24px\"viewBox=\"0 0 24 24\"\n",
              "       width=\"24px\">\n",
              "    <path d=\"M0 0h24v24H0V0z\" fill=\"none\"/>\n",
              "    <path d=\"M18.56 5.44l.94 2.06.94-2.06 2.06-.94-2.06-.94-.94-2.06-.94 2.06-2.06.94zm-11 1L8.5 8.5l.94-2.06 2.06-.94-2.06-.94L8.5 2.5l-.94 2.06-2.06.94zm10 10l.94 2.06.94-2.06 2.06-.94-2.06-.94-.94-2.06-.94 2.06-2.06.94z\"/><path d=\"M17.41 7.96l-1.37-1.37c-.4-.4-.92-.59-1.43-.59-.52 0-1.04.2-1.43.59L10.3 9.45l-7.72 7.72c-.78.78-.78 2.05 0 2.83L4 21.41c.39.39.9.59 1.41.59.51 0 1.02-.2 1.41-.59l7.78-7.78 2.81-2.81c.8-.78.8-2.07 0-2.86zM5.41 20L4 18.59l7.72-7.72 1.47 1.35L5.41 20z\"/>\n",
              "  </svg>\n",
              "      </button>\n",
              "      \n",
              "  <style>\n",
              "    .colab-df-container {\n",
              "      display:flex;\n",
              "      flex-wrap:wrap;\n",
              "      gap: 12px;\n",
              "    }\n",
              "\n",
              "    .colab-df-convert {\n",
              "      background-color: #E8F0FE;\n",
              "      border: none;\n",
              "      border-radius: 50%;\n",
              "      cursor: pointer;\n",
              "      display: none;\n",
              "      fill: #1967D2;\n",
              "      height: 32px;\n",
              "      padding: 0 0 0 0;\n",
              "      width: 32px;\n",
              "    }\n",
              "\n",
              "    .colab-df-convert:hover {\n",
              "      background-color: #E2EBFA;\n",
              "      box-shadow: 0px 1px 2px rgba(60, 64, 67, 0.3), 0px 1px 3px 1px rgba(60, 64, 67, 0.15);\n",
              "      fill: #174EA6;\n",
              "    }\n",
              "\n",
              "    [theme=dark] .colab-df-convert {\n",
              "      background-color: #3B4455;\n",
              "      fill: #D2E3FC;\n",
              "    }\n",
              "\n",
              "    [theme=dark] .colab-df-convert:hover {\n",
              "      background-color: #434B5C;\n",
              "      box-shadow: 0px 1px 3px 1px rgba(0, 0, 0, 0.15);\n",
              "      filter: drop-shadow(0px 1px 2px rgba(0, 0, 0, 0.3));\n",
              "      fill: #FFFFFF;\n",
              "    }\n",
              "  </style>\n",
              "\n",
              "      <script>\n",
              "        const buttonEl =\n",
              "          document.querySelector('#df-a91c042b-7359-4df9-9a19-dcbebc477241 button.colab-df-convert');\n",
              "        buttonEl.style.display =\n",
              "          google.colab.kernel.accessAllowed ? 'block' : 'none';\n",
              "\n",
              "        async function convertToInteractive(key) {\n",
              "          const element = document.querySelector('#df-a91c042b-7359-4df9-9a19-dcbebc477241');\n",
              "          const dataTable =\n",
              "            await google.colab.kernel.invokeFunction('convertToInteractive',\n",
              "                                                     [key], {});\n",
              "          if (!dataTable) return;\n",
              "\n",
              "          const docLinkHtml = 'Like what you see? Visit the ' +\n",
              "            '<a target=\"_blank\" href=https://colab.research.google.com/notebooks/data_table.ipynb>data table notebook</a>'\n",
              "            + ' to learn more about interactive tables.';\n",
              "          element.innerHTML = '';\n",
              "          dataTable['output_type'] = 'display_data';\n",
              "          await google.colab.output.renderOutput(dataTable, element);\n",
              "          const docLink = document.createElement('div');\n",
              "          docLink.innerHTML = docLinkHtml;\n",
              "          element.appendChild(docLink);\n",
              "        }\n",
              "      </script>\n",
              "    </div>\n",
              "  </div>\n",
              "  "
            ]
          },
          "metadata": {},
          "execution_count": 13
        }
      ]
    },
    {
      "cell_type": "code",
      "source": [
        "# Getting rid of Categorical Features\n",
        "data = data.drop(['released','colour','sex','employed','citizen'], axis=1)\n",
        "data"
      ],
      "metadata": {
        "colab": {
          "base_uri": "https://localhost:8080/",
          "height": 423
        },
        "id": "rPjcUSdYnPVJ",
        "outputId": "c8bca4e0-2ebb-4e1c-e73a-d87305087ed9"
      },
      "id": "rPjcUSdYnPVJ",
      "execution_count": 14,
      "outputs": [
        {
          "output_type": "execute_result",
          "data": {
            "text/plain": [
              "      year  age  checks  released_binary  colour_binary  sex_binary  \\\n",
              "0     2002   21       3                1              1           1   \n",
              "1     1999   17       3                0              0           1   \n",
              "2     2000   24       3                1              1           1   \n",
              "3     2000   46       1                0              0           1   \n",
              "4     1999   27       1                1              0           0   \n",
              "...    ...  ...     ...              ...            ...         ...   \n",
              "5221  2000   17       0                1              1           1   \n",
              "5222  2000   21       0                1              1           0   \n",
              "5223  1999   21       1                1              0           0   \n",
              "5224  1998   24       4                0              0           1   \n",
              "5225  1999   16       3                1              1           1   \n",
              "\n",
              "      employed_binary  citizen_binary  \n",
              "0                   1               1  \n",
              "1                   1               1  \n",
              "2                   1               1  \n",
              "3                   1               1  \n",
              "4                   1               1  \n",
              "...               ...             ...  \n",
              "5221                1               1  \n",
              "5222                1               1  \n",
              "5223                1               1  \n",
              "5224                1               1  \n",
              "5225                1               1  \n",
              "\n",
              "[5226 rows x 8 columns]"
            ],
            "text/html": [
              "\n",
              "  <div id=\"df-0b27f543-1863-42c3-a964-b92a8f31a428\">\n",
              "    <div class=\"colab-df-container\">\n",
              "      <div>\n",
              "<style scoped>\n",
              "    .dataframe tbody tr th:only-of-type {\n",
              "        vertical-align: middle;\n",
              "    }\n",
              "\n",
              "    .dataframe tbody tr th {\n",
              "        vertical-align: top;\n",
              "    }\n",
              "\n",
              "    .dataframe thead th {\n",
              "        text-align: right;\n",
              "    }\n",
              "</style>\n",
              "<table border=\"1\" class=\"dataframe\">\n",
              "  <thead>\n",
              "    <tr style=\"text-align: right;\">\n",
              "      <th></th>\n",
              "      <th>year</th>\n",
              "      <th>age</th>\n",
              "      <th>checks</th>\n",
              "      <th>released_binary</th>\n",
              "      <th>colour_binary</th>\n",
              "      <th>sex_binary</th>\n",
              "      <th>employed_binary</th>\n",
              "      <th>citizen_binary</th>\n",
              "    </tr>\n",
              "  </thead>\n",
              "  <tbody>\n",
              "    <tr>\n",
              "      <th>0</th>\n",
              "      <td>2002</td>\n",
              "      <td>21</td>\n",
              "      <td>3</td>\n",
              "      <td>1</td>\n",
              "      <td>1</td>\n",
              "      <td>1</td>\n",
              "      <td>1</td>\n",
              "      <td>1</td>\n",
              "    </tr>\n",
              "    <tr>\n",
              "      <th>1</th>\n",
              "      <td>1999</td>\n",
              "      <td>17</td>\n",
              "      <td>3</td>\n",
              "      <td>0</td>\n",
              "      <td>0</td>\n",
              "      <td>1</td>\n",
              "      <td>1</td>\n",
              "      <td>1</td>\n",
              "    </tr>\n",
              "    <tr>\n",
              "      <th>2</th>\n",
              "      <td>2000</td>\n",
              "      <td>24</td>\n",
              "      <td>3</td>\n",
              "      <td>1</td>\n",
              "      <td>1</td>\n",
              "      <td>1</td>\n",
              "      <td>1</td>\n",
              "      <td>1</td>\n",
              "    </tr>\n",
              "    <tr>\n",
              "      <th>3</th>\n",
              "      <td>2000</td>\n",
              "      <td>46</td>\n",
              "      <td>1</td>\n",
              "      <td>0</td>\n",
              "      <td>0</td>\n",
              "      <td>1</td>\n",
              "      <td>1</td>\n",
              "      <td>1</td>\n",
              "    </tr>\n",
              "    <tr>\n",
              "      <th>4</th>\n",
              "      <td>1999</td>\n",
              "      <td>27</td>\n",
              "      <td>1</td>\n",
              "      <td>1</td>\n",
              "      <td>0</td>\n",
              "      <td>0</td>\n",
              "      <td>1</td>\n",
              "      <td>1</td>\n",
              "    </tr>\n",
              "    <tr>\n",
              "      <th>...</th>\n",
              "      <td>...</td>\n",
              "      <td>...</td>\n",
              "      <td>...</td>\n",
              "      <td>...</td>\n",
              "      <td>...</td>\n",
              "      <td>...</td>\n",
              "      <td>...</td>\n",
              "      <td>...</td>\n",
              "    </tr>\n",
              "    <tr>\n",
              "      <th>5221</th>\n",
              "      <td>2000</td>\n",
              "      <td>17</td>\n",
              "      <td>0</td>\n",
              "      <td>1</td>\n",
              "      <td>1</td>\n",
              "      <td>1</td>\n",
              "      <td>1</td>\n",
              "      <td>1</td>\n",
              "    </tr>\n",
              "    <tr>\n",
              "      <th>5222</th>\n",
              "      <td>2000</td>\n",
              "      <td>21</td>\n",
              "      <td>0</td>\n",
              "      <td>1</td>\n",
              "      <td>1</td>\n",
              "      <td>0</td>\n",
              "      <td>1</td>\n",
              "      <td>1</td>\n",
              "    </tr>\n",
              "    <tr>\n",
              "      <th>5223</th>\n",
              "      <td>1999</td>\n",
              "      <td>21</td>\n",
              "      <td>1</td>\n",
              "      <td>1</td>\n",
              "      <td>0</td>\n",
              "      <td>0</td>\n",
              "      <td>1</td>\n",
              "      <td>1</td>\n",
              "    </tr>\n",
              "    <tr>\n",
              "      <th>5224</th>\n",
              "      <td>1998</td>\n",
              "      <td>24</td>\n",
              "      <td>4</td>\n",
              "      <td>0</td>\n",
              "      <td>0</td>\n",
              "      <td>1</td>\n",
              "      <td>1</td>\n",
              "      <td>1</td>\n",
              "    </tr>\n",
              "    <tr>\n",
              "      <th>5225</th>\n",
              "      <td>1999</td>\n",
              "      <td>16</td>\n",
              "      <td>3</td>\n",
              "      <td>1</td>\n",
              "      <td>1</td>\n",
              "      <td>1</td>\n",
              "      <td>1</td>\n",
              "      <td>1</td>\n",
              "    </tr>\n",
              "  </tbody>\n",
              "</table>\n",
              "<p>5226 rows × 8 columns</p>\n",
              "</div>\n",
              "      <button class=\"colab-df-convert\" onclick=\"convertToInteractive('df-0b27f543-1863-42c3-a964-b92a8f31a428')\"\n",
              "              title=\"Convert this dataframe to an interactive table.\"\n",
              "              style=\"display:none;\">\n",
              "        \n",
              "  <svg xmlns=\"http://www.w3.org/2000/svg\" height=\"24px\"viewBox=\"0 0 24 24\"\n",
              "       width=\"24px\">\n",
              "    <path d=\"M0 0h24v24H0V0z\" fill=\"none\"/>\n",
              "    <path d=\"M18.56 5.44l.94 2.06.94-2.06 2.06-.94-2.06-.94-.94-2.06-.94 2.06-2.06.94zm-11 1L8.5 8.5l.94-2.06 2.06-.94-2.06-.94L8.5 2.5l-.94 2.06-2.06.94zm10 10l.94 2.06.94-2.06 2.06-.94-2.06-.94-.94-2.06-.94 2.06-2.06.94z\"/><path d=\"M17.41 7.96l-1.37-1.37c-.4-.4-.92-.59-1.43-.59-.52 0-1.04.2-1.43.59L10.3 9.45l-7.72 7.72c-.78.78-.78 2.05 0 2.83L4 21.41c.39.39.9.59 1.41.59.51 0 1.02-.2 1.41-.59l7.78-7.78 2.81-2.81c.8-.78.8-2.07 0-2.86zM5.41 20L4 18.59l7.72-7.72 1.47 1.35L5.41 20z\"/>\n",
              "  </svg>\n",
              "      </button>\n",
              "      \n",
              "  <style>\n",
              "    .colab-df-container {\n",
              "      display:flex;\n",
              "      flex-wrap:wrap;\n",
              "      gap: 12px;\n",
              "    }\n",
              "\n",
              "    .colab-df-convert {\n",
              "      background-color: #E8F0FE;\n",
              "      border: none;\n",
              "      border-radius: 50%;\n",
              "      cursor: pointer;\n",
              "      display: none;\n",
              "      fill: #1967D2;\n",
              "      height: 32px;\n",
              "      padding: 0 0 0 0;\n",
              "      width: 32px;\n",
              "    }\n",
              "\n",
              "    .colab-df-convert:hover {\n",
              "      background-color: #E2EBFA;\n",
              "      box-shadow: 0px 1px 2px rgba(60, 64, 67, 0.3), 0px 1px 3px 1px rgba(60, 64, 67, 0.15);\n",
              "      fill: #174EA6;\n",
              "    }\n",
              "\n",
              "    [theme=dark] .colab-df-convert {\n",
              "      background-color: #3B4455;\n",
              "      fill: #D2E3FC;\n",
              "    }\n",
              "\n",
              "    [theme=dark] .colab-df-convert:hover {\n",
              "      background-color: #434B5C;\n",
              "      box-shadow: 0px 1px 3px 1px rgba(0, 0, 0, 0.15);\n",
              "      filter: drop-shadow(0px 1px 2px rgba(0, 0, 0, 0.3));\n",
              "      fill: #FFFFFF;\n",
              "    }\n",
              "  </style>\n",
              "\n",
              "      <script>\n",
              "        const buttonEl =\n",
              "          document.querySelector('#df-0b27f543-1863-42c3-a964-b92a8f31a428 button.colab-df-convert');\n",
              "        buttonEl.style.display =\n",
              "          google.colab.kernel.accessAllowed ? 'block' : 'none';\n",
              "\n",
              "        async function convertToInteractive(key) {\n",
              "          const element = document.querySelector('#df-0b27f543-1863-42c3-a964-b92a8f31a428');\n",
              "          const dataTable =\n",
              "            await google.colab.kernel.invokeFunction('convertToInteractive',\n",
              "                                                     [key], {});\n",
              "          if (!dataTable) return;\n",
              "\n",
              "          const docLinkHtml = 'Like what you see? Visit the ' +\n",
              "            '<a target=\"_blank\" href=https://colab.research.google.com/notebooks/data_table.ipynb>data table notebook</a>'\n",
              "            + ' to learn more about interactive tables.';\n",
              "          element.innerHTML = '';\n",
              "          dataTable['output_type'] = 'display_data';\n",
              "          await google.colab.output.renderOutput(dataTable, element);\n",
              "          const docLink = document.createElement('div');\n",
              "          docLink.innerHTML = docLinkHtml;\n",
              "          element.appendChild(docLink);\n",
              "        }\n",
              "      </script>\n",
              "    </div>\n",
              "  </div>\n",
              "  "
            ]
          },
          "metadata": {},
          "execution_count": 14
        }
      ]
    },
    {
      "cell_type": "markdown",
      "metadata": {
        "id": "22e3ca54"
      },
      "source": [
        "## Data Visualization"
      ],
      "id": "22e3ca54"
    },
    {
      "cell_type": "code",
      "execution_count": 15,
      "metadata": {
        "colab": {
          "base_uri": "https://localhost:8080/",
          "height": 867
        },
        "id": "d4cee404",
        "outputId": "da18501f-6aeb-4345-c953-144633f67795"
      },
      "outputs": [
        {
          "output_type": "display_data",
          "data": {
            "text/plain": [
              "<Figure size 1000x1000 with 2 Axes>"
            ],
            "image/png": "[encoded data removed]"
          },
          "metadata": {}
        }
      ],
      "source": [
        "corr_matrix = data.corr()\n",
        "fig, ax = plt.subplots(figsize=(10, 10))\n",
        "sns.heatmap(corr_matrix, annot=True, cmap='coolwarm', square=True, ax=ax)\n",
        "plt.show()"
      ],
      "id": "d4cee404"
    },
    {
      "cell_type": "code",
      "source": [
        "fig, (ax1, ax2, ax3) = plt.subplots(ncols=3, figsize=(10, 5), gridspec_kw={'wspace': 1})\n",
        "\n",
        "sns.histplot(data, x='age', ax=ax1)\n",
        "ax1.set_title('Histogram of Age')\n",
        "\n",
        "sns.kdeplot(data, x='age', ax=ax2)\n",
        "sns.rugplot(data, x='age', ax=ax2)\n",
        "ax2.set_title('Kernel Density Estimation')\n",
        "\n",
        "sns.displot(data, x = 'checks', kind = 'kde')\n",
        "ax3.set_title('Kernel Density Estimation for Checks')\n",
        "\n",
        "plt.tight_layout()\n",
        "plt.show()\n",
        "\n",
        "# histogram represent the frequency distribution of age data points\n",
        "# frequency distribution of age 15-25 is high"
      ],
      "metadata": {
        "colab": {
          "base_uri": "https://localhost:8080/",
          "height": 977
        },
        "id": "tV45PGrKd4ts",
        "outputId": "e9a024ad-5e4d-4076-a54d-63fbb12de985"
      },
      "id": "tV45PGrKd4ts",
      "execution_count": 16,
      "outputs": [
        {
          "output_type": "display_data",
          "data": {
            "text/plain": [
              "<Figure size 1000x500 with 3 Axes>"
            ],
            "image/png": "[encoded data removed]"
          },
          "metadata": {}
        },
        {
          "output_type": "display_data",
          "data": {
            "text/plain": [
              "<Figure size 500x500 with 1 Axes>"
            ],
            "image/png": "[encoded data removed]"
          },
          "metadata": {}
        }
      ]
    },
    {
      "cell_type": "code",
      "source": [
        "# Stacked bar chart for 'employed' and 'citizen'\n",
        "employed_citizen_counts = data.groupby('employed_binary')['citizen_binary'].value_counts().unstack()\n",
        "employed_citizen_counts.plot(kind='bar', stacked=True)\n",
        "plt.xlabel('Employed')\n",
        "plt.ylabel('Count')\n",
        "plt.title('Employment Status and Citizenship')\n",
        "plt.xticks(rotation=0)\n",
        "plt.legend(title='Citizen', loc='upper right')\n",
        "plt.show()"
      ],
      "metadata": {
        "colab": {
          "base_uri": "https://localhost:8080/",
          "height": 487
        },
        "id": "kLKW7YY6igjt",
        "outputId": "7625f142-102a-4385-d82b-381cbe621807"
      },
      "id": "kLKW7YY6igjt",
      "execution_count": 17,
      "outputs": [
        {
          "output_type": "display_data",
          "data": {
            "text/plain": [
              "<Figure size 700x500 with 1 Axes>"
            ],
            "image/png": "[encoded data removed]"
          },
          "metadata": {}
        }
      ]
    },
    {
      "cell_type": "code",
      "execution_count": 18,
      "metadata": {
        "colab": {
          "base_uri": "https://localhost:8080/"
        },
        "id": "8e0c7ab6",
        "outputId": "6dd7251a-1508-448f-918b-456c160db42b"
      },
      "outputs": [
        {
          "output_type": "execute_result",
          "data": {
            "text/plain": [
              "Index(['year', 'age', 'checks', 'released_binary', 'colour_binary',\n",
              "       'sex_binary', 'employed_binary', 'citizen_binary'],\n",
              "      dtype='object')"
            ]
          },
          "metadata": {},
          "execution_count": 18
        }
      ],
      "source": [
        "data.columns"
      ],
      "id": "8e0c7ab6"
    },
    {
      "cell_type": "markdown",
      "metadata": {
        "id": "703f6033"
      },
      "source": [
        "## Data Preprocessing"
      ],
      "id": "703f6033"
    },
    {
      "cell_type": "code",
      "execution_count": 19,
      "metadata": {
        "id": "d6872f95"
      },
      "outputs": [],
      "source": [
        "from sklearn.preprocessing import LabelEncoder"
      ],
      "id": "d6872f95"
    },
    {
      "cell_type": "code",
      "execution_count": 20,
      "metadata": {
        "id": "6077344f"
      },
      "outputs": [],
      "source": [
        "# Using Label Encoder all the string type of data gets converted into interger type\n",
        "le = LabelEncoder()\n",
        "for i in data.columns:\n",
        "    if data[i].dtypes == 'object':\n",
        "        data[i] = le.fit_transform(data[i])"
      ],
      "id": "6077344f"
    },
    {
      "cell_type": "code",
      "execution_count": 21,
      "metadata": {
        "colab": {
          "base_uri": "https://localhost:8080/",
          "height": 206
        },
        "id": "206305c3",
        "outputId": "a63805e3-4eeb-4dde-aaeb-4b2664f237e4"
      },
      "outputs": [
        {
          "output_type": "execute_result",
          "data": {
            "text/plain": [
              "   year  age  checks  released_binary  colour_binary  sex_binary  \\\n",
              "0  2002   21       3                1              1           1   \n",
              "1  1999   17       3                0              0           1   \n",
              "2  2000   24       3                1              1           1   \n",
              "3  2000   46       1                0              0           1   \n",
              "4  1999   27       1                1              0           0   \n",
              "\n",
              "   employed_binary  citizen_binary  \n",
              "0                1               1  \n",
              "1                1               1  \n",
              "2                1               1  \n",
              "3                1               1  \n",
              "4                1               1  "
            ],
            "text/html": [
              "\n",
              "  <div id=\"df-e515e915-96ab-4a2e-8438-50943eec05bb\">\n",
              "    <div class=\"colab-df-container\">\n",
              "      <div>\n",
              "<style scoped>\n",
              "    .dataframe tbody tr th:only-of-type {\n",
              "        vertical-align: middle;\n",
              "    }\n",
              "\n",
              "    .dataframe tbody tr th {\n",
              "        vertical-align: top;\n",
              "    }\n",
              "\n",
              "    .dataframe thead th {\n",
              "        text-align: right;\n",
              "    }\n",
              "</style>\n",
              "<table border=\"1\" class=\"dataframe\">\n",
              "  <thead>\n",
              "    <tr style=\"text-align: right;\">\n",
              "      <th></th>\n",
              "      <th>year</th>\n",
              "      <th>age</th>\n",
              "      <th>checks</th>\n",
              "      <th>released_binary</th>\n",
              "      <th>colour_binary</th>\n",
              "      <th>sex_binary</th>\n",
              "      <th>employed_binary</th>\n",
              "      <th>citizen_binary</th>\n",
              "    </tr>\n",
              "  </thead>\n",
              "  <tbody>\n",
              "    <tr>\n",
              "      <th>0</th>\n",
              "      <td>2002</td>\n",
              "      <td>21</td>\n",
              "      <td>3</td>\n",
              "      <td>1</td>\n",
              "      <td>1</td>\n",
              "      <td>1</td>\n",
              "      <td>1</td>\n",
              "      <td>1</td>\n",
              "    </tr>\n",
              "    <tr>\n",
              "      <th>1</th>\n",
              "      <td>1999</td>\n",
              "      <td>17</td>\n",
              "      <td>3</td>\n",
              "      <td>0</td>\n",
              "      <td>0</td>\n",
              "      <td>1</td>\n",
              "      <td>1</td>\n",
              "      <td>1</td>\n",
              "    </tr>\n",
              "    <tr>\n",
              "      <th>2</th>\n",
              "      <td>2000</td>\n",
              "      <td>24</td>\n",
              "      <td>3</td>\n",
              "      <td>1</td>\n",
              "      <td>1</td>\n",
              "      <td>1</td>\n",
              "      <td>1</td>\n",
              "      <td>1</td>\n",
              "    </tr>\n",
              "    <tr>\n",
              "      <th>3</th>\n",
              "      <td>2000</td>\n",
              "      <td>46</td>\n",
              "      <td>1</td>\n",
              "      <td>0</td>\n",
              "      <td>0</td>\n",
              "      <td>1</td>\n",
              "      <td>1</td>\n",
              "      <td>1</td>\n",
              "    </tr>\n",
              "    <tr>\n",
              "      <th>4</th>\n",
              "      <td>1999</td>\n",
              "      <td>27</td>\n",
              "      <td>1</td>\n",
              "      <td>1</td>\n",
              "      <td>0</td>\n",
              "      <td>0</td>\n",
              "      <td>1</td>\n",
              "      <td>1</td>\n",
              "    </tr>\n",
              "  </tbody>\n",
              "</table>\n",
              "</div>\n",
              "      <button class=\"colab-df-convert\" onclick=\"convertToInteractive('df-e515e915-96ab-4a2e-8438-50943eec05bb')\"\n",
              "              title=\"Convert this dataframe to an interactive table.\"\n",
              "              style=\"display:none;\">\n",
              "        \n",
              "  <svg xmlns=\"http://www.w3.org/2000/svg\" height=\"24px\"viewBox=\"0 0 24 24\"\n",
              "       width=\"24px\">\n",
              "    <path d=\"M0 0h24v24H0V0z\" fill=\"none\"/>\n",
              "    <path d=\"M18.56 5.44l.94 2.06.94-2.06 2.06-.94-2.06-.94-.94-2.06-.94 2.06-2.06.94zm-11 1L8.5 8.5l.94-2.06 2.06-.94-2.06-.94L8.5 2.5l-.94 2.06-2.06.94zm10 10l.94 2.06.94-2.06 2.06-.94-2.06-.94-.94-2.06-.94 2.06-2.06.94z\"/><path d=\"M17.41 7.96l-1.37-1.37c-.4-.4-.92-.59-1.43-.59-.52 0-1.04.2-1.43.59L10.3 9.45l-7.72 7.72c-.78.78-.78 2.05 0 2.83L4 21.41c.39.39.9.59 1.41.59.51 0 1.02-.2 1.41-.59l7.78-7.78 2.81-2.81c.8-.78.8-2.07 0-2.86zM5.41 20L4 18.59l7.72-7.72 1.47 1.35L5.41 20z\"/>\n",
              "  </svg>\n",
              "      </button>\n",
              "      \n",
              "  <style>\n",
              "    .colab-df-container {\n",
              "      display:flex;\n",
              "      flex-wrap:wrap;\n",
              "      gap: 12px;\n",
              "    }\n",
              "\n",
              "    .colab-df-convert {\n",
              "      background-color: #E8F0FE;\n",
              "      border: none;\n",
              "      border-radius: 50%;\n",
              "      cursor: pointer;\n",
              "      display: none;\n",
              "      fill: #1967D2;\n",
              "      height: 32px;\n",
              "      padding: 0 0 0 0;\n",
              "      width: 32px;\n",
              "    }\n",
              "\n",
              "    .colab-df-convert:hover {\n",
              "      background-color: #E2EBFA;\n",
              "      box-shadow: 0px 1px 2px rgba(60, 64, 67, 0.3), 0px 1px 3px 1px rgba(60, 64, 67, 0.15);\n",
              "      fill: #174EA6;\n",
              "    }\n",
              "\n",
              "    [theme=dark] .colab-df-convert {\n",
              "      background-color: #3B4455;\n",
              "      fill: #D2E3FC;\n",
              "    }\n",
              "\n",
              "    [theme=dark] .colab-df-convert:hover {\n",
              "      background-color: #434B5C;\n",
              "      box-shadow: 0px 1px 3px 1px rgba(0, 0, 0, 0.15);\n",
              "      filter: drop-shadow(0px 1px 2px rgba(0, 0, 0, 0.3));\n",
              "      fill: #FFFFFF;\n",
              "    }\n",
              "  </style>\n",
              "\n",
              "      <script>\n",
              "        const buttonEl =\n",
              "          document.querySelector('#df-e515e915-96ab-4a2e-8438-50943eec05bb button.colab-df-convert');\n",
              "        buttonEl.style.display =\n",
              "          google.colab.kernel.accessAllowed ? 'block' : 'none';\n",
              "\n",
              "        async function convertToInteractive(key) {\n",
              "          const element = document.querySelector('#df-e515e915-96ab-4a2e-8438-50943eec05bb');\n",
              "          const dataTable =\n",
              "            await google.colab.kernel.invokeFunction('convertToInteractive',\n",
              "                                                     [key], {});\n",
              "          if (!dataTable) return;\n",
              "\n",
              "          const docLinkHtml = 'Like what you see? Visit the ' +\n",
              "            '<a target=\"_blank\" href=https://colab.research.google.com/notebooks/data_table.ipynb>data table notebook</a>'\n",
              "            + ' to learn more about interactive tables.';\n",
              "          element.innerHTML = '';\n",
              "          dataTable['output_type'] = 'display_data';\n",
              "          await google.colab.output.renderOutput(dataTable, element);\n",
              "          const docLink = document.createElement('div');\n",
              "          docLink.innerHTML = docLinkHtml;\n",
              "          element.appendChild(docLink);\n",
              "        }\n",
              "      </script>\n",
              "    </div>\n",
              "  </div>\n",
              "  "
            ]
          },
          "metadata": {},
          "execution_count": 21
        }
      ],
      "source": [
        "data.head()"
      ],
      "id": "206305c3"
    },
    {
      "cell_type": "markdown",
      "metadata": {
        "id": "bcc03ad0"
      },
      "source": [
        "## Feature Selection using Pearson's Correlation"
      ],
      "id": "bcc03ad0"
    },
    {
      "cell_type": "code",
      "execution_count": 22,
      "metadata": {
        "colab": {
          "base_uri": "https://localhost:8080/",
          "height": 960
        },
        "id": "9c776186",
        "outputId": "396e3757-26ae-4c8e-d576-b39a4993a93d"
      },
      "outputs": [
        {
          "output_type": "execute_result",
          "data": {
            "text/plain": [
              "<Axes: >"
            ]
          },
          "metadata": {},
          "execution_count": 22
        },
        {
          "output_type": "display_data",
          "data": {
            "text/plain": [
              "<Figure size 1200x1000 with 2 Axes>"
            ],
            "image/png": "[encoded data removed]"
          },
          "metadata": {}
        }
      ],
      "source": [
        "plt.figure(figsize=(12,10))\n",
        "sns.heatmap(data.corr(),annot=True)"
      ],
      "id": "9c776186"
    },
    {
      "cell_type": "markdown",
      "metadata": {
        "id": "ab5dfc2b"
      },
      "source": [
        "## Model Selection"
      ],
      "id": "ab5dfc2b"
    },
    {
      "cell_type": "code",
      "execution_count": 23,
      "metadata": {
        "id": "f9c7e83e"
      },
      "outputs": [],
      "source": [
        "from sklearn.model_selection import train_test_split"
      ],
      "id": "f9c7e83e"
    },
    {
      "cell_type": "code",
      "source": [
        "data.columns"
      ],
      "metadata": {
        "colab": {
          "base_uri": "https://localhost:8080/"
        },
        "id": "daEucmcqnfBp",
        "outputId": "47a72c83-51c6-4302-ae0d-f7bdbc55a7a7"
      },
      "id": "daEucmcqnfBp",
      "execution_count": 24,
      "outputs": [
        {
          "output_type": "execute_result",
          "data": {
            "text/plain": [
              "Index(['year', 'age', 'checks', 'released_binary', 'colour_binary',\n",
              "       'sex_binary', 'employed_binary', 'citizen_binary'],\n",
              "      dtype='object')"
            ]
          },
          "metadata": {},
          "execution_count": 24
        }
      ]
    },
    {
      "cell_type": "code",
      "source": [
        "data"
      ],
      "metadata": {
        "colab": {
          "base_uri": "https://localhost:8080/",
          "height": 423
        },
        "id": "owkLIlNBnksw",
        "outputId": "8918d034-c025-4162-9a0f-659c49a8c485"
      },
      "id": "owkLIlNBnksw",
      "execution_count": 25,
      "outputs": [
        {
          "output_type": "execute_result",
          "data": {
            "text/plain": [
              "      year  age  checks  released_binary  colour_binary  sex_binary  \\\n",
              "0     2002   21       3                1              1           1   \n",
              "1     1999   17       3                0              0           1   \n",
              "2     2000   24       3                1              1           1   \n",
              "3     2000   46       1                0              0           1   \n",
              "4     1999   27       1                1              0           0   \n",
              "...    ...  ...     ...              ...            ...         ...   \n",
              "5221  2000   17       0                1              1           1   \n",
              "5222  2000   21       0                1              1           0   \n",
              "5223  1999   21       1                1              0           0   \n",
              "5224  1998   24       4                0              0           1   \n",
              "5225  1999   16       3                1              1           1   \n",
              "\n",
              "      employed_binary  citizen_binary  \n",
              "0                   1               1  \n",
              "1                   1               1  \n",
              "2                   1               1  \n",
              "3                   1               1  \n",
              "4                   1               1  \n",
              "...               ...             ...  \n",
              "5221                1               1  \n",
              "5222                1               1  \n",
              "5223                1               1  \n",
              "5224                1               1  \n",
              "5225                1               1  \n",
              "\n",
              "[5226 rows x 8 columns]"
            ],
            "text/html": [
              "\n",
              "  <div id=\"df-910208e0-9cd7-4c0b-8d56-6fac44d3d314\">\n",
              "    <div class=\"colab-df-container\">\n",
              "      <div>\n",
              "<style scoped>\n",
              "    .dataframe tbody tr th:only-of-type {\n",
              "        vertical-align: middle;\n",
              "    }\n",
              "\n",
              "    .dataframe tbody tr th {\n",
              "        vertical-align: top;\n",
              "    }\n",
              "\n",
              "    .dataframe thead th {\n",
              "        text-align: right;\n",
              "    }\n",
              "</style>\n",
              "<table border=\"1\" class=\"dataframe\">\n",
              "  <thead>\n",
              "    <tr style=\"text-align: right;\">\n",
              "      <th></th>\n",
              "      <th>year</th>\n",
              "      <th>age</th>\n",
              "      <th>checks</th>\n",
              "      <th>released_binary</th>\n",
              "      <th>colour_binary</th>\n",
              "      <th>sex_binary</th>\n",
              "      <th>employed_binary</th>\n",
              "      <th>citizen_binary</th>\n",
              "    </tr>\n",
              "  </thead>\n",
              "  <tbody>\n",
              "    <tr>\n",
              "      <th>0</th>\n",
              "      <td>2002</td>\n",
              "      <td>21</td>\n",
              "      <td>3</td>\n",
              "      <td>1</td>\n",
              "      <td>1</td>\n",
              "      <td>1</td>\n",
              "      <td>1</td>\n",
              "      <td>1</td>\n",
              "    </tr>\n",
              "    <tr>\n",
              "      <th>1</th>\n",
              "      <td>1999</td>\n",
              "      <td>17</td>\n",
              "      <td>3</td>\n",
              "      <td>0</td>\n",
              "      <td>0</td>\n",
              "      <td>1</td>\n",
              "      <td>1</td>\n",
              "      <td>1</td>\n",
              "    </tr>\n",
              "    <tr>\n",
              "      <th>2</th>\n",
              "      <td>2000</td>\n",
              "      <td>24</td>\n",
              "      <td>3</td>\n",
              "      <td>1</td>\n",
              "      <td>1</td>\n",
              "      <td>1</td>\n",
              "      <td>1</td>\n",
              "      <td>1</td>\n",
              "    </tr>\n",
              "    <tr>\n",
              "      <th>3</th>\n",
              "      <td>2000</td>\n",
              "      <td>46</td>\n",
              "      <td>1</td>\n",
              "      <td>0</td>\n",
              "      <td>0</td>\n",
              "      <td>1</td>\n",
              "      <td>1</td>\n",
              "      <td>1</td>\n",
              "    </tr>\n",
              "    <tr>\n",
              "      <th>4</th>\n",
              "      <td>1999</td>\n",
              "      <td>27</td>\n",
              "      <td>1</td>\n",
              "      <td>1</td>\n",
              "      <td>0</td>\n",
              "      <td>0</td>\n",
              "      <td>1</td>\n",
              "      <td>1</td>\n",
              "    </tr>\n",
              "    <tr>\n",
              "      <th>...</th>\n",
              "      <td>...</td>\n",
              "      <td>...</td>\n",
              "      <td>...</td>\n",
              "      <td>...</td>\n",
              "      <td>...</td>\n",
              "      <td>...</td>\n",
              "      <td>...</td>\n",
              "      <td>...</td>\n",
              "    </tr>\n",
              "    <tr>\n",
              "      <th>5221</th>\n",
              "      <td>2000</td>\n",
              "      <td>17</td>\n",
              "      <td>0</td>\n",
              "      <td>1</td>\n",
              "      <td>1</td>\n",
              "      <td>1</td>\n",
              "      <td>1</td>\n",
              "      <td>1</td>\n",
              "    </tr>\n",
              "    <tr>\n",
              "      <th>5222</th>\n",
              "      <td>2000</td>\n",
              "      <td>21</td>\n",
              "      <td>0</td>\n",
              "      <td>1</td>\n",
              "      <td>1</td>\n",
              "      <td>0</td>\n",
              "      <td>1</td>\n",
              "      <td>1</td>\n",
              "    </tr>\n",
              "    <tr>\n",
              "      <th>5223</th>\n",
              "      <td>1999</td>\n",
              "      <td>21</td>\n",
              "      <td>1</td>\n",
              "      <td>1</td>\n",
              "      <td>0</td>\n",
              "      <td>0</td>\n",
              "      <td>1</td>\n",
              "      <td>1</td>\n",
              "    </tr>\n",
              "    <tr>\n",
              "      <th>5224</th>\n",
              "      <td>1998</td>\n",
              "      <td>24</td>\n",
              "      <td>4</td>\n",
              "      <td>0</td>\n",
              "      <td>0</td>\n",
              "      <td>1</td>\n",
              "      <td>1</td>\n",
              "      <td>1</td>\n",
              "    </tr>\n",
              "    <tr>\n",
              "      <th>5225</th>\n",
              "      <td>1999</td>\n",
              "      <td>16</td>\n",
              "      <td>3</td>\n",
              "      <td>1</td>\n",
              "      <td>1</td>\n",
              "      <td>1</td>\n",
              "      <td>1</td>\n",
              "      <td>1</td>\n",
              "    </tr>\n",
              "  </tbody>\n",
              "</table>\n",
              "<p>5226 rows × 8 columns</p>\n",
              "</div>\n",
              "      <button class=\"colab-df-convert\" onclick=\"convertToInteractive('df-910208e0-9cd7-4c0b-8d56-6fac44d3d314')\"\n",
              "              title=\"Convert this dataframe to an interactive table.\"\n",
              "              style=\"display:none;\">\n",
              "        \n",
              "  <svg xmlns=\"http://www.w3.org/2000/svg\" height=\"24px\"viewBox=\"0 0 24 24\"\n",
              "       width=\"24px\">\n",
              "    <path d=\"M0 0h24v24H0V0z\" fill=\"none\"/>\n",
              "    <path d=\"M18.56 5.44l.94 2.06.94-2.06 2.06-.94-2.06-.94-.94-2.06-.94 2.06-2.06.94zm-11 1L8.5 8.5l.94-2.06 2.06-.94-2.06-.94L8.5 2.5l-.94 2.06-2.06.94zm10 10l.94 2.06.94-2.06 2.06-.94-2.06-.94-.94-2.06-.94 2.06-2.06.94z\"/><path d=\"M17.41 7.96l-1.37-1.37c-.4-.4-.92-.59-1.43-.59-.52 0-1.04.2-1.43.59L10.3 9.45l-7.72 7.72c-.78.78-.78 2.05 0 2.83L4 21.41c.39.39.9.59 1.41.59.51 0 1.02-.2 1.41-.59l7.78-7.78 2.81-2.81c.8-.78.8-2.07 0-2.86zM5.41 20L4 18.59l7.72-7.72 1.47 1.35L5.41 20z\"/>\n",
              "  </svg>\n",
              "      </button>\n",
              "      \n",
              "  <style>\n",
              "    .colab-df-container {\n",
              "      display:flex;\n",
              "      flex-wrap:wrap;\n",
              "      gap: 12px;\n",
              "    }\n",
              "\n",
              "    .colab-df-convert {\n",
              "      background-color: #E8F0FE;\n",
              "      border: none;\n",
              "      border-radius: 50%;\n",
              "      cursor: pointer;\n",
              "      display: none;\n",
              "      fill: #1967D2;\n",
              "      height: 32px;\n",
              "      padding: 0 0 0 0;\n",
              "      width: 32px;\n",
              "    }\n",
              "\n",
              "    .colab-df-convert:hover {\n",
              "      background-color: #E2EBFA;\n",
              "      box-shadow: 0px 1px 2px rgba(60, 64, 67, 0.3), 0px 1px 3px 1px rgba(60, 64, 67, 0.15);\n",
              "      fill: #174EA6;\n",
              "    }\n",
              "\n",
              "    [theme=dark] .colab-df-convert {\n",
              "      background-color: #3B4455;\n",
              "      fill: #D2E3FC;\n",
              "    }\n",
              "\n",
              "    [theme=dark] .colab-df-convert:hover {\n",
              "      background-color: #434B5C;\n",
              "      box-shadow: 0px 1px 3px 1px rgba(0, 0, 0, 0.15);\n",
              "      filter: drop-shadow(0px 1px 2px rgba(0, 0, 0, 0.3));\n",
              "      fill: #FFFFFF;\n",
              "    }\n",
              "  </style>\n",
              "\n",
              "      <script>\n",
              "        const buttonEl =\n",
              "          document.querySelector('#df-910208e0-9cd7-4c0b-8d56-6fac44d3d314 button.colab-df-convert');\n",
              "        buttonEl.style.display =\n",
              "          google.colab.kernel.accessAllowed ? 'block' : 'none';\n",
              "\n",
              "        async function convertToInteractive(key) {\n",
              "          const element = document.querySelector('#df-910208e0-9cd7-4c0b-8d56-6fac44d3d314');\n",
              "          const dataTable =\n",
              "            await google.colab.kernel.invokeFunction('convertToInteractive',\n",
              "                                                     [key], {});\n",
              "          if (!dataTable) return;\n",
              "\n",
              "          const docLinkHtml = 'Like what you see? Visit the ' +\n",
              "            '<a target=\"_blank\" href=https://colab.research.google.com/notebooks/data_table.ipynb>data table notebook</a>'\n",
              "            + ' to learn more about interactive tables.';\n",
              "          element.innerHTML = '';\n",
              "          dataTable['output_type'] = 'display_data';\n",
              "          await google.colab.output.renderOutput(dataTable, element);\n",
              "          const docLink = document.createElement('div');\n",
              "          docLink.innerHTML = docLinkHtml;\n",
              "          element.appendChild(docLink);\n",
              "        }\n",
              "      </script>\n",
              "    </div>\n",
              "  </div>\n",
              "  "
            ]
          },
          "metadata": {},
          "execution_count": 25
        }
      ]
    },
    {
      "cell_type": "code",
      "execution_count": 26,
      "metadata": {
        "id": "78f8e395"
      },
      "outputs": [],
      "source": [
        "# Independent Variables are stored in X\n",
        "# Dependent Variable is stored in y\n",
        "X = data.drop(['released_binary', 'year'],axis=1)\n",
        "y = data.released_binary"
      ],
      "id": "78f8e395"
    },
    {
      "cell_type": "code",
      "execution_count": 27,
      "metadata": {
        "colab": {
          "base_uri": "https://localhost:8080/",
          "height": 206
        },
        "id": "da4682a7",
        "outputId": "1a68bc9f-e470-4c2d-8ce7-cf3c77c9fc15"
      },
      "outputs": [
        {
          "output_type": "execute_result",
          "data": {
            "text/plain": [
              "   age  checks  colour_binary  sex_binary  employed_binary  citizen_binary\n",
              "0   21       3              1           1                1               1\n",
              "1   17       3              0           1                1               1\n",
              "2   24       3              1           1                1               1\n",
              "3   46       1              0           1                1               1\n",
              "4   27       1              0           0                1               1"
            ],
            "text/html": [
              "\n",
              "  <div id=\"df-cdf86935-84b3-4d50-9026-d91f379dbe3a\">\n",
              "    <div class=\"colab-df-container\">\n",
              "      <div>\n",
              "<style scoped>\n",
              "    .dataframe tbody tr th:only-of-type {\n",
              "        vertical-align: middle;\n",
              "    }\n",
              "\n",
              "    .dataframe tbody tr th {\n",
              "        vertical-align: top;\n",
              "    }\n",
              "\n",
              "    .dataframe thead th {\n",
              "        text-align: right;\n",
              "    }\n",
              "</style>\n",
              "<table border=\"1\" class=\"dataframe\">\n",
              "  <thead>\n",
              "    <tr style=\"text-align: right;\">\n",
              "      <th></th>\n",
              "      <th>age</th>\n",
              "      <th>checks</th>\n",
              "      <th>colour_binary</th>\n",
              "      <th>sex_binary</th>\n",
              "      <th>employed_binary</th>\n",
              "      <th>citizen_binary</th>\n",
              "    </tr>\n",
              "  </thead>\n",
              "  <tbody>\n",
              "    <tr>\n",
              "      <th>0</th>\n",
              "      <td>21</td>\n",
              "      <td>3</td>\n",
              "      <td>1</td>\n",
              "      <td>1</td>\n",
              "      <td>1</td>\n",
              "      <td>1</td>\n",
              "    </tr>\n",
              "    <tr>\n",
              "      <th>1</th>\n",
              "      <td>17</td>\n",
              "      <td>3</td>\n",
              "      <td>0</td>\n",
              "      <td>1</td>\n",
              "      <td>1</td>\n",
              "      <td>1</td>\n",
              "    </tr>\n",
              "    <tr>\n",
              "      <th>2</th>\n",
              "      <td>24</td>\n",
              "      <td>3</td>\n",
              "      <td>1</td>\n",
              "      <td>1</td>\n",
              "      <td>1</td>\n",
              "      <td>1</td>\n",
              "    </tr>\n",
              "    <tr>\n",
              "      <th>3</th>\n",
              "      <td>46</td>\n",
              "      <td>1</td>\n",
              "      <td>0</td>\n",
              "      <td>1</td>\n",
              "      <td>1</td>\n",
              "      <td>1</td>\n",
              "    </tr>\n",
              "    <tr>\n",
              "      <th>4</th>\n",
              "      <td>27</td>\n",
              "      <td>1</td>\n",
              "      <td>0</td>\n",
              "      <td>0</td>\n",
              "      <td>1</td>\n",
              "      <td>1</td>\n",
              "    </tr>\n",
              "  </tbody>\n",
              "</table>\n",
              "</div>\n",
              "      <button class=\"colab-df-convert\" onclick=\"convertToInteractive('df-cdf86935-84b3-4d50-9026-d91f379dbe3a')\"\n",
              "              title=\"Convert this dataframe to an interactive table.\"\n",
              "              style=\"display:none;\">\n",
              "        \n",
              "  <svg xmlns=\"http://www.w3.org/2000/svg\" height=\"24px\"viewBox=\"0 0 24 24\"\n",
              "       width=\"24px\">\n",
              "    <path d=\"M0 0h24v24H0V0z\" fill=\"none\"/>\n",
              "    <path d=\"M18.56 5.44l.94 2.06.94-2.06 2.06-.94-2.06-.94-.94-2.06-.94 2.06-2.06.94zm-11 1L8.5 8.5l.94-2.06 2.06-.94-2.06-.94L8.5 2.5l-.94 2.06-2.06.94zm10 10l.94 2.06.94-2.06 2.06-.94-2.06-.94-.94-2.06-.94 2.06-2.06.94z\"/><path d=\"M17.41 7.96l-1.37-1.37c-.4-.4-.92-.59-1.43-.59-.52 0-1.04.2-1.43.59L10.3 9.45l-7.72 7.72c-.78.78-.78 2.05 0 2.83L4 21.41c.39.39.9.59 1.41.59.51 0 1.02-.2 1.41-.59l7.78-7.78 2.81-2.81c.8-.78.8-2.07 0-2.86zM5.41 20L4 18.59l7.72-7.72 1.47 1.35L5.41 20z\"/>\n",
              "  </svg>\n",
              "      </button>\n",
              "      \n",
              "  <style>\n",
              "    .colab-df-container {\n",
              "      display:flex;\n",
              "      flex-wrap:wrap;\n",
              "      gap: 12px;\n",
              "    }\n",
              "\n",
              "    .colab-df-convert {\n",
              "      background-color: #E8F0FE;\n",
              "      border: none;\n",
              "      border-radius: 50%;\n",
              "      cursor: pointer;\n",
              "      display: none;\n",
              "      fill: #1967D2;\n",
              "      height: 32px;\n",
              "      padding: 0 0 0 0;\n",
              "      width: 32px;\n",
              "    }\n",
              "\n",
              "    .colab-df-convert:hover {\n",
              "      background-color: #E2EBFA;\n",
              "      box-shadow: 0px 1px 2px rgba(60, 64, 67, 0.3), 0px 1px 3px 1px rgba(60, 64, 67, 0.15);\n",
              "      fill: #174EA6;\n",
              "    }\n",
              "\n",
              "    [theme=dark] .colab-df-convert {\n",
              "      background-color: #3B4455;\n",
              "      fill: #D2E3FC;\n",
              "    }\n",
              "\n",
              "    [theme=dark] .colab-df-convert:hover {\n",
              "      background-color: #434B5C;\n",
              "      box-shadow: 0px 1px 3px 1px rgba(0, 0, 0, 0.15);\n",
              "      filter: drop-shadow(0px 1px 2px rgba(0, 0, 0, 0.3));\n",
              "      fill: #FFFFFF;\n",
              "    }\n",
              "  </style>\n",
              "\n",
              "      <script>\n",
              "        const buttonEl =\n",
              "          document.querySelector('#df-cdf86935-84b3-4d50-9026-d91f379dbe3a button.colab-df-convert');\n",
              "        buttonEl.style.display =\n",
              "          google.colab.kernel.accessAllowed ? 'block' : 'none';\n",
              "\n",
              "        async function convertToInteractive(key) {\n",
              "          const element = document.querySelector('#df-cdf86935-84b3-4d50-9026-d91f379dbe3a');\n",
              "          const dataTable =\n",
              "            await google.colab.kernel.invokeFunction('convertToInteractive',\n",
              "                                                     [key], {});\n",
              "          if (!dataTable) return;\n",
              "\n",
              "          const docLinkHtml = 'Like what you see? Visit the ' +\n",
              "            '<a target=\"_blank\" href=https://colab.research.google.com/notebooks/data_table.ipynb>data table notebook</a>'\n",
              "            + ' to learn more about interactive tables.';\n",
              "          element.innerHTML = '';\n",
              "          dataTable['output_type'] = 'display_data';\n",
              "          await google.colab.output.renderOutput(dataTable, element);\n",
              "          const docLink = document.createElement('div');\n",
              "          docLink.innerHTML = docLinkHtml;\n",
              "          element.appendChild(docLink);\n",
              "        }\n",
              "      </script>\n",
              "    </div>\n",
              "  </div>\n",
              "  "
            ]
          },
          "metadata": {},
          "execution_count": 27
        }
      ],
      "source": [
        "X.head()"
      ],
      "id": "da4682a7"
    },
    {
      "cell_type": "code",
      "source": [
        "y.head()"
      ],
      "metadata": {
        "colab": {
          "base_uri": "https://localhost:8080/"
        },
        "id": "9B_9vmXe3yPa",
        "outputId": "1a25286c-7e1f-4ce2-bf7a-c26f9d2c643a"
      },
      "id": "9B_9vmXe3yPa",
      "execution_count": 28,
      "outputs": [
        {
          "output_type": "execute_result",
          "data": {
            "text/plain": [
              "0    1\n",
              "1    0\n",
              "2    1\n",
              "3    0\n",
              "4    1\n",
              "Name: released_binary, dtype: int64"
            ]
          },
          "metadata": {},
          "execution_count": 28
        }
      ]
    },
    {
      "cell_type": "code",
      "execution_count": 29,
      "metadata": {
        "colab": {
          "base_uri": "https://localhost:8080/"
        },
        "id": "4f5130dd",
        "outputId": "946bf52f-fd3b-444f-f25d-66c4bbdbfe87"
      },
      "outputs": [
        {
          "output_type": "execute_result",
          "data": {
            "text/plain": [
              "(5226,)"
            ]
          },
          "metadata": {},
          "execution_count": 29
        }
      ],
      "source": [
        "y.shape"
      ],
      "id": "4f5130dd"
    },
    {
      "cell_type": "markdown",
      "metadata": {
        "id": "b882013a"
      },
      "source": [
        "## Train - Test Split"
      ],
      "id": "b882013a"
    },
    {
      "cell_type": "code",
      "execution_count": 30,
      "metadata": {
        "id": "1e529e28"
      },
      "outputs": [],
      "source": [
        "x_train,x_test,y_train,y_test = train_test_split(X,y,test_size=0.2,random_state=0)"
      ],
      "id": "1e529e28"
    },
    {
      "cell_type": "code",
      "source": [
        "# Save train data to CSV file\n",
        "train_data = pd.concat([x_train, y_train], axis=1)\n",
        "train_data.to_csv('train_data.csv', index=False)\n",
        "\n",
        "# Save test data to CSV file\n",
        "test_data = pd.concat([x_test, y_test], axis=1)\n",
        "test_data.to_csv('test_data.csv', index=False)"
      ],
      "metadata": {
        "id": "E43BzKTl3Ggc"
      },
      "id": "E43BzKTl3Ggc",
      "execution_count": 31,
      "outputs": []
    },
    {
      "cell_type": "code",
      "execution_count": 32,
      "metadata": {
        "id": "NKZ0iHitDVYU",
        "colab": {
          "base_uri": "https://localhost:8080/",
          "height": 445
        },
        "outputId": "00649434-385a-4d0a-9b92-750fbaa2f5be"
      },
      "outputs": [
        {
          "output_type": "display_data",
          "data": {
            "text/plain": [
              "<Figure size 700x500 with 1 Axes>"
            ],
            "image/png": "[encoded data removed]"
          },
          "metadata": {}
        }
      ],
      "source": [
        " # Visualize the data\n",
        "plt.scatter(x_train.values[:, 0], x_train.values[:, 1], c=y_train, s=40, cmap=plt.cm.Spectral, edgecolors='black');\n",
        "train_X = x_train.T\n",
        "#train_X = x_train.values[:, 0].reshape(1, -1)\n",
        "train_Y = y_train.values.reshape((1, y_train.values.shape[0]))\n",
        "test_X = x_test.T\n",
        "#test_X = x_test.values[:, 0].reshape(1, -1)\n",
        "test_Y = y_test.values.reshape((1, x_test.values.shape[0]))"
      ],
      "id": "NKZ0iHitDVYU"
    },
    {
      "cell_type": "code",
      "source": [
        "x_train"
      ],
      "metadata": {
        "id": "1cX-k-O4VE0V",
        "colab": {
          "base_uri": "https://localhost:8080/",
          "height": 423
        },
        "outputId": "9374f777-a5ac-427c-fb94-ee7eb38df4c8"
      },
      "id": "1cX-k-O4VE0V",
      "execution_count": 33,
      "outputs": [
        {
          "output_type": "execute_result",
          "data": {
            "text/plain": [
              "      age  checks  colour_binary  sex_binary  employed_binary  citizen_binary\n",
              "3635   30       3              0           1                1               1\n",
              "4046   16       0              1           1                1               1\n",
              "1784   21       2              1           1                1               1\n",
              "3787   24       0              1           1                1               1\n",
              "1688   21       4              1           1                0               1\n",
              "...   ...     ...            ...         ...              ...             ...\n",
              "4931   42       3              1           1                1               0\n",
              "3264   18       0              1           1                1               1\n",
              "1653   19       4              1           0                0               1\n",
              "2607   15       2              1           1                1               1\n",
              "2732   22       3              1           1                1               1\n",
              "\n",
              "[4180 rows x 6 columns]"
            ],
            "text/html": [
              "\n",
              "  <div id=\"df-6b8d1aec-59ad-411e-9bc6-18a7888a1017\">\n",
              "    <div class=\"colab-df-container\">\n",
              "      <div>\n",
              "<style scoped>\n",
              "    .dataframe tbody tr th:only-of-type {\n",
              "        vertical-align: middle;\n",
              "    }\n",
              "\n",
              "    .dataframe tbody tr th {\n",
              "        vertical-align: top;\n",
              "    }\n",
              "\n",
              "    .dataframe thead th {\n",
              "        text-align: right;\n",
              "    }\n",
              "</style>\n",
              "<table border=\"1\" class=\"dataframe\">\n",
              "  <thead>\n",
              "    <tr style=\"text-align: right;\">\n",
              "      <th></th>\n",
              "      <th>age</th>\n",
              "      <th>checks</th>\n",
              "      <th>colour_binary</th>\n",
              "      <th>sex_binary</th>\n",
              "      <th>employed_binary</th>\n",
              "      <th>citizen_binary</th>\n",
              "    </tr>\n",
              "  </thead>\n",
              "  <tbody>\n",
              "    <tr>\n",
              "      <th>3635</th>\n",
              "      <td>30</td>\n",
              "      <td>3</td>\n",
              "      <td>0</td>\n",
              "      <td>1</td>\n",
              "      <td>1</td>\n",
              "      <td>1</td>\n",
              "    </tr>\n",
              "    <tr>\n",
              "      <th>4046</th>\n",
              "      <td>16</td>\n",
              "      <td>0</td>\n",
              "      <td>1</td>\n",
              "      <td>1</td>\n",
              "      <td>1</td>\n",
              "      <td>1</td>\n",
              "    </tr>\n",
              "    <tr>\n",
              "      <th>1784</th>\n",
              "      <td>21</td>\n",
              "      <td>2</td>\n",
              "      <td>1</td>\n",
              "      <td>1</td>\n",
              "      <td>1</td>\n",
              "      <td>1</td>\n",
              "    </tr>\n",
              "    <tr>\n",
              "      <th>3787</th>\n",
              "      <td>24</td>\n",
              "      <td>0</td>\n",
              "      <td>1</td>\n",
              "      <td>1</td>\n",
              "      <td>1</td>\n",
              "      <td>1</td>\n",
              "    </tr>\n",
              "    <tr>\n",
              "      <th>1688</th>\n",
              "      <td>21</td>\n",
              "      <td>4</td>\n",
              "      <td>1</td>\n",
              "      <td>1</td>\n",
              "      <td>0</td>\n",
              "      <td>1</td>\n",
              "    </tr>\n",
              "    <tr>\n",
              "      <th>...</th>\n",
              "      <td>...</td>\n",
              "      <td>...</td>\n",
              "      <td>...</td>\n",
              "      <td>...</td>\n",
              "      <td>...</td>\n",
              "      <td>...</td>\n",
              "    </tr>\n",
              "    <tr>\n",
              "      <th>4931</th>\n",
              "      <td>42</td>\n",
              "      <td>3</td>\n",
              "      <td>1</td>\n",
              "      <td>1</td>\n",
              "      <td>1</td>\n",
              "      <td>0</td>\n",
              "    </tr>\n",
              "    <tr>\n",
              "      <th>3264</th>\n",
              "      <td>18</td>\n",
              "      <td>0</td>\n",
              "      <td>1</td>\n",
              "      <td>1</td>\n",
              "      <td>1</td>\n",
              "      <td>1</td>\n",
              "    </tr>\n",
              "    <tr>\n",
              "      <th>1653</th>\n",
              "      <td>19</td>\n",
              "      <td>4</td>\n",
              "      <td>1</td>\n",
              "      <td>0</td>\n",
              "      <td>0</td>\n",
              "      <td>1</td>\n",
              "    </tr>\n",
              "    <tr>\n",
              "      <th>2607</th>\n",
              "      <td>15</td>\n",
              "      <td>2</td>\n",
              "      <td>1</td>\n",
              "      <td>1</td>\n",
              "      <td>1</td>\n",
              "      <td>1</td>\n",
              "    </tr>\n",
              "    <tr>\n",
              "      <th>2732</th>\n",
              "      <td>22</td>\n",
              "      <td>3</td>\n",
              "      <td>1</td>\n",
              "      <td>1</td>\n",
              "      <td>1</td>\n",
              "      <td>1</td>\n",
              "    </tr>\n",
              "  </tbody>\n",
              "</table>\n",
              "<p>4180 rows × 6 columns</p>\n",
              "</div>\n",
              "      <button class=\"colab-df-convert\" onclick=\"convertToInteractive('df-6b8d1aec-59ad-411e-9bc6-18a7888a1017')\"\n",
              "              title=\"Convert this dataframe to an interactive table.\"\n",
              "              style=\"display:none;\">\n",
              "        \n",
              "  <svg xmlns=\"http://www.w3.org/2000/svg\" height=\"24px\"viewBox=\"0 0 24 24\"\n",
              "       width=\"24px\">\n",
              "    <path d=\"M0 0h24v24H0V0z\" fill=\"none\"/>\n",
              "    <path d=\"M18.56 5.44l.94 2.06.94-2.06 2.06-.94-2.06-.94-.94-2.06-.94 2.06-2.06.94zm-11 1L8.5 8.5l.94-2.06 2.06-.94-2.06-.94L8.5 2.5l-.94 2.06-2.06.94zm10 10l.94 2.06.94-2.06 2.06-.94-2.06-.94-.94-2.06-.94 2.06-2.06.94z\"/><path d=\"M17.41 7.96l-1.37-1.37c-.4-.4-.92-.59-1.43-.59-.52 0-1.04.2-1.43.59L10.3 9.45l-7.72 7.72c-.78.78-.78 2.05 0 2.83L4 21.41c.39.39.9.59 1.41.59.51 0 1.02-.2 1.41-.59l7.78-7.78 2.81-2.81c.8-.78.8-2.07 0-2.86zM5.41 20L4 18.59l7.72-7.72 1.47 1.35L5.41 20z\"/>\n",
              "  </svg>\n",
              "      </button>\n",
              "      \n",
              "  <style>\n",
              "    .colab-df-container {\n",
              "      display:flex;\n",
              "      flex-wrap:wrap;\n",
              "      gap: 12px;\n",
              "    }\n",
              "\n",
              "    .colab-df-convert {\n",
              "      background-color: #E8F0FE;\n",
              "      border: none;\n",
              "      border-radius: 50%;\n",
              "      cursor: pointer;\n",
              "      display: none;\n",
              "      fill: #1967D2;\n",
              "      height: 32px;\n",
              "      padding: 0 0 0 0;\n",
              "      width: 32px;\n",
              "    }\n",
              "\n",
              "    .colab-df-convert:hover {\n",
              "      background-color: #E2EBFA;\n",
              "      box-shadow: 0px 1px 2px rgba(60, 64, 67, 0.3), 0px 1px 3px 1px rgba(60, 64, 67, 0.15);\n",
              "      fill: #174EA6;\n",
              "    }\n",
              "\n",
              "    [theme=dark] .colab-df-convert {\n",
              "      background-color: #3B4455;\n",
              "      fill: #D2E3FC;\n",
              "    }\n",
              "\n",
              "    [theme=dark] .colab-df-convert:hover {\n",
              "      background-color: #434B5C;\n",
              "      box-shadow: 0px 1px 3px 1px rgba(0, 0, 0, 0.15);\n",
              "      filter: drop-shadow(0px 1px 2px rgba(0, 0, 0, 0.3));\n",
              "      fill: #FFFFFF;\n",
              "    }\n",
              "  </style>\n",
              "\n",
              "      <script>\n",
              "        const buttonEl =\n",
              "          document.querySelector('#df-6b8d1aec-59ad-411e-9bc6-18a7888a1017 button.colab-df-convert');\n",
              "        buttonEl.style.display =\n",
              "          google.colab.kernel.accessAllowed ? 'block' : 'none';\n",
              "\n",
              "        async function convertToInteractive(key) {\n",
              "          const element = document.querySelector('#df-6b8d1aec-59ad-411e-9bc6-18a7888a1017');\n",
              "          const dataTable =\n",
              "            await google.colab.kernel.invokeFunction('convertToInteractive',\n",
              "                                                     [key], {});\n",
              "          if (!dataTable) return;\n",
              "\n",
              "          const docLinkHtml = 'Like what you see? Visit the ' +\n",
              "            '<a target=\"_blank\" href=https://colab.research.google.com/notebooks/data_table.ipynb>data table notebook</a>'\n",
              "            + ' to learn more about interactive tables.';\n",
              "          element.innerHTML = '';\n",
              "          dataTable['output_type'] = 'display_data';\n",
              "          await google.colab.output.renderOutput(dataTable, element);\n",
              "          const docLink = document.createElement('div');\n",
              "          docLink.innerHTML = docLinkHtml;\n",
              "          element.appendChild(docLink);\n",
              "        }\n",
              "      </script>\n",
              "    </div>\n",
              "  </div>\n",
              "  "
            ]
          },
          "metadata": {},
          "execution_count": 33
        }
      ]
    },
    {
      "cell_type": "code",
      "source": [
        "y_train"
      ],
      "metadata": {
        "colab": {
          "base_uri": "https://localhost:8080/"
        },
        "id": "9vse1uof4DVI",
        "outputId": "631f9b44-f982-406d-94b4-d5ef85076855"
      },
      "id": "9vse1uof4DVI",
      "execution_count": 34,
      "outputs": [
        {
          "output_type": "execute_result",
          "data": {
            "text/plain": [
              "3635    1\n",
              "4046    1\n",
              "1784    0\n",
              "3787    1\n",
              "1688    1\n",
              "       ..\n",
              "4931    1\n",
              "3264    1\n",
              "1653    1\n",
              "2607    1\n",
              "2732    1\n",
              "Name: released_binary, Length: 4180, dtype: int64"
            ]
          },
          "metadata": {},
          "execution_count": 34
        }
      ]
    },
    {
      "cell_type": "code",
      "source": [
        "print(train_X.shape)\n",
        "train_X\n",
        "print(test_X.shape)\n",
        "test_X"
      ],
      "metadata": {
        "colab": {
          "base_uri": "https://localhost:8080/",
          "height": 303
        },
        "id": "TcDiJqKV65HH",
        "outputId": "c90dd34c-ecc5-4ad1-86ea-17cc89560721"
      },
      "id": "TcDiJqKV65HH",
      "execution_count": 35,
      "outputs": [
        {
          "output_type": "stream",
          "name": "stdout",
          "text": [
            "(6, 4180)\n",
            "(6, 1046)\n"
          ]
        },
        {
          "output_type": "execute_result",
          "data": {
            "text/plain": [
              "                 678   4593  1161  2325  3773  2899  265   4930  2552  4230  \\\n",
              "age                19    48    22    19    19    29    19    22    15    18   \n",
              "checks              4     1     4     0     0     4     0     0     1     0   \n",
              "colour_binary       0     1     1     1     1     1     1     1     1     1   \n",
              "sex_binary          1     1     1     1     1     1     1     1     1     1   \n",
              "employed_binary     0     1     0     1     1     1     1     1     1     1   \n",
              "citizen_binary      1     1     1     1     1     1     1     1     1     1   \n",
              "\n",
              "                 ...  3921  5013  1922  5170  45    2539  87    4889  3431  \\\n",
              "age              ...    24    21    16    21    21    23    33    37    14   \n",
              "checks           ...     1     1     0     2     1     3     2     4     1   \n",
              "colour_binary    ...     1     1     1     0     1     0     1     0     1   \n",
              "sex_binary       ...     1     1     1     1     1     1     1     1     1   \n",
              "employed_binary  ...     1     1     1     0     1     0     1     1     0   \n",
              "citizen_binary   ...     1     1     1     0     0     1     1     1     1   \n",
              "\n",
              "                 4855  \n",
              "age                17  \n",
              "checks              0  \n",
              "colour_binary       0  \n",
              "sex_binary          1  \n",
              "employed_binary     1  \n",
              "citizen_binary      1  \n",
              "\n",
              "[6 rows x 1046 columns]"
            ],
            "text/html": [
              "\n",
              "  <div id=\"df-756e16d8-bf42-4a67-82b4-09165a494236\">\n",
              "    <div class=\"colab-df-container\">\n",
              "      <div>\n",
              "<style scoped>\n",
              "    .dataframe tbody tr th:only-of-type {\n",
              "        vertical-align: middle;\n",
              "    }\n",
              "\n",
              "    .dataframe tbody tr th {\n",
              "        vertical-align: top;\n",
              "    }\n",
              "\n",
              "    .dataframe thead th {\n",
              "        text-align: right;\n",
              "    }\n",
              "</style>\n",
              "<table border=\"1\" class=\"dataframe\">\n",
              "  <thead>\n",
              "    <tr style=\"text-align: right;\">\n",
              "      <th></th>\n",
              "      <th>678</th>\n",
              "      <th>4593</th>\n",
              "      <th>1161</th>\n",
              "      <th>2325</th>\n",
              "      <th>3773</th>\n",
              "      <th>2899</th>\n",
              "      <th>265</th>\n",
              "      <th>4930</th>\n",
              "      <th>2552</th>\n",
              "      <th>4230</th>\n",
              "      <th>...</th>\n",
              "      <th>3921</th>\n",
              "      <th>5013</th>\n",
              "      <th>1922</th>\n",
              "      <th>5170</th>\n",
              "      <th>45</th>\n",
              "      <th>2539</th>\n",
              "      <th>87</th>\n",
              "      <th>4889</th>\n",
              "      <th>3431</th>\n",
              "      <th>4855</th>\n",
              "    </tr>\n",
              "  </thead>\n",
              "  <tbody>\n",
              "    <tr>\n",
              "      <th>age</th>\n",
              "      <td>19</td>\n",
              "      <td>48</td>\n",
              "      <td>22</td>\n",
              "      <td>19</td>\n",
              "      <td>19</td>\n",
              "      <td>29</td>\n",
              "      <td>19</td>\n",
              "      <td>22</td>\n",
              "      <td>15</td>\n",
              "      <td>18</td>\n",
              "      <td>...</td>\n",
              "      <td>24</td>\n",
              "      <td>21</td>\n",
              "      <td>16</td>\n",
              "      <td>21</td>\n",
              "      <td>21</td>\n",
              "      <td>23</td>\n",
              "      <td>33</td>\n",
              "      <td>37</td>\n",
              "      <td>14</td>\n",
              "      <td>17</td>\n",
              "    </tr>\n",
              "    <tr>\n",
              "      <th>checks</th>\n",
              "      <td>4</td>\n",
              "      <td>1</td>\n",
              "      <td>4</td>\n",
              "      <td>0</td>\n",
              "      <td>0</td>\n",
              "      <td>4</td>\n",
              "      <td>0</td>\n",
              "      <td>0</td>\n",
              "      <td>1</td>\n",
              "      <td>0</td>\n",
              "      <td>...</td>\n",
              "      <td>1</td>\n",
              "      <td>1</td>\n",
              "      <td>0</td>\n",
              "      <td>2</td>\n",
              "      <td>1</td>\n",
              "      <td>3</td>\n",
              "      <td>2</td>\n",
              "      <td>4</td>\n",
              "      <td>1</td>\n",
              "      <td>0</td>\n",
              "    </tr>\n",
              "    <tr>\n",
              "      <th>colour_binary</th>\n",
              "      <td>0</td>\n",
              "      <td>1</td>\n",
              "      <td>1</td>\n",
              "      <td>1</td>\n",
              "      <td>1</td>\n",
              "      <td>1</td>\n",
              "      <td>1</td>\n",
              "      <td>1</td>\n",
              "      <td>1</td>\n",
              "      <td>1</td>\n",
              "      <td>...</td>\n",
              "      <td>1</td>\n",
              "      <td>1</td>\n",
              "      <td>1</td>\n",
              "      <td>0</td>\n",
              "      <td>1</td>\n",
              "      <td>0</td>\n",
              "      <td>1</td>\n",
              "      <td>0</td>\n",
              "      <td>1</td>\n",
              "      <td>0</td>\n",
              "    </tr>\n",
              "    <tr>\n",
              "      <th>sex_binary</th>\n",
              "      <td>1</td>\n",
              "      <td>1</td>\n",
              "      <td>1</td>\n",
              "      <td>1</td>\n",
              "      <td>1</td>\n",
              "      <td>1</td>\n",
              "      <td>1</td>\n",
              "      <td>1</td>\n",
              "      <td>1</td>\n",
              "      <td>1</td>\n",
              "      <td>...</td>\n",
              "      <td>1</td>\n",
              "      <td>1</td>\n",
              "      <td>1</td>\n",
              "      <td>1</td>\n",
              "      <td>1</td>\n",
              "      <td>1</td>\n",
              "      <td>1</td>\n",
              "      <td>1</td>\n",
              "      <td>1</td>\n",
              "      <td>1</td>\n",
              "    </tr>\n",
              "    <tr>\n",
              "      <th>employed_binary</th>\n",
              "      <td>0</td>\n",
              "      <td>1</td>\n",
              "      <td>0</td>\n",
              "      <td>1</td>\n",
              "      <td>1</td>\n",
              "      <td>1</td>\n",
              "      <td>1</td>\n",
              "      <td>1</td>\n",
              "      <td>1</td>\n",
              "      <td>1</td>\n",
              "      <td>...</td>\n",
              "      <td>1</td>\n",
              "      <td>1</td>\n",
              "      <td>1</td>\n",
              "      <td>0</td>\n",
              "      <td>1</td>\n",
              "      <td>0</td>\n",
              "      <td>1</td>\n",
              "      <td>1</td>\n",
              "      <td>0</td>\n",
              "      <td>1</td>\n",
              "    </tr>\n",
              "    <tr>\n",
              "      <th>citizen_binary</th>\n",
              "      <td>1</td>\n",
              "      <td>1</td>\n",
              "      <td>1</td>\n",
              "      <td>1</td>\n",
              "      <td>1</td>\n",
              "      <td>1</td>\n",
              "      <td>1</td>\n",
              "      <td>1</td>\n",
              "      <td>1</td>\n",
              "      <td>1</td>\n",
              "      <td>...</td>\n",
              "      <td>1</td>\n",
              "      <td>1</td>\n",
              "      <td>1</td>\n",
              "      <td>0</td>\n",
              "      <td>0</td>\n",
              "      <td>1</td>\n",
              "      <td>1</td>\n",
              "      <td>1</td>\n",
              "      <td>1</td>\n",
              "      <td>1</td>\n",
              "    </tr>\n",
              "  </tbody>\n",
              "</table>\n",
              "<p>6 rows × 1046 columns</p>\n",
              "</div>\n",
              "      <button class=\"colab-df-convert\" onclick=\"convertToInteractive('df-756e16d8-bf42-4a67-82b4-09165a494236')\"\n",
              "              title=\"Convert this dataframe to an interactive table.\"\n",
              "              style=\"display:none;\">\n",
              "        \n",
              "  <svg xmlns=\"http://www.w3.org/2000/svg\" height=\"24px\"viewBox=\"0 0 24 24\"\n",
              "       width=\"24px\">\n",
              "    <path d=\"M0 0h24v24H0V0z\" fill=\"none\"/>\n",
              "    <path d=\"M18.56 5.44l.94 2.06.94-2.06 2.06-.94-2.06-.94-.94-2.06-.94 2.06-2.06.94zm-11 1L8.5 8.5l.94-2.06 2.06-.94-2.06-.94L8.5 2.5l-.94 2.06-2.06.94zm10 10l.94 2.06.94-2.06 2.06-.94-2.06-.94-.94-2.06-.94 2.06-2.06.94z\"/><path d=\"M17.41 7.96l-1.37-1.37c-.4-.4-.92-.59-1.43-.59-.52 0-1.04.2-1.43.59L10.3 9.45l-7.72 7.72c-.78.78-.78 2.05 0 2.83L4 21.41c.39.39.9.59 1.41.59.51 0 1.02-.2 1.41-.59l7.78-7.78 2.81-2.81c.8-.78.8-2.07 0-2.86zM5.41 20L4 18.59l7.72-7.72 1.47 1.35L5.41 20z\"/>\n",
              "  </svg>\n",
              "      </button>\n",
              "      \n",
              "  <style>\n",
              "    .colab-df-container {\n",
              "      display:flex;\n",
              "      flex-wrap:wrap;\n",
              "      gap: 12px;\n",
              "    }\n",
              "\n",
              "    .colab-df-convert {\n",
              "      background-color: #E8F0FE;\n",
              "      border: none;\n",
              "      border-radius: 50%;\n",
              "      cursor: pointer;\n",
              "      display: none;\n",
              "      fill: #1967D2;\n",
              "      height: 32px;\n",
              "      padding: 0 0 0 0;\n",
              "      width: 32px;\n",
              "    }\n",
              "\n",
              "    .colab-df-convert:hover {\n",
              "      background-color: #E2EBFA;\n",
              "      box-shadow: 0px 1px 2px rgba(60, 64, 67, 0.3), 0px 1px 3px 1px rgba(60, 64, 67, 0.15);\n",
              "      fill: #174EA6;\n",
              "    }\n",
              "\n",
              "    [theme=dark] .colab-df-convert {\n",
              "      background-color: #3B4455;\n",
              "      fill: #D2E3FC;\n",
              "    }\n",
              "\n",
              "    [theme=dark] .colab-df-convert:hover {\n",
              "      background-color: #434B5C;\n",
              "      box-shadow: 0px 1px 3px 1px rgba(0, 0, 0, 0.15);\n",
              "      filter: drop-shadow(0px 1px 2px rgba(0, 0, 0, 0.3));\n",
              "      fill: #FFFFFF;\n",
              "    }\n",
              "  </style>\n",
              "\n",
              "      <script>\n",
              "        const buttonEl =\n",
              "          document.querySelector('#df-756e16d8-bf42-4a67-82b4-09165a494236 button.colab-df-convert');\n",
              "        buttonEl.style.display =\n",
              "          google.colab.kernel.accessAllowed ? 'block' : 'none';\n",
              "\n",
              "        async function convertToInteractive(key) {\n",
              "          const element = document.querySelector('#df-756e16d8-bf42-4a67-82b4-09165a494236');\n",
              "          const dataTable =\n",
              "            await google.colab.kernel.invokeFunction('convertToInteractive',\n",
              "                                                     [key], {});\n",
              "          if (!dataTable) return;\n",
              "\n",
              "          const docLinkHtml = 'Like what you see? Visit the ' +\n",
              "            '<a target=\"_blank\" href=https://colab.research.google.com/notebooks/data_table.ipynb>data table notebook</a>'\n",
              "            + ' to learn more about interactive tables.';\n",
              "          element.innerHTML = '';\n",
              "          dataTable['output_type'] = 'display_data';\n",
              "          await google.colab.output.renderOutput(dataTable, element);\n",
              "          const docLink = document.createElement('div');\n",
              "          docLink.innerHTML = docLinkHtml;\n",
              "          element.appendChild(docLink);\n",
              "        }\n",
              "      </script>\n",
              "    </div>\n",
              "  </div>\n",
              "  "
            ]
          },
          "metadata": {},
          "execution_count": 35
        }
      ]
    },
    {
      "cell_type": "code",
      "source": [
        "print(train_Y.shape)\n",
        "train_Y\n",
        "print(test_Y.shape)\n",
        "test_Y"
      ],
      "metadata": {
        "colab": {
          "base_uri": "https://localhost:8080/"
        },
        "id": "eH4jgkA363GM",
        "outputId": "ea3ee3c7-0141-4406-b6d4-1aa6187673bb"
      },
      "id": "eH4jgkA363GM",
      "execution_count": 36,
      "outputs": [
        {
          "output_type": "stream",
          "name": "stdout",
          "text": [
            "(1, 4180)\n",
            "(1, 1046)\n"
          ]
        },
        {
          "output_type": "execute_result",
          "data": {
            "text/plain": [
              "array([[1, 1, 1, ..., 1, 1, 1]])"
            ]
          },
          "metadata": {},
          "execution_count": 36
        }
      ]
    },
    {
      "cell_type": "markdown",
      "metadata": {
        "id": "PMcmfo2tGmLJ"
      },
      "source": [
        "# Model Building"
      ],
      "id": "PMcmfo2tGmLJ"
    },
    {
      "cell_type": "markdown",
      "metadata": {
        "id": "Cbig2DljjIae"
      },
      "source": [
        "## Neural Network Model"
      ],
      "id": "Cbig2DljjIae"
    },
    {
      "cell_type": "markdown",
      "metadata": {
        "id": "GduwIqJXkMqy"
      },
      "source": [
        "### Initialization\n",
        "A well-chosen initialization can:\n",
        "- Speed up the convergence of gradient descent\n",
        "- Increase the odds of gradient descent converging to a lower training (and generalization) error"
      ],
      "id": "GduwIqJXkMqy"
    },
    {
      "cell_type": "code",
      "source": [
        "import init_utils as util"
      ],
      "metadata": {
        "id": "gpAwtLj6cZU5"
      },
      "id": "gpAwtLj6cZU5",
      "execution_count": 37,
      "outputs": []
    },
    {
      "cell_type": "code",
      "execution_count": 38,
      "metadata": {
        "id": "EYTtM6mA02og"
      },
      "outputs": [],
      "source": [
        "def initialization_model(X, Y, learning_rate = 0.01, num_iterations = 15000, print_cost = True, initialization = \"he\"):\n",
        "    \"\"\"\n",
        "    Implements a three-layer neural network: LINEAR->RELU->LINEAR->RELU->LINEAR->SIGMOID.\n",
        "\n",
        "    Arguments:\n",
        "    X -- input data, of shape (2, number of examples)\n",
        "    Y -- true \"label\" vector (containing 0 for red dots; 1 for blue dots), of shape (1, number of examples)\n",
        "    learning_rate -- learning rate for gradient descent\n",
        "    num_iterations -- number of iterations to run gradient descent\n",
        "    print_cost -- if True, print the cost every 1000 iterations\n",
        "    initialization -- flag to choose which initialization to use (\"zeros\",\"random\" or \"he\")\n",
        "\n",
        "    Returns:\n",
        "    parameters -- parameters learnt by the model\n",
        "    \"\"\"\n",
        "\n",
        "    grads = {}\n",
        "    costs = [] # to keep track of the loss\n",
        "    m = X.shape[1] # number of examples\n",
        "    layers_dims = [X.shape[0], 10, 5, 1]\n",
        "\n",
        "    # Initialize parameters dictionary.\n",
        "    if initialization == \"zeros\":\n",
        "        parameters = initialize_parameters_zeros(layers_dims)\n",
        "    elif initialization == \"random\":\n",
        "        parameters = initialize_parameters_random(layers_dims)\n",
        "    elif initialization == \"he\":\n",
        "        parameters = initialize_parameters_he(layers_dims)\n",
        "    elif initialization == \"uniform\":\n",
        "        parameters = initialize_parameters_uniform(layers_dims)\n",
        "    elif initialization == \"xavier\":\n",
        "        parameters = initialize_parameters_xavier(layers_dims)\n",
        "\n",
        "    # Loop (gradient descent)\n",
        "    for i in range(num_iterations):\n",
        "\n",
        "        # Forward propagation: LINEAR -> RELU -> LINEAR -> RELU -> LINEAR -> SIGMOID.\n",
        "        a3, cache = util.forward_propagation(X, parameters)\n",
        "        # Loss\n",
        "        cost = util.compute_loss(a3, Y)\n",
        "        # Backward propagation.\n",
        "        grads = util.backward_propagation(X, Y, cache)\n",
        "        # Update parameters.\n",
        "        parameters = util.update_parameters(parameters, grads, learning_rate)\n",
        "        # Print the loss every 1000 iterations\n",
        "        if print_cost and i % 1000 == 0:\n",
        "            print(\"Cost after iteration {}: {}\".format(i, cost))\n",
        "            costs.append(cost)\n",
        "\n",
        "    # plot the loss\n",
        "    plt.plot(costs)\n",
        "    plt.ylabel('cost')\n",
        "    plt.xlabel('iterations (per hundreds)')\n",
        "    plt.title(\"Learning rate =\" + str(learning_rate))\n",
        "    plt.show()\n",
        "\n",
        "    return parameters"
      ],
      "id": "EYTtM6mA02og"
    },
    {
      "cell_type": "markdown",
      "metadata": {
        "id": "YuL_oLpaTm_V"
      },
      "source": [
        "#### Zero Initialization"
      ],
      "id": "YuL_oLpaTm_V"
    },
    {
      "cell_type": "code",
      "execution_count": 40,
      "metadata": {
        "id": "P_BKNOJx21SO"
      },
      "outputs": [],
      "source": [
        "# GRADED FUNCTION: initialize_parameters_zeros\n",
        "def initialize_parameters_zeros(layers_dims):\n",
        "    \"\"\"\n",
        "    Arguments:\n",
        "    layer_dims -- python array (list) containing the size of each layer.\n",
        "\n",
        "    Returns:\n",
        "    parameters -- python dictionary containing your parameters \"W1\", \"b1\", ..., \"WL\", \"bL\":\n",
        "                    W1 -- weight matrix of shape (layers_dims[1], layers_dims[0])\n",
        "                    b1 -- bias vector of shape (layers_dims[1], 1)\n",
        "                    ...\n",
        "                    WL -- weight matrix of shape (layers_dims[L], layers_dims[L-1])\n",
        "                    bL -- bias vector of shape (layers_dims[L], 1)\n",
        "    \"\"\"\n",
        "\n",
        "    parameters = {}\n",
        "    L = len(layers_dims)            # number of layers in the network\n",
        "\n",
        "    for l in range(1, L):\n",
        "        parameters['W' + str(l)] = np.zeros((layers_dims[l], layers_dims[l - 1]))\n",
        "        parameters['b' + str(l)] = np.zeros((layers_dims[l], 1))\n",
        "    return parameters"
      ],
      "id": "P_BKNOJx21SO"
    },
    {
      "cell_type": "code",
      "execution_count": 41,
      "metadata": {
        "colab": {
          "base_uri": "https://localhost:8080/",
          "height": 834
        },
        "id": "jhI5HIr_6R1K",
        "outputId": "1b250efc-9506-49f0-a359-e1344a17360a"
      },
      "outputs": [
        {
          "output_type": "stream",
          "name": "stdout",
          "text": [
            "Cost after iteration 0: 0.6931471805599452\n",
            "Cost after iteration 1000: 0.45888847059850113\n",
            "Cost after iteration 2000: 0.4532896384090496\n",
            "Cost after iteration 3000: 0.4530088729860962\n",
            "Cost after iteration 4000: 0.45299255177770165\n",
            "Cost after iteration 5000: 0.4529915700333713\n",
            "Cost after iteration 6000: 0.4529915104882374\n",
            "Cost after iteration 7000: 0.45299150686931766\n",
            "Cost after iteration 8000: 0.4529915066492636\n",
            "Cost after iteration 9000: 0.4529915066358812\n",
            "Cost after iteration 10000: 0.45299150663506726\n",
            "Cost after iteration 11000: 0.45299150663501775\n",
            "Cost after iteration 12000: 0.45299150663501475\n",
            "Cost after iteration 13000: 0.4529915066350145\n",
            "Cost after iteration 14000: 0.4529915066350146\n"
          ]
        },
        {
          "output_type": "display_data",
          "data": {
            "text/plain": [
              "<Figure size 700x500 with 1 Axes>"
            ],
            "image/png": "[encoded data removed]"
          },
          "metadata": {}
        },
        {
          "output_type": "stream",
          "name": "stdout",
          "text": [
            "On the train set:\n",
            "Accuracy: 0.8318181818181818\n",
            "On the test set:\n",
            "Accuracy: 0.8193116634799236\n"
          ]
        }
      ],
      "source": [
        "parameters = initialization_model(train_X, train_Y, initialization = \"zeros\")\n",
        "print (\"On the train set:\")\n",
        "predictions_train = util.predict(train_X, train_Y, parameters)\n",
        "print (\"On the test set:\")\n",
        "predictions_test = util.predict(test_X, test_Y, parameters)"
      ],
      "id": "jhI5HIr_6R1K"
    },
    {
      "cell_type": "markdown",
      "metadata": {
        "id": "2hhuTp3lTuGK"
      },
      "source": [
        "#### Random Initialization"
      ],
      "id": "2hhuTp3lTuGK"
    },
    {
      "cell_type": "code",
      "execution_count": 42,
      "metadata": {
        "id": "q3TT7x0U24_q"
      },
      "outputs": [],
      "source": [
        "# GRADED FUNCTION: initialize_parameters_random\n",
        "def initialize_parameters_random(layers_dims):\n",
        "    \"\"\"\n",
        "    Arguments:\n",
        "    layer_dims -- python array (list) containing the size of each layer.\n",
        "\n",
        "    Returns:\n",
        "    parameters -- python dictionary containing your parameters \"W1\", \"b1\", ..., \"WL\", \"bL\":\n",
        "                    W1 -- weight matrix of shape (layers_dims[1], layers_dims[0])\n",
        "                    b1 -- bias vector of shape (layers_dims[1], 1)\n",
        "                    ...\n",
        "                    WL -- weight matrix of shape (layers_dims[L], layers_dims[L-1])\n",
        "                    bL -- bias vector of shape (layers_dims[L], 1)\n",
        "    \"\"\"\n",
        "\n",
        "    np.random.seed(3)               # This seed makes sure your \"random\" numbers will be the as ours\n",
        "    parameters = {}\n",
        "    L = len(layers_dims)            # integer representing the number of layers\n",
        "\n",
        "    for l in range(1, L):\n",
        "        parameters['W' + str(l)] = np.random.randn(layers_dims[l], layers_dims[l - 1]) * 10\n",
        "        parameters['b' + str(l)] = np.zeros((layers_dims[l], 1))\n",
        "\n",
        "    return parameters"
      ],
      "id": "q3TT7x0U24_q"
    },
    {
      "cell_type": "code",
      "execution_count": 43,
      "metadata": {
        "colab": {
          "base_uri": "https://localhost:8080/",
          "height": 834
        },
        "id": "RTJquBkQHj2X",
        "outputId": "b7a433a3-6968-4981-e9b2-4b58065685ea"
      },
      "outputs": [
        {
          "output_type": "stream",
          "name": "stdout",
          "text": [
            "Cost after iteration 0: inf\n",
            "Cost after iteration 1000: 0.4588863987101587\n",
            "Cost after iteration 2000: 0.4532895428706584\n",
            "Cost after iteration 3000: 0.4530088675395788\n",
            "Cost after iteration 4000: 0.4529925514516332\n",
            "Cost after iteration 5000: 0.45299157001361745\n",
            "Cost after iteration 6000: 0.45299151048703723\n",
            "Cost after iteration 7000: 0.45299150686924483\n",
            "Cost after iteration 8000: 0.45299150664925925\n",
            "Cost after iteration 9000: 0.4529915066358809\n",
            "Cost after iteration 10000: 0.45299150663506726\n",
            "Cost after iteration 11000: 0.45299150663501775\n",
            "Cost after iteration 12000: 0.4529915066350147\n",
            "Cost after iteration 13000: 0.45299150663501464\n",
            "Cost after iteration 14000: 0.4529915066350146\n"
          ]
        },
        {
          "output_type": "display_data",
          "data": {
            "text/plain": [
              "<Figure size 700x500 with 1 Axes>"
            ],
            "image/png": "[encoded data removed]"
          },
          "metadata": {}
        },
        {
          "output_type": "stream",
          "name": "stdout",
          "text": [
            "On the train set:\n",
            "Accuracy: 0.8318181818181818\n",
            "On the test set:\n",
            "Accuracy: 0.8193116634799236\n"
          ]
        }
      ],
      "source": [
        "parameters = initialization_model(train_X, train_Y, initialization = \"random\")\n",
        "print (\"On the train set:\")\n",
        "predictions_train = util.predict(train_X, train_Y, parameters)\n",
        "print (\"On the test set:\")\n",
        "predictions_test = util.predict(test_X, test_Y, parameters)"
      ],
      "id": "RTJquBkQHj2X"
    },
    {
      "cell_type": "markdown",
      "metadata": {
        "id": "OFQ5GZ-gTw_j"
      },
      "source": [
        "#### He Initialization"
      ],
      "id": "OFQ5GZ-gTw_j"
    },
    {
      "cell_type": "code",
      "execution_count": 44,
      "metadata": {
        "id": "FgQgbwtK27fY"
      },
      "outputs": [],
      "source": [
        "# GRADED FUNCTION: initialize_parameters_he\n",
        "def initialize_parameters_he(layers_dims):\n",
        "    \"\"\"\n",
        "    Arguments:\n",
        "    layer_dims -- python array (list) containing the size of each layer.\n",
        "\n",
        "    Returns:\n",
        "    parameters -- python dictionary containing your parameters \"W1\", \"b1\", ..., \"WL\", \"bL\":\n",
        "                    W1 -- weight matrix of shape (layers_dims[1], layers_dims[0])\n",
        "                    b1 -- bias vector of shape (layers_dims[1], 1)\n",
        "                    ...\n",
        "                    WL -- weight matrix of shape (layers_dims[L], layers_dims[L-1])\n",
        "                    bL -- bias vector of shape (layers_dims[L], 1)\n",
        "    \"\"\"\n",
        "    np.random.seed(3)\n",
        "    parameters = {}\n",
        "    L = len(layers_dims) - 1 # integer representing the number of layers\n",
        "\n",
        "    for l in range(1, L + 1):\n",
        "        parameters['W' + str(l)] = np.random.randn(layers_dims[l], layers_dims[l - 1]) * np.sqrt(2 / layers_dims[l - 1])\n",
        "        parameters['b' + str(l)] = np.zeros((layers_dims[l], 1))\n",
        "\n",
        "    return parameters"
      ],
      "id": "FgQgbwtK27fY"
    },
    {
      "cell_type": "code",
      "execution_count": 45,
      "metadata": {
        "colab": {
          "base_uri": "https://localhost:8080/",
          "height": 834
        },
        "id": "QNXr8A68RwAb",
        "outputId": "b4ac6e03-bc37-4878-b28a-756a8c483db6"
      },
      "outputs": [
        {
          "output_type": "stream",
          "name": "stdout",
          "text": [
            "Cost after iteration 0: 13.771334523752683\n",
            "Cost after iteration 1000: 0.43886217316192233\n",
            "Cost after iteration 2000: 0.42122331619687686\n",
            "Cost after iteration 3000: 0.4135908330605591\n",
            "Cost after iteration 4000: 0.4108781657584914\n",
            "Cost after iteration 5000: 0.40999206159565577\n",
            "Cost after iteration 6000: 0.40944642250434327\n",
            "Cost after iteration 7000: 0.40907699988794927\n",
            "Cost after iteration 8000: 0.4088159860938494\n",
            "Cost after iteration 9000: 0.4086040581834617\n",
            "Cost after iteration 10000: 0.4084397999988271\n",
            "Cost after iteration 11000: 0.4082982653761343\n",
            "Cost after iteration 12000: 0.4081543099390139\n",
            "Cost after iteration 13000: 0.4080566503285968\n",
            "Cost after iteration 14000: 0.4079787739679222\n"
          ]
        },
        {
          "output_type": "display_data",
          "data": {
            "text/plain": [
              "<Figure size 700x500 with 1 Axes>"
            ],
            "image/png": "[encoded data removed]"
          },
          "metadata": {}
        },
        {
          "output_type": "stream",
          "name": "stdout",
          "text": [
            "On the train set:\n",
            "Accuracy: 0.8299043062200957\n",
            "On the test set:\n",
            "Accuracy: 0.8221797323135756\n"
          ]
        }
      ],
      "source": [
        "parameters = initialization_model(train_X, train_Y, initialization = \"he\")\n",
        "print (\"On the train set:\")\n",
        "predictions_train = util.predict(train_X, train_Y, parameters)\n",
        "print (\"On the test set:\")\n",
        "predictions_test = util.predict(test_X, test_Y, parameters)"
      ],
      "id": "QNXr8A68RwAb"
    },
    {
      "cell_type": "markdown",
      "source": [
        "\n",
        "#### Uniform Initalization\n"
      ],
      "metadata": {
        "id": "tZ_nEa8HZj2I"
      },
      "id": "tZ_nEa8HZj2I"
    },
    {
      "cell_type": "code",
      "source": [
        "def initialize_parameters_uniform(layer_dims):\n",
        "    parameters = {}\n",
        "    L = len(layer_dims) - 1  # Number of layers in the network\n",
        "\n",
        "    for l in range(1, L + 1):\n",
        "        parameters['W' + str(l)] = np.random.uniform(low=-0.1, high=0.1, size=(layer_dims[l], layer_dims[l-1]))\n",
        "        parameters['b' + str(l)] = np.zeros((layer_dims[l], 1))\n",
        "\n",
        "    return parameters"
      ],
      "metadata": {
        "id": "I5CkGmxnZ0KS"
      },
      "id": "I5CkGmxnZ0KS",
      "execution_count": 48,
      "outputs": []
    },
    {
      "cell_type": "code",
      "source": [
        "parameters = initialization_model(train_X, train_Y, initialization = \"he\")\n",
        "print (\"On the train set:\")\n",
        "predictions_train = util.predict(train_X, train_Y, parameters)\n",
        "print (\"On the test set:\")\n",
        "predictions_test = util.predict(test_X, test_Y, parameters)"
      ],
      "metadata": {
        "colab": {
          "base_uri": "https://localhost:8080/",
          "height": 834
        },
        "id": "aWM76PyjaPyQ",
        "outputId": "8345a6f0-b342-4da2-dca7-669a1da21211"
      },
      "id": "aWM76PyjaPyQ",
      "execution_count": 49,
      "outputs": [
        {
          "output_type": "stream",
          "name": "stdout",
          "text": [
            "Cost after iteration 0: 13.771334523752683\n",
            "Cost after iteration 1000: 0.43886217316192233\n",
            "Cost after iteration 2000: 0.42122331619687686\n",
            "Cost after iteration 3000: 0.4135908330605591\n",
            "Cost after iteration 4000: 0.4108781657584914\n",
            "Cost after iteration 5000: 0.40999206159565577\n",
            "Cost after iteration 6000: 0.40944642250434327\n",
            "Cost after iteration 7000: 0.40907699988794927\n",
            "Cost after iteration 8000: 0.4088159860938494\n",
            "Cost after iteration 9000: 0.4086040581834617\n",
            "Cost after iteration 10000: 0.4084397999988271\n",
            "Cost after iteration 11000: 0.4082982653761343\n",
            "Cost after iteration 12000: 0.4081543099390139\n",
            "Cost after iteration 13000: 0.4080566503285968\n",
            "Cost after iteration 14000: 0.4079787739679222\n"
          ]
        },
        {
          "output_type": "display_data",
          "data": {
            "text/plain": [
              "<Figure size 700x500 with 1 Axes>"
            ],
            "image/png": "[encoded data removed]"
          },
          "metadata": {}
        },
        {
          "output_type": "stream",
          "name": "stdout",
          "text": [
            "On the train set:\n",
            "Accuracy: 0.8299043062200957\n",
            "On the test set:\n",
            "Accuracy: 0.8221797323135756\n"
          ]
        }
      ]
    },
    {
      "cell_type": "markdown",
      "source": [
        "#### Xavier/Glorot Initialization"
      ],
      "metadata": {
        "id": "A767OxGRa5VI"
      },
      "id": "A767OxGRa5VI"
    },
    {
      "cell_type": "code",
      "source": [
        "def initialize_parameters_xavier(layer_dims):\n",
        "    parameters = {}\n",
        "    L = len(layer_dims) - 1  # Number of layers in the network\n",
        "\n",
        "    for l in range(1, L + 1):\n",
        "        sqrt_dim = np.sqrt(layer_dims[l-1])\n",
        "        parameters['W' + str(l)] = np.random.randn(layer_dims[l], layer_dims[l-1]) / sqrt_dim\n",
        "        parameters['b' + str(l)] = np.zeros((layer_dims[l], 1))\n",
        "\n",
        "    return parameters"
      ],
      "metadata": {
        "id": "0TKu1yHsa9jQ"
      },
      "id": "0TKu1yHsa9jQ",
      "execution_count": 50,
      "outputs": []
    },
    {
      "cell_type": "code",
      "source": [
        "parameters = initialization_model(train_X, train_Y, initialization = \"xavier\")\n",
        "print (\"On the train set:\")\n",
        "predictions_train = util.predict(train_X, train_Y, parameters)\n",
        "print (\"On the test set:\")\n",
        "predictions_test = util.predict(test_X, test_Y, parameters)"
      ],
      "metadata": {
        "colab": {
          "base_uri": "https://localhost:8080/",
          "height": 834
        },
        "id": "pJnJnve3bOJZ",
        "outputId": "dc9adf6c-9a92-443c-81cc-ebd1396fede3"
      },
      "id": "pJnJnve3bOJZ",
      "execution_count": 51,
      "outputs": [
        {
          "output_type": "stream",
          "name": "stdout",
          "text": [
            "Cost after iteration 0: 0.471950659235198\n",
            "Cost after iteration 1000: 0.4126634716931667\n",
            "Cost after iteration 2000: 0.4086250722862006\n",
            "Cost after iteration 3000: 0.4075456611849291\n",
            "Cost after iteration 4000: 0.40710143202795157\n",
            "Cost after iteration 5000: 0.40683183152164476\n",
            "Cost after iteration 6000: 0.4065809952759474\n",
            "Cost after iteration 7000: 0.4064127890171194\n",
            "Cost after iteration 8000: 0.4062897258912011\n",
            "Cost after iteration 9000: 0.40620125436012733\n",
            "Cost after iteration 10000: 0.40615439558696315\n",
            "Cost after iteration 11000: 0.4061118972633801\n",
            "Cost after iteration 12000: 0.406072490899955\n",
            "Cost after iteration 13000: 0.40602832794651017\n",
            "Cost after iteration 14000: 0.405995760457963\n"
          ]
        },
        {
          "output_type": "display_data",
          "data": {
            "text/plain": [
              "<Figure size 700x500 with 1 Axes>"
            ],
            "image/png": "[encoded data removed]"
          },
          "metadata": {}
        },
        {
          "output_type": "stream",
          "name": "stdout",
          "text": [
            "On the train set:\n",
            "Accuracy: 0.8318181818181818\n",
            "On the test set:\n",
            "Accuracy: 0.8193116634799236\n"
          ]
        }
      ]
    },
    {
      "cell_type": "markdown",
      "metadata": {
        "id": "d0C9gt-ZdCkj"
      },
      "source": [
        "#### Comparison"
      ],
      "id": "d0C9gt-ZdCkj"
    },
    {
      "cell_type": "markdown",
      "metadata": {
        "id": "YY64OyKWTHwa"
      },
      "source": [
        "We tested five initialization methods under the same number of iterations and hyperparameters. Here are the results:\n",
        "\n",
        "<table>\n",
        "    <tr>\n",
        "        <td>\n",
        "            <b>Model</b>\n",
        "        </td>\n",
        "        <td>\n",
        "            <b>Train accuracy</b>\n",
        "        </td>\n",
        "        <td>\n",
        "            <b>Test accuracy</b>\n",
        "        </td>\n",
        "        <td>\n",
        "            <b>Problem/Comment</b>\n",
        "        </td>\n",
        "    </tr>\n",
        "        <td>\n",
        "        3-layer NN with zeros initialization\n",
        "        </td>\n",
        "        <td>\n",
        "        70%\n",
        "        </td>\n",
        "        <td>\n",
        "        lack of diversity and a potential for vanishing gradients\n",
        "        </td>\n",
        "    <tr>\n",
        "        <td>\n",
        "        3-layer NN with large random initialization\n",
        "        </td>\n",
        "        <td>\n",
        "        70%\n",
        "        </td>\n",
        "        <td>\n",
        "        unstable and divergent behavior during training\n",
        "        </td>\n",
        "    </tr>\n",
        "    <tr>\n",
        "        <td>\n",
        "        3-layer NN with He initialization\n",
        "        </td>\n",
        "        <td>\n",
        "        80%\n",
        "        </td>\n",
        "        <td>\n",
        "        <b>allows for faster and more stable training. Recommended method. </b>\n",
        "        </td>\n",
        "    </tr>\n",
        "</table>"
      ],
      "id": "YY64OyKWTHwa"
    },
    {
      "cell_type": "markdown",
      "metadata": {
        "id": "q3PsaVrEWdlt"
      },
      "source": [
        "**Zeros initialization**: This method initializes all the weights and biases in the neural network to zero. The resulting accuracy of 70% suggests that this is not a good method for initializing the network, as all the neurons in each layer would have the same output, leading to a lack of diversity and a potential for vanishing gradients. The vanishing gradient problem occurs when the gradients of the cost function with respect to the weights in the initial layers are very small, leading to slow convergence and poor performance.\n",
        "\n",
        "**Large random initialization**: This method initializes the weights and biases in the neural network to large random values. However, the resulting accuracy of 70% suggests that the large random values may have led to the exploding gradient problem, where the gradients of the cost function with respect to the weights in the initial layers become very large, leading to unstable and divergent behavior during training.\n",
        "\n",
        "**He initialization**: This method initializes the weights and biases in the neural network using a heuristic based on the size of the previous layer. The resulting accuracy of 80% suggests that this is the most appropriate initialization method for the network, as it avoids the vanishing and exploding gradient problems and allows for faster and more stable training.\n",
        "\n",
        "**In summary**, the choice of initialization method can have a significant impact on the performance of the neural network. While zeros and large random initialization can lead to the vanishing and exploding gradient problems, respectively, He initialization can provide a good balance between stability and diversity, leading to improved accuracy."
      ],
      "id": "q3PsaVrEWdlt"
    },
    {
      "cell_type": "markdown",
      "source": [
        "We tested five initialization methods under the same number of iterations and hyperparameters. Here are the results:"
      ],
      "metadata": {
        "id": "kaCF9RLOkG3a"
      },
      "id": "kaCF9RLOkG3a"
    },
    {
      "cell_type": "markdown",
      "source": [
        "\n",
        "<table>\n",
        "    <tr>\n",
        "        <td>\n",
        "            <b>Model</b>\n",
        "        </td>\n",
        "        <td>\n",
        "            <b>Train accuracy</b>\n",
        "        </td>\n",
        "        <td>\n",
        "            <b>Test accuracy</b>\n",
        "        </td>\n",
        "        <td>\n",
        "            <b>Problem/Comment</b>\n",
        "        </td>\n",
        "    </tr>\n",
        "        <td>\n",
        "        3-layer NN with zeros initialization\n",
        "        </td>\n",
        "        <td>\n",
        "        83.1%\n",
        "        </td>\n",
        "        <td>\n",
        "        81.9%\n",
        "        </td>\n",
        "        <td>\n",
        "        lack of diversity and a potential for vanishing gradients\n",
        "        </td>\n",
        "    <tr>\n",
        "        <td>\n",
        "        3-layer NN with large random initialization\n",
        "        </td>\n",
        "        <td>\n",
        "        83.1%\n",
        "        </td>\n",
        "        <td>\n",
        "        81.9%\n",
        "        </td>\n",
        "        <td>\n",
        "        unstable and divergent behavior during training\n",
        "        </td>\n",
        "    </tr>\n",
        "    <tr>\n",
        "        <td>\n",
        "        3-layer NN with He initialization\n",
        "        </td>\n",
        "        <td>\n",
        "        83%\n",
        "        </td>\n",
        "        <td>\n",
        "        82.2%\n",
        "        </td>\n",
        "        <td>\n",
        "        <b>allows for faster and more stable training. Recommended method. </b>\n",
        "        </td>\n",
        "    </tr>\n",
        "    <tr>\n",
        "        <td>\n",
        "        3-layer NN with Uniform initialization\n",
        "        </td>\n",
        "        <td>\n",
        "        82.9%\n",
        "        </td>\n",
        "        <td>\n",
        "        82.2%\n",
        "        </td>\n",
        "        <td>\n",
        "        slightly lower accuracy\n",
        "        </td>\n",
        "    </tr>\n",
        "    <tr>\n",
        "        <td>\n",
        "        3-layer NN with Xavier/Glorot initialization\n",
        "        </td>\n",
        "        <td>\n",
        "        83.1%\n",
        "        </td>\n",
        "        <td>\n",
        "        81.9%\n",
        "        </td>\n",
        "        <td>\n",
        "        similarly to other methods, ensuring stable gradients\n",
        "        </td>\n",
        "    </tr>\n",
        "</table>"
      ],
      "metadata": {
        "id": "vWguG9cNkGNp"
      },
      "id": "vWguG9cNkGNp"
    },
    {
      "cell_type": "markdown",
      "source": [
        "\n",
        "- Zero Initialization: Accuracy is 83.1% in train dataset, 81.9% in test dataset\n",
        "- Random Initialization: Accuracy is 83.1% in train dataset, 81.9% in test dataset\n",
        "- He Initialization: Accuracy is 83% in train dataset, 82.2% in dataset\n",
        "- Uniform Initialization: Accuracy is 82.9% in train dataset, 82.2% in dataset\n",
        "- Xavier/Glorot Initialization: Accuracy is 83.1% in train dataset, 81.9% in dataset\n",
        "\n",
        "1. Zero Initialization and Random Initialization:\n",
        "\n",
        "- Both methods have the same accuracy on both the train and test datasets.\n",
        "- These methods set all the initial weights to zero or random values, respectively.\n",
        "- Zero Initialization may hinder the learning process as all neurons start with the same value, leading to symmetric updates. Random Initialization introduces some diversity, but it doesn't seem to significantly impact the model's performance.\n",
        "\n",
        "2. He Initialization:\n",
        "- The train dataset accuracy slightly decreases compared to the previous methods, but the test dataset accuracy improves.\n",
        "- He Initialization scales the initial weights using a factor derived from the number of inputs to each neuron.\n",
        "- This method can help prevent the saturation of neurons and facilitate the learning process, which is evident from the slightly improved test accuracy.\n",
        "\n",
        "3. Uniform Initialization:\n",
        "- The train dataset accuracy is slightly lower than the previous methods, but the test dataset accuracy remains the same.\n",
        "- Uniform Initialization initializes the weights from a uniform distribution.\n",
        "- This method may not provide any significant advantage compared to the other initialization methods based on the given results.\n",
        "\n",
        "4. Xavier/Glorot Initialization:\n",
        "- The accuracy is similar to the Zero Initialization and Random Initialization methods.\n",
        "- Xavier/Glorot Initialization is similar to He Initialization but uses a different scaling factor for the weights.\n",
        "- In this case, it doesn't seem to offer any significant improvement compared to the other methods.\n",
        "\n",
        "\n",
        "**Conclusion**\n",
        "> He Initialization generally performs better on the test dataset, indicating improved generalization. However, the differences in accuracy are small, suggesting that factors like model architecture and dataset also influence performance.\n",
        "\n",
        "> He Initialization is better than other initialization methods for the following reasons:\n",
        "> - Accounting for Activation Functions: He Initialization considers activation functions like ReLU, preventing dead neurons and promoting useful gradient propagation.\n",
        "> - Scaling Based on Fan-In: It scales weights based on the number of inputs, adapting to input variance and maintaining stable gradients.\n",
        "> -  Preventing Saturation and Vanishing/Exploding Gradients: He Initialization prevents gradient issues, ensuring efficient learning and faster convergence.\n",
        "> - Empirical Success: He Initialization has proven effective in various deep learning tasks and is widely used in popular architectures."
      ],
      "metadata": {
        "id": "sK0d_4debqJI"
      },
      "id": "sK0d_4debqJI"
    },
    {
      "cell_type": "markdown",
      "metadata": {
        "id": "_cVjCaQQdQXG"
      },
      "source": [
        "### Regularization"
      ],
      "id": "_cVjCaQQdQXG"
    },
    {
      "cell_type": "markdown",
      "source": [
        "We will use the following neural network (already implemented for you below). This model can be used:\n",
        "- in *regularization mode* -- by setting the `lambd` input to a non-zero value. We use \"`lambd`\" instead of \"`lambda`\" because \"`lambda`\" is a reserved keyword in Python.\n",
        "- in *dropout mode* -- by setting the `keep_prob` to a value less than one"
      ],
      "metadata": {
        "id": "PE8vRNWegHtw"
      },
      "id": "PE8vRNWegHtw"
    },
    {
      "cell_type": "code",
      "source": [
        "import reg_utils as reg"
      ],
      "metadata": {
        "id": "C1x8Lm78Gger"
      },
      "id": "C1x8Lm78Gger",
      "execution_count": 52,
      "outputs": []
    },
    {
      "cell_type": "markdown",
      "metadata": {
        "id": "KlQjsL__0H_v"
      },
      "source": [
        "#### L2 Regularization\n",
        "\n",
        "The standard way to avoid overfitting is called **L2 regularization**. It consists of appropriately modifying your cost function, from:\n",
        "$$J = -\\frac{1}{m} \\sum\\limits_{i = 1}^{m} \\large{(}\\small  y^{(i)}\\log\\left(a^{[L](i)}\\right) + (1-y^{(i)})\\log\\left(1- a^{[L](i)}\\right) \\large{)} \\tag{1}$$\n",
        "To:\n",
        "$$J_{regularized} = \\small \\underbrace{-\\frac{1}{m} \\sum\\limits_{i = 1}^{m} \\large{(}\\small y^{(i)}\\log\\left(a^{[L](i)}\\right) + (1-y^{(i)})\\log\\left(1- a^{[L](i)}\\right) \\large{)} }_\\text{cross-entropy cost} + \\underbrace{\\frac{1}{m} \\frac{\\lambda}{2} \\sum\\limits_l\\sum\\limits_k\\sum\\limits_j W_{k,j}^{[l]2} }_\\text{L2 regularization cost} \\tag{2}$$\n",
        "\n",
        "Let's modify our cost and observe the consequences.\n",
        "\n",
        "<a name='ex-1'></a>\n",
        "### compute_cost_with_regularization\n",
        "Implement `compute_cost_with_regularization()` which computes the cost given by formula (2). To calculate $\\sum\\limits_k\\sum\\limits_j W_{k,j}^{[l]2}$  , use :\n",
        "```python\n",
        "np.sum(np.square(Wl))\n",
        "```\n",
        "Note that we have to do this for $W^{[1]}$, $W^{[2]}$ and $W^{[3]}$, then sum the three terms and multiply by $ \\frac{1}{m} \\frac{\\lambda}{2} $."
      ],
      "id": "KlQjsL__0H_v"
    },
    {
      "cell_type": "code",
      "execution_count": 53,
      "metadata": {
        "id": "lgOuN5kLahOF"
      },
      "outputs": [],
      "source": [
        "def regularization_model(X, Y, learning_rate = 0.03, num_iterations = 30000, print_cost = True, lambd = 0, keep_prob = 1):\n",
        "    \"\"\"\n",
        "    Implements a three-layer neural network: LINEAR->RELU->LINEAR->RELU->LINEAR->SIGMOID.\n",
        "\n",
        "    Arguments:\n",
        "    X -- input data, of shape (input size, number of examples)\n",
        "    Y -- true \"label\" vector (1 for blue dot / 0 for red dot), of shape (output size, number of examples)\n",
        "    learning_rate -- learning rate of the optimization\n",
        "    num_iterations -- number of iterations of the optimization loop\n",
        "    print_cost -- If True, print the cost every 10000 iterations\n",
        "    lambd -- regularization hyperparameter, scalar\n",
        "    keep_prob - probability of keeping a neuron active during drop-out, scalar.\n",
        "\n",
        "    Returns:\n",
        "    parameters -- parameters learned by the model. They can then be used to predict.\n",
        "    \"\"\"\n",
        "\n",
        "    grads = {}\n",
        "    costs = []                            # to keep track of the cost\n",
        "    m = X.shape[1]                        # number of examples\n",
        "    layers_dims = [X.shape[0], 10, 5, 1]\n",
        "\n",
        "    # Initialize parameters dictionary.\n",
        "    parameters = reg.initialize_parameters(layers_dims)\n",
        "    #parameters = initialize_parameters_he(layers_dims)\n",
        "    # Loop (gradient descent)\n",
        "\n",
        "    for i in range(0, num_iterations):\n",
        "\n",
        "        # Forward propagation: LINEAR -> RELU -> LINEAR -> RELU -> LINEAR -> SIGMOID.\n",
        "        if keep_prob == 1:\n",
        "            a3, cache = reg.forward_propagation(X, parameters)\n",
        "        elif keep_prob < 1:\n",
        "            a3, cache = forward_propagation_with_dropout(X, parameters, keep_prob)\n",
        "\n",
        "        # Cost function\n",
        "        if lambd == 0:\n",
        "            cost = reg.compute_cost(a3, Y)\n",
        "        else:\n",
        "            cost = compute_cost_with_regularization(a3, Y, parameters, lambd)\n",
        "\n",
        "        # Backward propagation.\n",
        "        assert (lambd == 0 or keep_prob == 1)   # it is possible to use both L2 regularization and dropout,\n",
        "                                                # but this assignment will only explore one at a time\n",
        "        if lambd == 0 and keep_prob == 1:\n",
        "            grads = reg.backward_propagation(X, Y, cache)\n",
        "        elif lambd != 0:\n",
        "            grads = backward_propagation_with_regularization(X, Y, cache, lambd)\n",
        "        elif keep_prob < 1:\n",
        "            grads = backward_propagation_with_dropout(X, Y, cache, keep_prob)\n",
        "\n",
        "        # Update parameters.\n",
        "        parameters = reg.update_parameters(parameters, grads, learning_rate)\n",
        "\n",
        "        # Print the loss every 10000 iterations\n",
        "        if print_cost and i % 10000 == 0:\n",
        "            print(\"Cost after iteration {}: {}\".format(i, cost))\n",
        "\n",
        "        if print_cost and i % 1000 == 0:\n",
        "            costs.append(cost)\n",
        "\n",
        "    # plot the cost\n",
        "    plt.plot(costs)\n",
        "    plt.ylabel('cost')\n",
        "    plt.xlabel('iterations (x1,000)')\n",
        "    plt.title(\"Learning rate =\" + str(learning_rate))\n",
        "    plt.show()\n",
        "\n",
        "    return parameters, grads"
      ],
      "id": "lgOuN5kLahOF"
    },
    {
      "cell_type": "code",
      "source": [
        "# GRADED FUNCTION: compute_cost_with_regularization\n",
        "def compute_cost_with_regularization(A3, Y, parameters, lambd):\n",
        "    \"\"\"\n",
        "    Implement the cost function with L2 regularization. See formula (2) above.\n",
        "\n",
        "    Arguments:\n",
        "    A3 -- post-activation, output of forward propagation, of shape (output size, number of examples)\n",
        "    Y -- \"true\" labels vector, of shape (output size, number of examples)\n",
        "    parameters -- python dictionary containing parameters of the model\n",
        "\n",
        "    Returns:\n",
        "    cost - value of the regularized loss function (formula (2))\n",
        "    \"\"\"\n",
        "    m = Y.shape[1]\n",
        "    W1 = parameters[\"W1\"]\n",
        "    W2 = parameters[\"W2\"]\n",
        "    W3 = parameters[\"W3\"]\n",
        "\n",
        "    cross_entropy_cost = reg.compute_cost(A3, Y) # This gives you the cross-entropy part of the cost\n",
        "\n",
        "    #(≈ 1 lines of code)\n",
        "    L2_regularization_cost = lambd * (np.sum(np.square(W1)) + np.sum(np.square(W2)) + np.sum(np.square(W3))) / (2 * m)\n",
        "    cost = cross_entropy_cost + L2_regularization_cost\n",
        "\n",
        "    return cost"
      ],
      "metadata": {
        "id": "rSSkW7NpIp4_"
      },
      "id": "rSSkW7NpIp4_",
      "execution_count": 54,
      "outputs": []
    },
    {
      "cell_type": "markdown",
      "source": [
        "##### Backward Propagation"
      ],
      "metadata": {
        "id": "Uuh2UxHPd6Ro"
      },
      "id": "Uuh2UxHPd6Ro"
    },
    {
      "cell_type": "code",
      "source": [
        "# GRADED FUNCTION: backward_propagation_with_regularization\n",
        "def backward_propagation_with_regularization(X, Y, cache, lambd):\n",
        "    \"\"\"\n",
        "    Implements the backward propagation of our baseline model to which we added an L2 regularization.\n",
        "\n",
        "    Arguments:\n",
        "    X -- input dataset, of shape (input size, number of examples)\n",
        "    Y -- \"true\" labels vector, of shape (output size, number of examples)\n",
        "    cache -- cache output from forward_propagation()\n",
        "    lambd -- regularization hyperparameter, scalar\n",
        "\n",
        "    Returns:\n",
        "    gradients -- A dictionary with the gradients with respect to each parameter, activation and pre-activation variables\n",
        "    \"\"\"\n",
        "\n",
        "    m = X.shape[1]\n",
        "    (Z1, A1, W1, b1, Z2, A2, W2, b2, Z3, A3, W3, b3) = cache\n",
        "\n",
        "    dZ3 = A3 - Y\n",
        "    #(≈ 1 lines of code)\n",
        "    dW3 = 1. / m * np.dot(dZ3, A2.T) + (lambd * W3) / m\n",
        "    db3 = 1. / m * np.sum(dZ3, axis=1, keepdims=True)\n",
        "\n",
        "    dA2 = np.dot(W3.T, dZ3)\n",
        "    dZ2 = np.multiply(dA2, np.int64(A2 > 0))\n",
        "\n",
        "    #(≈ 1 lines of code)\n",
        "    dW2 = 1. / m * np.dot(dZ2, A1.T) + (lambd * W2) / m\n",
        "    db2 = 1. / m * np.sum(dZ2, axis=1, keepdims=True)\n",
        "\n",
        "    dA1 = np.dot(W2.T, dZ2)\n",
        "    dZ1 = np.multiply(dA1, np.int64(A1 > 0))\n",
        "\n",
        "    #(≈ 1 lines of code)\n",
        "    dW1 = 1. / m * np.dot(dZ1, X.T) + (lambd * W1) / m\n",
        "    db1 = 1. / m * np.sum(dZ1, axis=1, keepdims=True)\n",
        "\n",
        "    gradients = {\"dZ3\": dZ3, \"dW3\": dW3, \"db3\": db3,\"dA2\": dA2,\n",
        "                 \"dZ2\": dZ2, \"dW2\": dW2, \"db2\": db2, \"dA1\": dA1,\n",
        "                 \"dZ1\": dZ1, \"dW1\": dW1, \"db1\": db1}\n",
        "\n",
        "    return gradients"
      ],
      "metadata": {
        "id": "wp9x0gCjIt6k"
      },
      "id": "wp9x0gCjIt6k",
      "execution_count": 55,
      "outputs": []
    },
    {
      "cell_type": "code",
      "source": [
        "parameters_ , _ = regularization_model(train_X, train_Y, lambd = 0.6)\n",
        "print (\"On the train set:\")\n",
        "predictions_train = reg.predict(train_X, train_Y, parameters_)\n",
        "print (\"On the test set:\")\n",
        "predictions_test = reg.predict(test_X, test_Y, parameters_)"
      ],
      "metadata": {
        "id": "8XvTYTgT3Chm",
        "colab": {
          "base_uri": "https://localhost:8080/",
          "height": 615
        },
        "outputId": "2bc7d409-5f02-4f1a-d186-9b1d36b7a356"
      },
      "id": "8XvTYTgT3Chm",
      "execution_count": 56,
      "outputs": [
        {
          "output_type": "stream",
          "name": "stdout",
          "text": [
            "Cost after iteration 0: 4.878214528376871\n",
            "Cost after iteration 10000: 0.40598163636261597\n",
            "Cost after iteration 20000: 0.4053337580532956\n"
          ]
        },
        {
          "output_type": "display_data",
          "data": {
            "text/plain": [
              "<Figure size 700x500 with 1 Axes>"
            ],
            "image/png": "[encoded data removed]"
          },
          "metadata": {}
        },
        {
          "output_type": "stream",
          "name": "stdout",
          "text": [
            "On the train set:\n",
            "Accuracy: 0.8322966507177033\n",
            "On the test set:\n",
            "Accuracy: 0.8212237093690249\n"
          ]
        }
      ]
    },
    {
      "cell_type": "markdown",
      "source": [
        "#### ElasticNet Regularization"
      ],
      "metadata": {
        "id": "96aELrubeGO5"
      },
      "id": "96aELrubeGO5"
    },
    {
      "cell_type": "code",
      "source": [
        "# (X, Y, cache, lambd):\n",
        "def compute_cost_with_regularization(X, Y, parameters, lambd):\n",
        "    m = Y.shape[1]  # Number of training examples\n",
        "    cross_entropy_cost = -(1/m) * np.sum(Y * np.log(X) + (1 - Y) * np.log(1 - X))\n",
        "    regularization_cost = 0\n",
        "    layers_dims = [X.shape[0], 10, 5, 1]\n",
        "    L = len(layers_dims) - 1 # integer representing the number of layers\n",
        "    for l in range(1, L + 1):\n",
        "        W = parameters['W' + str(l)]\n",
        "        regularization_cost += (lambd / (2 * m)) * np.sum(np.square(W))\n",
        "\n",
        "    cost = cross_entropy_cost + regularization_cost\n",
        "    return cost\n"
      ],
      "metadata": {
        "id": "KJZKdtBqeT34"
      },
      "id": "KJZKdtBqeT34",
      "execution_count": null,
      "outputs": []
    },
    {
      "cell_type": "code",
      "source": [
        "def backward_propagation_with_regularization(X, Y, caches, parameters, lambd):\n",
        "    layers_dims = [X.shape[0], 10, 5, 1]\n",
        "    L = len(layers_dims) - 1 # integer representing the number of layers\n",
        "    grads = {}\n",
        "    m = Y.shape[1]\n",
        "\n",
        "    # Compute gradient of the cost with respect to X\n",
        "    dX = - (np.divide(Y, X) - np.divide(1 - Y, 1 - X))\n",
        "\n",
        "    # Backpropagation\n",
        "    current_cache = caches[L-1]\n",
        "    dZL = dX\n",
        "    grads[\"dW\" + str(L)] = (1/m) * np.dot(dZL, current_cache[\"A\" + str(L-1)].T) + (lambd / m) * parameters['W' + str(L)]\n",
        "    grads[\"db\" + str(L)] = (1/m) * np.sum(dZL, axis=1, keepdims=True)\n",
        "\n",
        "    for l in reversed(range(L-1)):\n",
        "        current_cache = caches[l]\n",
        "        dZ = np.dot(parameters['W' + str(l+2)].T, dZL) * (1 - np.power(current_cache[\"A\" + str(l+1)], 2))\n",
        "        grads[\"dW\" + str(l+1)] = (1/m) * np.dot(dZ, current_cache[\"A\" + str(l)].T) + (lambd / m) * parameters['W' + str(l+1)]\n",
        "        grads[\"db\" + str(l+1)] = (1/m) * np.sum(dZ, axis=1, keepdims=True)\n",
        "        dZL = dZ\n",
        "\n",
        "    return grads"
      ],
      "metadata": {
        "id": "hA738zmcfq1Q"
      },
      "id": "hA738zmcfq1Q",
      "execution_count": 58,
      "outputs": []
    },
    {
      "cell_type": "code",
      "source": [
        "parameters_ , _ = regularization_model(train_X, train_Y, lambd = 0.6)\n",
        "print (\"On the train set:\")\n",
        "predictions_train = reg.predict(train_X, train_Y, parameters_)\n",
        "print (\"On the test set:\")\n",
        "predictions_test = reg.predict(test_X, test_Y, parameters_)"
      ],
      "metadata": {
        "colab": {
          "base_uri": "https://localhost:8080/",
          "height": 372
        },
        "id": "ANSWAT8egMN6",
        "outputId": "76a02ef6-52f7-4615-a5d7-b11ce59572c1"
      },
      "id": "ANSWAT8egMN6",
      "execution_count": 59,
      "outputs": [
        {
          "output_type": "error",
          "ename": "TypeError",
          "evalue": "ignored",
          "traceback": [
            "\u001b[0;31m---------------------------------------------------------------------------\u001b[0m",
            "\u001b[0;31mTypeError\u001b[0m                                 Traceback (most recent call last)",
            "\u001b[0;32m<ipython-input-59-341ea154369f>\u001b[0m in \u001b[0;36m<cell line: 1>\u001b[0;34m()\u001b[0m\n\u001b[0;32m----> 1\u001b[0;31m \u001b[0mparameters_\u001b[0m \u001b[0;34m,\u001b[0m \u001b[0m_\u001b[0m \u001b[0;34m=\u001b[0m \u001b[0mregularization_model\u001b[0m\u001b[0;34m(\u001b[0m\u001b[0mtrain_X\u001b[0m\u001b[0;34m,\u001b[0m \u001b[0mtrain_Y\u001b[0m\u001b[0;34m,\u001b[0m \u001b[0mlambd\u001b[0m \u001b[0;34m=\u001b[0m \u001b[0;36m0.6\u001b[0m\u001b[0;34m)\u001b[0m\u001b[0;34m\u001b[0m\u001b[0;34m\u001b[0m\u001b[0m\n\u001b[0m\u001b[1;32m      2\u001b[0m \u001b[0mprint\u001b[0m \u001b[0;34m(\u001b[0m\u001b[0;34m\"On the train set:\"\u001b[0m\u001b[0;34m)\u001b[0m\u001b[0;34m\u001b[0m\u001b[0;34m\u001b[0m\u001b[0m\n\u001b[1;32m      3\u001b[0m \u001b[0mpredictions_train\u001b[0m \u001b[0;34m=\u001b[0m \u001b[0mreg\u001b[0m\u001b[0;34m.\u001b[0m\u001b[0mpredict\u001b[0m\u001b[0;34m(\u001b[0m\u001b[0mtrain_X\u001b[0m\u001b[0;34m,\u001b[0m \u001b[0mtrain_Y\u001b[0m\u001b[0;34m,\u001b[0m \u001b[0mparameters_\u001b[0m\u001b[0;34m)\u001b[0m\u001b[0;34m\u001b[0m\u001b[0;34m\u001b[0m\u001b[0m\n\u001b[1;32m      4\u001b[0m \u001b[0mprint\u001b[0m \u001b[0;34m(\u001b[0m\u001b[0;34m\"On the test set:\"\u001b[0m\u001b[0;34m)\u001b[0m\u001b[0;34m\u001b[0m\u001b[0;34m\u001b[0m\u001b[0m\n\u001b[1;32m      5\u001b[0m \u001b[0mpredictions_test\u001b[0m \u001b[0;34m=\u001b[0m \u001b[0mreg\u001b[0m\u001b[0;34m.\u001b[0m\u001b[0mpredict\u001b[0m\u001b[0;34m(\u001b[0m\u001b[0mtest_X\u001b[0m\u001b[0;34m,\u001b[0m \u001b[0mtest_Y\u001b[0m\u001b[0;34m,\u001b[0m \u001b[0mparameters_\u001b[0m\u001b[0;34m)\u001b[0m\u001b[0;34m\u001b[0m\u001b[0;34m\u001b[0m\u001b[0m\n",
            "\u001b[0;32m<ipython-input-53-707fbce4c569>\u001b[0m in \u001b[0;36mregularization_model\u001b[0;34m(X, Y, learning_rate, num_iterations, print_cost, lambd, keep_prob)\u001b[0m\n\u001b[1;32m     46\u001b[0m             \u001b[0mgrads\u001b[0m \u001b[0;34m=\u001b[0m \u001b[0mreg\u001b[0m\u001b[0;34m.\u001b[0m\u001b[0mbackward_propagation\u001b[0m\u001b[0;34m(\u001b[0m\u001b[0mX\u001b[0m\u001b[0;34m,\u001b[0m \u001b[0mY\u001b[0m\u001b[0;34m,\u001b[0m \u001b[0mcache\u001b[0m\u001b[0;34m)\u001b[0m\u001b[0;34m\u001b[0m\u001b[0;34m\u001b[0m\u001b[0m\n\u001b[1;32m     47\u001b[0m         \u001b[0;32melif\u001b[0m \u001b[0mlambd\u001b[0m \u001b[0;34m!=\u001b[0m \u001b[0;36m0\u001b[0m\u001b[0;34m:\u001b[0m\u001b[0;34m\u001b[0m\u001b[0;34m\u001b[0m\u001b[0m\n\u001b[0;32m---> 48\u001b[0;31m             \u001b[0mgrads\u001b[0m \u001b[0;34m=\u001b[0m \u001b[0mbackward_propagation_with_regularization\u001b[0m\u001b[0;34m(\u001b[0m\u001b[0mX\u001b[0m\u001b[0;34m,\u001b[0m \u001b[0mY\u001b[0m\u001b[0;34m,\u001b[0m \u001b[0mcache\u001b[0m\u001b[0;34m,\u001b[0m \u001b[0mlambd\u001b[0m\u001b[0;34m)\u001b[0m\u001b[0;34m\u001b[0m\u001b[0;34m\u001b[0m\u001b[0m\n\u001b[0m\u001b[1;32m     49\u001b[0m         \u001b[0;32melif\u001b[0m \u001b[0mkeep_prob\u001b[0m \u001b[0;34m<\u001b[0m \u001b[0;36m1\u001b[0m\u001b[0;34m:\u001b[0m\u001b[0;34m\u001b[0m\u001b[0;34m\u001b[0m\u001b[0m\n\u001b[1;32m     50\u001b[0m             \u001b[0mgrads\u001b[0m \u001b[0;34m=\u001b[0m \u001b[0mbackward_propagation_with_dropout\u001b[0m\u001b[0;34m(\u001b[0m\u001b[0mX\u001b[0m\u001b[0;34m,\u001b[0m \u001b[0mY\u001b[0m\u001b[0;34m,\u001b[0m \u001b[0mcache\u001b[0m\u001b[0;34m,\u001b[0m \u001b[0mkeep_prob\u001b[0m\u001b[0;34m)\u001b[0m\u001b[0;34m\u001b[0m\u001b[0;34m\u001b[0m\u001b[0m\n",
            "\u001b[0;31mTypeError\u001b[0m: backward_propagation_with_regularization() missing 1 required positional argument: 'lambd'"
          ]
        }
      ]
    },
    {
      "cell_type": "markdown",
      "source": [
        "#### Dropout\n",
        "Finally, **dropout** is a widely used regularization technique that is specific to deep learning.\n",
        "**It randomly shuts down some neurons in each iteration.**\n",
        "\n",
        "When we shut some neurons down, we actually modify our model. The idea behind drop-out is that at each iteration, you train a different model that uses only a subset of our neurons. With dropout, our neurons thus become less sensitive to the activation of one other specific neuron, because that other neuron might be shut down at any time."
      ],
      "metadata": {
        "id": "rZ0d-ec8eXEV"
      },
      "id": "rZ0d-ec8eXEV"
    },
    {
      "cell_type": "markdown",
      "source": [
        "###### Forward Propagation with Dropout\n",
        "\n",
        "Implement the forward propagation with dropout. We are using a 3 layer neural network, and will add dropout to the first and second hidden layers. We will not apply dropout to the input layer or output layer.\n",
        "\n",
        "**Instructions**:\n",
        "We would like to shut down some neurons in the first and second layers. To do that, we are going to carry out 4 Steps:\n",
        "1. In lecture, we dicussed creating a variable $d^{[1]}$ with the same shape as $a^{[1]}$ using `np.random.rand()` to randomly get numbers between 0 and 1. Here, we will use a vectorized implementation, so create a random matrix $D^{[1]} = [d^{[1](1)} d^{[1](2)} ... d^{[1](m)}] $ of the same dimension as $A^{[1]}$.\n",
        "2. Set each entry of $D^{[1]}$ to be 1 with probability (`keep_prob`), and 0 otherwise.\n",
        "\n",
        "**Hint:** Let's say that keep_prob = 0.8, which means that we want to keep about 80% of the neurons and drop out about 20% of them.  We want to generate a vector that has 1's and 0's, where about 80% of them are 1 and about 20% are 0.\n",
        "This python statement:\n",
        "`X = (X < keep_prob).astype(int)`\n",
        "\n",
        "is conceptually the same as this if-else statement (for the simple case of a one-dimensional array) :\n",
        "\n",
        "```\n",
        "for i,v in enumerate(x):\n",
        "    if v < keep_prob:\n",
        "        x[i] = 1\n",
        "    else: # v >= keep_prob\n",
        "        x[i] = 0\n",
        "```\n",
        "Note that the `X = (X < keep_prob).astype(int)` works with multi-dimensional arrays, and the resulting output preserves the dimensions of the input array.\n",
        "\n",
        "Also note that without using `.astype(int)`, the result is an array of booleans `True` and `False`, which Python automatically converts to 1 and 0 if we multiply it with numbers.  (However, it's better practice to convert data into the data type that we intend, so try using `.astype(int)`.)\n",
        "\n",
        "3. Set $A^{[1]}$ to $A^{[1]} * D^{[1]}$. (You are shutting down some neurons). You can think of $D^{[1]}$ as a mask, so that when it is multiplied with another matrix, it shuts down some of the values.\n",
        "4. Divide $A^{[1]}$ by `keep_prob`. By doing this you are assuring that the result of the cost will still have the same expected value as without drop-out. (This technique is also called inverted dropout.)"
      ],
      "metadata": {
        "id": "L6YVBFgafij_"
      },
      "id": "L6YVBFgafij_"
    },
    {
      "cell_type": "code",
      "source": [
        "# GRADED FUNCTION: forward_propagation_with_dropout\n",
        "def forward_propagation_with_dropout(X, parameters, keep_prob = 0.5):\n",
        "    \"\"\"\n",
        "    Implements the forward propagation: LINEAR -> RELU + DROPOUT -> LINEAR -> RELU + DROPOUT -> LINEAR -> SIGMOID.\n",
        "\n",
        "    Arguments:\n",
        "    X -- input dataset, of shape (2, number of examples)\n",
        "    parameters -- python dictionary containing your parameters \"W1\", \"b1\", \"W2\", \"b2\", \"W3\", \"b3\":\n",
        "                    W1 -- weight matrix of shape (20, 2)\n",
        "                    b1 -- bias vector of shape (20, 1)\n",
        "                    W2 -- weight matrix of shape (3, 20)\n",
        "                    b2 -- bias vector of shape (3, 1)\n",
        "                    W3 -- weight matrix of shape (1, 3)\n",
        "                    b3 -- bias vector of shape (1, 1)\n",
        "    keep_prob - probability of keeping a neuron active during drop-out, scalar\n",
        "\n",
        "    Returns:\n",
        "    A3 -- last activation value, output of the forward propagation, of shape (1,1)\n",
        "    cache -- tuple, information stored for computing the backward propagation\n",
        "    \"\"\"\n",
        "\n",
        "    np.random.seed(1)\n",
        "\n",
        "    # retrieve parameters\n",
        "    W1 = parameters[\"W1\"]\n",
        "    b1 = parameters[\"b1\"]\n",
        "    W2 = parameters[\"W2\"]\n",
        "    b2 = parameters[\"b2\"]\n",
        "    W3 = parameters[\"W3\"]\n",
        "    b3 = parameters[\"b3\"]\n",
        "\n",
        "    # LINEAR -> RELU -> LINEAR -> RELU -> LINEAR -> SIGMOID\n",
        "    Z1 = np.dot(W1, X) + b1\n",
        "    A1 = reg.relu(Z1)\n",
        "\n",
        "    #(≈ 4 lines of code)                              # Steps 1-4 below correspond to the Steps 1-4 described above.\n",
        "    D1 = np.random.rand(A1.shape[0], A1.shape[1])     # Step 1: initialize matrix D1 = np.random.rand(..., ...)\n",
        "    D1 = D1 < keep_prob                               # Step 2: convert entries of D1 to 0 or 1 (using keep_prob as the threshold)\n",
        "    A1 = A1 * D1                                      # Step 3: shut down some neurons of A1\n",
        "    A1 = A1 / keep_prob                               # Step 4: scale the value of neurons that haven't been shut down\n",
        "\n",
        "    Z2 = np.dot(W2, A1) + b2\n",
        "    A2 = reg.relu(Z2)\n",
        "\n",
        "    #(≈ 4 lines of code)\n",
        "    D2 = np.random.rand(A2.shape[0], A2.shape[1])    # Step 1: initialize matrix D2 = np.random.rand(..., ...)\n",
        "    D2 = D2 < keep_prob                              # Step 2: convert entries of D2 to 0 or 1 (using keep_prob as the threshold)\n",
        "    A2 = A2 * D2                                     # Step 3: shut down some neurons of A2\n",
        "    A2 = A2 / keep_prob                              # Step 4: scale the value of neurons that haven't been shut down\n",
        "\n",
        "    Z3 = np.dot(W3, A2) + b3\n",
        "    A3 = reg.sigmoid(Z3)\n",
        "\n",
        "    cache = (Z1, D1, A1, W1, b1, Z2, D2, A2, W2, b2, Z3, A3, W3, b3)\n",
        "\n",
        "    return A3, cache"
      ],
      "metadata": {
        "id": "zRKo-FnIdtFK"
      },
      "id": "zRKo-FnIdtFK",
      "execution_count": 60,
      "outputs": []
    },
    {
      "cell_type": "markdown",
      "source": [
        "##### Backward Propagation with Dropout\n",
        "\n",
        "\n",
        "Implement the backward propagation with dropout. As before, we are training a 3 layer network. Add dropout to the first and second hidden layers, using the masks $D^{[1]}$ and $D^{[2]}$ stored in the cache.\n",
        "\n",
        "**Instruction**:\n",
        "Backpropagation with dropout is actually quite easy. We will have to carry out 2 Steps:\n",
        "1. We had previously shut down some neurons during forward propagation, by applying a mask $D^{[1]}$ to `A1`. In backpropagation, we will have to shut down the same neurons, by reapplying the same mask $D^{[1]}$ to `dA1`.\n",
        "2. During forward propagation, we had divided `A1` by `keep_prob`. In backpropagation, we'll therefore have to divide `dA1` by `keep_prob` again (the calculus interpretation is that if $A^{[1]}$ is scaled by `keep_prob`, then its derivative $dA^{[1]}$ is also scaled by the same `keep_prob`)."
      ],
      "metadata": {
        "id": "8PkpTqLufpiz"
      },
      "id": "8PkpTqLufpiz"
    },
    {
      "cell_type": "code",
      "source": [
        "# GRADED FUNCTION: backward_propagation_with_dropout\n",
        "def backward_propagation_with_dropout(X, Y, cache, keep_prob):\n",
        "    \"\"\"\n",
        "    Implements the backward propagation of our baseline model to which we added dropout.\n",
        "\n",
        "    Arguments:\n",
        "    X -- input dataset, of shape (2, number of examples)\n",
        "    Y -- \"true\" labels vector, of shape (output size, number of examples)\n",
        "    cache -- cache output from forward_propagation_with_dropout()\n",
        "    keep_prob - probability of keeping a neuron active during drop-out, scalar\n",
        "\n",
        "    Returns:\n",
        "    gradients -- A dictionary with the gradients with respect to each parameter, activation and pre-activation variables\n",
        "    \"\"\"\n",
        "\n",
        "    m = X.shape[1]\n",
        "    (Z1, D1, A1, W1, b1, Z2, D2, A2, W2, b2, Z3, A3, W3, b3) = cache\n",
        "\n",
        "    dZ3 = A3 - Y\n",
        "    dW3 = 1./m * np.dot(dZ3, A2.T)\n",
        "    db3 = 1./m * np.sum(dZ3, axis=1, keepdims=True)\n",
        "    dA2 = np.dot(W3.T, dZ3)\n",
        "    #(≈ 2 lines of code)\n",
        "    dA2 = dA2 * D2                      # Step 1: Apply mask D2 to shut down the same neurons as during the forward propagation\n",
        "    dA2 = dA2 / keep_prob               # Step 2: Scale the value of neurons that haven't been shut down\n",
        "\n",
        "    dZ2 = np.multiply(dA2, np.int64(A2 > 0))\n",
        "    dW2 = 1./m * np.dot(dZ2, A1.T)\n",
        "    db2 = 1./m * np.sum(dZ2, axis=1, keepdims=True)\n",
        "\n",
        "    dA1 = np.dot(W2.T, dZ2)\n",
        "    #(≈ 2 lines of code)\n",
        "    dA1 = dA1 * D1                      # Step 1: Apply mask D1 to shut down the same neurons as during the forward propagation\n",
        "    dA1 = dA1 / keep_prob               # Step 2: Scale the value of neurons that haven't been shut down\n",
        "\n",
        "    dZ1 = np.multiply(dA1, np.int64(A1 > 0))\n",
        "    dW1 = 1./m * np.dot(dZ1, X.T)\n",
        "    db1 = 1./m * np.sum(dZ1, axis=1, keepdims=True)\n",
        "\n",
        "    gradients = {\"dZ3\": dZ3, \"dW3\": dW3, \"db3\": db3,\"dA2\": dA2,\n",
        "                 \"dZ2\": dZ2, \"dW2\": dW2, \"db2\": db2, \"dA1\": dA1,\n",
        "                 \"dZ1\": dZ1, \"dW1\": dW1, \"db1\": db1}\n",
        "\n",
        "    return gradients"
      ],
      "metadata": {
        "id": "d9yyYJLvejUO"
      },
      "id": "d9yyYJLvejUO",
      "execution_count": 61,
      "outputs": []
    },
    {
      "cell_type": "code",
      "source": [
        "parameters_ , grads_  = regularization_model(train_X, train_Y, keep_prob = 0.8, learning_rate = 0.01)"
      ],
      "metadata": {
        "id": "20bANUBMenPY",
        "colab": {
          "base_uri": "https://localhost:8080/",
          "height": 542
        },
        "outputId": "ae0a29e5-a4d0-420f-e458-43efe4610b74"
      },
      "id": "20bANUBMenPY",
      "execution_count": 62,
      "outputs": [
        {
          "output_type": "stream",
          "name": "stdout",
          "text": [
            "Cost after iteration 0: 4.747236844612227\n",
            "Cost after iteration 10000: 0.4225944669452614\n",
            "Cost after iteration 20000: 0.4168760146850757\n"
          ]
        },
        {
          "output_type": "display_data",
          "data": {
            "text/plain": [
              "<Figure size 700x500 with 1 Axes>"
            ],
            "image/png": "[encoded data removed]"
          },
          "metadata": {}
        }
      ]
    },
    {
      "cell_type": "code",
      "source": [
        "print (\"On the train set:\")\n",
        "predictions_train = reg.predict(train_X, train_Y, parameters_)\n",
        "print (\"On the test set:\")\n",
        "predictions_test = reg.predict(test_X, test_Y, parameters_)"
      ],
      "metadata": {
        "colab": {
          "base_uri": "https://localhost:8080/"
        },
        "id": "Svm4cXEWgrmH",
        "outputId": "c2495bfe-3513-4332-ad10-659e85a7b2e7"
      },
      "id": "Svm4cXEWgrmH",
      "execution_count": null,
      "outputs": [
        {
          "output_type": "stream",
          "name": "stdout",
          "text": [
            "On the train set:\n",
            "Accuracy: 0.8318181818181818\n",
            "On the test set:\n",
            "Accuracy: 0.8193116634799236\n"
          ]
        }
      ]
    },
    {
      "cell_type": "code",
      "source": [
        "# an example of how to implement Dropout with Keras\n",
        "\n",
        "# _x = x_train.values.reshape(x_train.shape[0], -1)\n",
        "# _y = train_Y\n",
        "# print(_x.shape)\n",
        "# print(_y.shape)\n",
        "\n",
        "# from keras.models import Sequential\n",
        "# from keras.layers import Dense, Dropout\n",
        "# # define the model architecture\n",
        "# model = Sequential()\n",
        "# model.add(Dense(64, activation='relu', input_shape=(3,)))\n",
        "# model.add(Dropout(0.5))\n",
        "# model.add(Dense(64, activation='relu'))\n",
        "# model.add(Dropout(0.5))\n",
        "# model.add(Dense(1, activation='sigmoid'))\n",
        "# # compile the model\n",
        "# model.compile(loss='binary_crossentropy',\n",
        "#               optimizer='rmsprop',\n",
        "#               metrics=['accuracy'])\n",
        "# # reshape _y to have the same shape as _x[:, 0]\n",
        "# _y_reshaped = _y.reshape((_y.shape[1],))\n",
        "# # fit the model on the training data\n",
        "# model.fit(_x, _y_reshaped, epochs=30, batch_size=16)"
      ],
      "metadata": {
        "id": "ZxStMbfdpKNh"
      },
      "id": "ZxStMbfdpKNh",
      "execution_count": null,
      "outputs": []
    },
    {
      "cell_type": "markdown",
      "source": [
        "#### Comparison\n",
        "\n",
        "**Here are the results of our two models**:\n",
        "\n",
        "<table>\n",
        "    <tr>\n",
        "        <td>\n",
        "        <b>model</b>\n",
        "        </td>\n",
        "        <td>\n",
        "        <b>train accuracy</b>\n",
        "        </td>\n",
        "        <td>\n",
        "        <b>test accuracy</b>\n",
        "        </td>\n",
        "        <td>\n",
        "        <b>cost-mean value</b>\n",
        "        </td>\n",
        "    </tr>\n",
        "    <tr>\n",
        "        <td>\n",
        "        3-layer NN with L2-regularization\n",
        "        </td>\n",
        "        <td>\n",
        "        70%\n",
        "        </td>\n",
        "        <td>\n",
        "        67%\n",
        "        </td>\n",
        "        <td>\n",
        "        0.6\n",
        "        </td>\n",
        "    </tr>\n",
        "    <tr>\n",
        "        <td>\n",
        "        3-layer NN with dropout\n",
        "        </td>\n",
        "        <td>\n",
        "        70%\n",
        "        </td>\n",
        "        <td>\n",
        "        67%\n",
        "        </td>\n",
        "        <td>\n",
        "        0.57\n",
        "        </td>\n",
        "    </tr>\n",
        "</table>"
      ],
      "metadata": {
        "id": "MBGt9XyHssQK"
      },
      "id": "MBGt9XyHssQK"
    },
    {
      "cell_type": "markdown",
      "source": [
        "### Optimization Methods"
      ],
      "metadata": {
        "id": "lVYl5LR3h13s"
      },
      "id": "lVYl5LR3h13s"
    },
    {
      "cell_type": "code",
      "source": [
        "import opt_utils_v1a as opt\n",
        "import math"
      ],
      "metadata": {
        "id": "g9oyEPcAkWZw"
      },
      "id": "g9oyEPcAkWZw",
      "execution_count": 63,
      "outputs": []
    },
    {
      "cell_type": "markdown",
      "source": [
        "#### Gradient descent\n",
        "\n",
        "A simple optimization method in machine learning is gradient descent (GD). When you take gradient steps with respect to all $m$ examples on each step, it is also called Batch Gradient Descent.\n",
        "\n",
        "<a name='ex-1'></a>\n",
        "<!-- ###  update_parameters_with_gd -->\n",
        "\n",
        "Implement the gradient descent update rule. The  gradient descent rule is, for $l = 1, ..., L$:\n",
        "$$ W^{[l]} = W^{[l]} - \\alpha \\text{ } dW^{[l]} \\tag{1}$$\n",
        "$$ b^{[l]} = b^{[l]} - \\alpha \\text{ } db^{[l]} \\tag{2}$$\n",
        "\n",
        "where L is the number of layers and $\\alpha$ is the learning rate. All parameters should be stored in the `parameters` dictionary. Note that the iterator `l` starts at 1 in the `for` loop as the first parameters are $W^{[1]}$ and $b^{[1]}$."
      ],
      "metadata": {
        "id": "yDymDaOjV7XW"
      },
      "id": "yDymDaOjV7XW"
    },
    {
      "cell_type": "code",
      "source": [
        "def update_parameters_with_gd(parameters, grads, learning_rate):\n",
        "    \"\"\"\n",
        "    Update parameters using one step of gradient descent\n",
        "\n",
        "    Arguments:\n",
        "    parameters -- python dictionary containing your parameters to be updated:\n",
        "                    parameters['W' + str(l)] = Wl\n",
        "                    parameters['b' + str(l)] = bl\n",
        "    grads -- python dictionary containing your gradients to update each parameters:\n",
        "                    grads['dW' + str(l)] = dWl\n",
        "                    grads['db' + str(l)] = dbl\n",
        "    learning_rate -- the learning rate, scalar.\n",
        "\n",
        "    Returns:\n",
        "    parameters -- python dictionary containing your updated parameters\n",
        "    \"\"\"\n",
        "    L = len(parameters) // 2 # number of layers in the neural networks\n",
        "\n",
        "    # Update rule for each parameter\n",
        "    for l in range(1, L + 1):\n",
        "        # (approx. 2 lines)\n",
        "        parameters[\"W\" + str(l)] = parameters[\"W\" + str(l)] - learning_rate * grads[\"dW\" + str(l)]\n",
        "        parameters[\"b\" + str(l)] = parameters[\"b\" + str(l)] - learning_rate * grads[\"db\" + str(l)]\n",
        "    return parameters"
      ],
      "metadata": {
        "id": "XvBr9l3iWII-"
      },
      "id": "XvBr9l3iWII-",
      "execution_count": null,
      "outputs": []
    },
    {
      "cell_type": "markdown",
      "source": [
        "#### Mini-Batch Gradient Descent\n",
        "\n",
        "There are two steps:\n",
        "- **Shuffle**: Create a shuffled version of the training set (X, Y) as shown below. Each column of X and Y represents a training example. Note that the random shuffling is done synchronously between X and Y. Such that after the shuffling the $i^{th}$ column of X is the example corresponding to the $i^{th}$ label in Y. The shuffling step ensures that examples will be split randomly into different mini-batches.\n",
        "\n",
        "<!-- <img src=\"images/kiank_shuffle.png\" style=\"width:550px;height:300px;\"> -->\n",
        "\n",
        "- **Partition**: Partition the shuffled (X, Y) into mini-batches of size `mini_batch_size` (here 32). Note that the number of training examples is not always divisible by `mini_batch_size`. The last mini batch might be smaller, but you don't need to worry about this. When the final mini-batch is smaller than the full `mini_batch_size`\n",
        "\n",
        "<!-- <img src=\"images/kiank_partition.png\" style=\"width:550px;height:300px;\"> -->"
      ],
      "metadata": {
        "id": "XVeopjanh9Rg"
      },
      "id": "XVeopjanh9Rg"
    },
    {
      "cell_type": "code",
      "source": [
        "# GRADED FUNCTION: random_mini_batches\n",
        "\n",
        "def random_mini_batches(X, Y, mini_batch_size = 16, seed = 0):\n",
        "    \"\"\"\n",
        "    Creates a list of random minibatches from (X, Y)\n",
        "\n",
        "    Arguments:\n",
        "    X -- input data, of shape (input size, number of examples)\n",
        "    Y -- true \"label\" vector (1 for blue dot / 0 for red dot), of shape (1, number of examples)\n",
        "    mini_batch_size -- size of the mini-batches, integer\n",
        "\n",
        "    Returns:\n",
        "    mini_batches -- list of synchronous (mini_batch_X, mini_batch_Y)\n",
        "    \"\"\"\n",
        "\n",
        "    np.random.seed(seed)            # To make your \"random\" minibatches the same as ours\n",
        "    m = X.shape[0]                  # number of training examples\n",
        "    mini_batches = []\n",
        "\n",
        "    # Step 1: Shuffle (X, Y)\n",
        "    permutation = list(np.random.permutation(m))\n",
        "    shuffled_X = X[:, permutation]\n",
        "    shuffled_Y = Y[:, permutation].reshape((1, m))\n",
        "\n",
        "    inc = mini_batch_size\n",
        "\n",
        "    # Step 2 - Partition (shuffled_X, shuffled_Y).\n",
        "    # Cases with a complete mini batch size only i.e each of 64 examples.\n",
        "    num_complete_minibatches = math.floor(m / mini_batch_size) # number of mini batches of size mini_batch_size in your partitionning\n",
        "    for k in range(0, num_complete_minibatches):\n",
        "        mini_batch_X = shuffled_X[:,k * mini_batch_size:(k + 1) * mini_batch_size]\n",
        "        mini_batch_Y = shuffled_Y[:,k * mini_batch_size:(k + 1) * mini_batch_size]\n",
        "\n",
        "        mini_batch = (mini_batch_X, mini_batch_Y)\n",
        "        mini_batches.append(mini_batch)\n",
        "\n",
        "    # For handling the end case (last mini-batch < mini_batch_size i.e less than 64)\n",
        "    if m % mini_batch_size != 0:\n",
        "        end = m - mini_batch_size * math.floor(m / mini_batch_size)\n",
        "        mini_batch_X = shuffled_X[:,num_complete_minibatches * mini_batch_size:]\n",
        "        mini_batch_Y = shuffled_Y[:,num_complete_minibatches * mini_batch_size:]\n",
        "        mini_batch = (mini_batch_X, mini_batch_Y)\n",
        "        mini_batches.append(mini_batch)\n",
        "\n",
        "    return mini_batches"
      ],
      "metadata": {
        "id": "SNITcr0H5v6o"
      },
      "id": "SNITcr0H5v6o",
      "execution_count": null,
      "outputs": []
    },
    {
      "cell_type": "markdown",
      "source": [
        "#### Adam"
      ],
      "metadata": {
        "id": "3zcc9dJ-1vpv"
      },
      "id": "3zcc9dJ-1vpv"
    },
    {
      "cell_type": "markdown",
      "source": [
        "##### Initialize adam\n",
        "Initialize the Adam variables $v, s$ which keep track of the past information.\n",
        "\n",
        "**Instruction**: The variables $v, s$ are python dictionaries that need to be initialized with arrays of zeros. Their keys are the same as for `grads`, that is:\n",
        "for $l = 1, ..., L$:"
      ],
      "metadata": {
        "id": "xqPXJNkGN6Yl"
      },
      "id": "xqPXJNkGN6Yl"
    },
    {
      "cell_type": "code",
      "source": [
        "# GRADED FUNCTION: initialize_adam\n",
        "\n",
        "def initialize_adam(parameters) :\n",
        "    \"\"\"\n",
        "    Initializes v and s as two python dictionaries with:\n",
        "                - keys: \"dW1\", \"db1\", ..., \"dWL\", \"dbL\"\n",
        "                - values: numpy arrays of zeros of the same shape as the corresponding gradients/parameters.\n",
        "\n",
        "    Arguments:\n",
        "    parameters -- python dictionary containing your parameters.\n",
        "                    parameters[\"W\" + str(l)] = Wl\n",
        "                    parameters[\"b\" + str(l)] = bl\n",
        "\n",
        "    Returns:\n",
        "    v -- python dictionary that will contain the exponentially weighted average of the gradient. Initialized with zeros.\n",
        "                    v[\"dW\" + str(l)] = ...\n",
        "                    v[\"db\" + str(l)] = ...\n",
        "    s -- python dictionary that will contain the exponentially weighted average of the squared gradient. Initialized with zeros.\n",
        "                    s[\"dW\" + str(l)] = ...\n",
        "                    s[\"db\" + str(l)] = ...\n",
        "    \"\"\"\n",
        "\n",
        "    L = len(parameters) // 2 # number of layers in the neural networks\n",
        "    v = {}\n",
        "    s = {}\n",
        "\n",
        "    # Initialize v, s. Input: \"parameters\". Outputs: \"v, s\".\n",
        "    for l in range(1, L + 1):\n",
        "        v[\"dW\" + str(l)] = np.zeros_like(parameters[\"W\" + str(l)])\n",
        "        v[\"db\" + str(l)] = np.zeros_like(parameters[\"b\" + str(l)])\n",
        "\n",
        "        s[\"dW\" + str(l)] = np.zeros_like(parameters[\"W\" + str(l)])\n",
        "        s[\"db\" + str(l)] = np.zeros_like(parameters[\"b\" + str(l)])\n",
        "\n",
        "    return v, s"
      ],
      "metadata": {
        "id": "ElsHaId85dKG"
      },
      "id": "ElsHaId85dKG",
      "execution_count": null,
      "outputs": []
    },
    {
      "cell_type": "markdown",
      "source": [
        "##### Update parameters with Adam\n",
        "\n",
        "Now, implement the parameters update with Adam. Recall the general update rule is, for $l = 1, ..., L$:\n",
        "\n",
        "$$\\begin{cases}\n",
        "v_{dW^{[l]}} = \\beta_1 v_{dW^{[l]}} + (1 - \\beta_1) \\frac{\\partial \\mathcal{J} }{ \\partial W^{[l]} } \\\\\n",
        "v^{corrected}_{dW^{[l]}} = \\frac{v_{dW^{[l]}}}{1 - (\\beta_1)^t} \\\\\n",
        "s_{dW^{[l]}} = \\beta_2 s_{dW^{[l]}} + (1 - \\beta_2) (\\frac{\\partial \\mathcal{J} }{\\partial W^{[l]} })^2 \\\\\n",
        "s^{corrected}_{dW^{[l]}} = \\frac{s_{dW^{[l]}}}{1 - (\\beta_2)^t} \\\\\n",
        "W^{[l]} = W^{[l]} - \\alpha \\frac{v^{corrected}_{dW^{[l]}}}{\\sqrt{s^{corrected}_{dW^{[l]}}} + \\varepsilon}\n",
        "\\end{cases}$$\n",
        "\n",
        "\n",
        "**Note** that the iterator `l` starts at 1 in the `for` loop as the first parameters are $W^{[1]}$ and $b^{[1]}$."
      ],
      "metadata": {
        "id": "y4QZ2rKxOeo1"
      },
      "id": "y4QZ2rKxOeo1"
    },
    {
      "cell_type": "code",
      "source": [
        "# GRADED FUNCTION: update_parameters_with_adam\n",
        "def update_parameters_with_adam(parameters, grads, v, s, t, learning_rate = 0.01,\n",
        "                                beta1 = 0.9, beta2 = 0.999,  epsilon = 1e-8):\n",
        "    \"\"\"\n",
        "    Update parameters using Adam\n",
        "\n",
        "    Arguments:\n",
        "    parameters -- python dictionary containing your parameters:\n",
        "                    parameters['W' + str(l)] = Wl\n",
        "                    parameters['b' + str(l)] = bl\n",
        "    grads -- python dictionary containing your gradients for each parameters:\n",
        "                    grads['dW' + str(l)] = dWl\n",
        "                    grads['db' + str(l)] = dbl\n",
        "    v -- Adam variable, moving average of the first gradient, python dictionary\n",
        "    s -- Adam variable, moving average of the squared gradient, python dictionary\n",
        "    t -- Adam variable, counts the number of taken steps\n",
        "    learning_rate -- the learning rate, scalar.\n",
        "    beta1 -- Exponential decay hyperparameter for the first moment estimates\n",
        "    beta2 -- Exponential decay hyperparameter for the second moment estimates\n",
        "    epsilon -- hyperparameter preventing division by zero in Adam updates\n",
        "\n",
        "    Returns:\n",
        "    parameters -- python dictionary containing your updated parameters\n",
        "    v -- Adam variable, moving average of the first gradient, python dictionary\n",
        "    s -- Adam variable, moving average of the squared gradient, python dictionary\n",
        "    \"\"\"\n",
        "\n",
        "    L = len(parameters) // 2                 # number of layers in the neural networks\n",
        "    v_corrected = {}                         # Initializing first moment estimate, python dictionary\n",
        "    s_corrected = {}                         # Initializing second moment estimate, python dictionary\n",
        "\n",
        "    # Perform Adam update on all parameters\n",
        "    for l in range(1, L + 1):\n",
        "        # Moving average of the gradients. Inputs: \"v, grads, beta1\". Output: \"v\".\n",
        "        v[\"dW\" + str(l)] = beta1 * v[\"dW\" + str(l)] + (1 - beta1) * grads['dW' + str(l)]\n",
        "        v[\"db\" + str(l)] = beta1 * v[\"db\" + str(l)] + (1 - beta1) * grads['db' + str(l)]\n",
        "\n",
        "        # Compute bias-corrected first moment estimate. Inputs: \"v, beta1, t\". Output: \"v_corrected\".\n",
        "        v_corrected[\"dW\" + str(l)] = v[\"dW\" + str(l)] / (1 - np.power(beta1, t))\n",
        "        v_corrected[\"db\" + str(l)] = v[\"db\" + str(l)] / (1 - np.power(beta1, t))\n",
        "\n",
        "        # Moving average of the squared gradients. Inputs: \"s, grads, beta2\". Output: \"s\".\n",
        "        s[\"dW\" + str(l)] = beta2 * s[\"dW\" + str(l)] + (1 - beta2) * np.power(grads['dW' + str(l)], 2)\n",
        "        s[\"db\" + str(l)] = beta2 * s[\"db\" + str(l)] + (1 - beta2) * np.power(grads['db' + str(l)], 2)\n",
        "\n",
        "        # Compute bias-corrected second raw moment estimate. Inputs: \"s, beta2, t\". Output: \"s_corrected\".\n",
        "        s_corrected[\"dW\" + str(l)] = s[\"dW\" + str(l)] / (1 - np.power(beta2, t))\n",
        "        s_corrected[\"db\" + str(l)] = s[\"db\" + str(l)] / (1 - np.power(beta2, t))\n",
        "\n",
        "        # Update parameters. Inputs: \"parameters, learning_rate, v_corrected, s_corrected, epsilon\". Output: \"parameters\".\n",
        "        parameters[\"W\" + str(l)] = parameters[\"W\" + str(l)] - learning_rate * v_corrected[\"dW\" + str(l)] / (np.sqrt(s_corrected[\"dW\" + str(l)]) + epsilon)\n",
        "        parameters[\"b\" + str(l)] = parameters[\"b\" + str(l)] - learning_rate * v_corrected[\"db\" + str(l)] / (np.sqrt(s_corrected[\"db\" + str(l)]) + epsilon)\n",
        "\n",
        "\n",
        "    return parameters, v, s, v_corrected, s_corrected"
      ],
      "metadata": {
        "id": "bmA8QZnI5jJN"
      },
      "id": "bmA8QZnI5jJN",
      "execution_count": null,
      "outputs": []
    },
    {
      "cell_type": "markdown",
      "source": [
        "#### Momentum"
      ],
      "metadata": {
        "id": "dRlhx35XkJXx"
      },
      "id": "dRlhx35XkJXx"
    },
    {
      "cell_type": "markdown",
      "source": [
        "##### Init momentum\n",
        "Initialize Velocity: Initialize the velocity v for each parameter in the neural network to zero."
      ],
      "metadata": {
        "id": "h65K2J1Um3uB"
      },
      "id": "h65K2J1Um3uB"
    },
    {
      "cell_type": "code",
      "source": [
        "def initialize_momentum(parameters):\n",
        "    \"\"\"\n",
        "    Initializes the velocity for momentum optimization.\n",
        "\n",
        "    Arguments:\n",
        "    parameters -- Python dictionary containing the parameters (weights and biases) of the model.\n",
        "\n",
        "    Returns:\n",
        "    v -- Python dictionary containing the velocity.\n",
        "    \"\"\"\n",
        "\n",
        "    L = len(parameters) // 2  # Number of layers in the neural network\n",
        "    v = {}\n",
        "\n",
        "    for l in range(1, L + 1):\n",
        "        v[\"dW\" + str(l)] = np.zeros_like(parameters[\"W\" + str(l)])\n",
        "        v[\"db\" + str(l)] = np.zeros_like(parameters[\"b\" + str(l)])\n",
        "\n",
        "    return v"
      ],
      "metadata": {
        "id": "OQ9Rz9GWkLYR"
      },
      "id": "OQ9Rz9GWkLYR",
      "execution_count": null,
      "outputs": []
    },
    {
      "cell_type": "markdown",
      "source": [
        "Steps:\n",
        "1. Compute Gradients: Compute the gradients of the parameters using backpropagation.\n",
        "\n",
        "2. Update Velocity: Update the velocity by combining the current gradients with the past velocity using the momentum hyperparameter β:\n",
        "```\n",
        "velocity = β * velocity - learning_rate * gradients\n",
        "```\n",
        "3. Update Parameters: Update the parameters by adding the velocity to them:\n",
        "```\n",
        "parameters = parameters + velocity\n",
        "```\n",
        "4. Repeat: Repeat steps 1 to 3 for a specified number of iterations or until convergence."
      ],
      "metadata": {
        "id": "jM7c-p0pnPNx"
      },
      "id": "jM7c-p0pnPNx"
    },
    {
      "cell_type": "code",
      "source": [
        "\n",
        "def update_parameters_with_momentum(parameters, grads, v, beta, learning_rate):\n",
        "    \"\"\"\n",
        "    Updates parameters using momentum optimization.\n",
        "\n",
        "    Arguments:\n",
        "    parameters -- Python dictionary containing the parameters (weights and biases) of the model.\n",
        "    grads -- Python dictionary containing the gradients of the parameters.\n",
        "    v -- Python dictionary containing the velocity.\n",
        "    beta -- The momentum hyperparameter, usually a value between 0 and 1.\n",
        "    learning_rate -- The learning rate.\n",
        "\n",
        "    Returns:\n",
        "    parameters -- Python dictionary containing the updated parameters.\n",
        "    v -- Python dictionary containing the updated velocity.\n",
        "    \"\"\"\n",
        "\n",
        "    L = len(parameters) // 2  # Number of layers in the neural network\n",
        "\n",
        "    for l in range(1, L + 1):\n",
        "        # Update velocities\n",
        "        v[\"dW\" + str(l)] = beta * v[\"dW\" + str(l)] + (1 - beta) * grads[\"dW\" + str(l)]\n",
        "        v[\"db\" + str(l)] = beta * v[\"db\" + str(l)] + (1 - beta) * grads[\"db\" + str(l)]\n",
        "\n",
        "        # Update parameters\n",
        "        parameters[\"W\" + str(l)] -= learning_rate * v[\"dW\" + str(l)]\n",
        "        parameters[\"b\" + str(l)] -= learning_rate * v[\"db\" + str(l)]\n",
        "\n",
        "    return parameters, v"
      ],
      "metadata": {
        "id": "r99jlye8kNtw"
      },
      "id": "r99jlye8kNtw",
      "execution_count": null,
      "outputs": []
    },
    {
      "cell_type": "markdown",
      "source": [
        "#### Model with Optimization algorithms\n",
        "We'll train it with:\n",
        "</br>**Mini-batch Adam**: it will call your functions:\n",
        "***initialize_adam()*** and ***update_parameters_with_adam()***"
      ],
      "metadata": {
        "id": "4fqDe7eFOzo4"
      },
      "id": "4fqDe7eFOzo4"
    },
    {
      "cell_type": "code",
      "source": [
        "def optimization_model(X, Y, layers_dims, optimizer, learning_rate = 0.0007, mini_batch_size = 16, beta = 0.9,\n",
        "          beta1 = 0.9, beta2 = 0.999,  epsilon = 1e-8, num_epochs = 5000, print_cost = True):\n",
        "    \"\"\"\n",
        "    3-layer neural network model which can be run in different optimizer modes.\n",
        "\n",
        "    Arguments:\n",
        "    X -- input data, of shape (2, number of examples)\n",
        "    Y -- true \"label\" vector (1 for blue dot / 0 for red dot), of shape (1, number of examples)\n",
        "    optimizer -- the optimizer to be passed, gradient descent, momentum or adam\n",
        "    layers_dims -- python list, containing the size of each layer\n",
        "    learning_rate -- the learning rate, scalar.\n",
        "    mini_batch_size -- the size of a mini batch\n",
        "    beta -- Momentum hyperparameter\n",
        "    beta1 -- Exponential decay hyperparameter for the past gradients estimates\n",
        "    beta2 -- Exponential decay hyperparameter for the past squared gradients estimates\n",
        "    epsilon -- hyperparameter preventing division by zero in Adam updates\n",
        "    num_epochs -- number of epochs\n",
        "    print_cost -- True to print the cost every 1000 epochs\n",
        "\n",
        "    Returns:\n",
        "    parameters -- python dictionary containing your updated parameters\n",
        "    \"\"\"\n",
        "\n",
        "    L = len(layers_dims)             # number of layers in the neural networks\n",
        "    costs = []                       # to keep track of the cost\n",
        "    t = 0                            # initializing the counter required for Adam update\n",
        "    seed = 10                        # For grading purposes, so that your \"random\" minibatches are the same as ours\n",
        "    m = X.shape[1]                   # number of training examples\n",
        "\n",
        "    # Initialize parameters\n",
        "    parameters = opt.initialize_parameters(layers_dims)\n",
        "\n",
        "    # Initialize the optimizer\n",
        "    if optimizer == \"gd\":\n",
        "        pass # no initialization required for gradient descent\n",
        "    elif optimizer == \"momentum\":\n",
        "        #v = {}  # let ignore this line\n",
        "        v = initialize_momentum(parameters)\n",
        "    elif optimizer == \"adam\":\n",
        "        v, s = initialize_adam(parameters)\n",
        "\n",
        "    # Optimization loop\n",
        "    for i in range(num_epochs):\n",
        "\n",
        "        # Define the random minibatches. We increment the seed to reshuffle differently the dataset after each epoch\n",
        "        seed = seed + 1\n",
        "        minibatches = random_mini_batches(X, Y, mini_batch_size, seed)\n",
        "        cost_total = 0\n",
        "\n",
        "        for minibatch in minibatches:\n",
        "            # Select a minibatch\n",
        "            (minibatch_X, minibatch_Y) = minibatch\n",
        "\n",
        "            # Forward propagation\n",
        "            a3, caches = opt.forward_propagation(minibatch_X, parameters)\n",
        "\n",
        "            # Compute cost and add to the cost total\n",
        "            cost_total += opt.compute_cost(a3, minibatch_Y)\n",
        "\n",
        "            # Backward propagation\n",
        "            grads = opt.backward_propagation(minibatch_X, minibatch_Y, caches)\n",
        "\n",
        "            # Update parameters\n",
        "            if optimizer == \"gd\":\n",
        "                parameters = update_parameters_with_gd(parameters, grads, learning_rate) # let ignore this line\n",
        "            elif optimizer == \"momentum\":\n",
        "                # parameters , v = {}, {}  # let ignore this line\n",
        "                parameters, v = update_parameters_with_momentum(parameters, grads, v, beta, learning_rate)\n",
        "            elif optimizer == \"adam\":\n",
        "                t = t + 1 # Adam counter\n",
        "                parameters, v, s, _, _ = update_parameters_with_adam(parameters, grads, v, s,\n",
        "                                                               t, learning_rate, beta1, beta2,  epsilon)\n",
        "        cost_avg = cost_total / m\n",
        "\n",
        "        # Print the cost every 1000 epoch\n",
        "        if print_cost and i % 1000 == 0:\n",
        "            print (\"Cost after epoch %i: %f\" %(i, cost_avg))\n",
        "        if print_cost and i % 100 == 0:\n",
        "            costs.append(cost_avg)\n",
        "\n",
        "    # plot the cost\n",
        "    plt.plot(costs)\n",
        "    plt.ylabel('cost')\n",
        "    plt.xlabel('epochs (per 100)')\n",
        "    plt.title(\"Learning rate = \" + str(learning_rate))\n",
        "    plt.show()\n",
        "\n",
        "    return parameters"
      ],
      "metadata": {
        "id": "Jgx1L5nm1Z0u"
      },
      "id": "Jgx1L5nm1Z0u",
      "execution_count": null,
      "outputs": []
    },
    {
      "cell_type": "code",
      "source": [
        "_x = x_train.values.reshape(x_train.shape[0], -1)\n",
        "_y = train_Y\n",
        "_x_test = x_test.values.reshape(x_test.shape[0], -1)\n",
        "_y_test = test_Y"
      ],
      "metadata": {
        "id": "fPdiAbz_k0rd"
      },
      "id": "fPdiAbz_k0rd",
      "execution_count": null,
      "outputs": []
    },
    {
      "cell_type": "code",
      "source": [
        "# print(_x.shape)\n",
        "# print(_y.shape)\n",
        "# print(_x.T)\n",
        "# print(_y)"
      ],
      "metadata": {
        "id": "4J6F6ztMk4mV"
      },
      "id": "4J6F6ztMk4mV",
      "execution_count": null,
      "outputs": []
    },
    {
      "cell_type": "markdown",
      "source": [
        "##### Mini-Batch Gradient Descent"
      ],
      "metadata": {
        "id": "3fC3O7mzWt2w"
      },
      "id": "3fC3O7mzWt2w"
    },
    {
      "cell_type": "code",
      "source": [
        "layers_dims = [train_X.shape[0], 10, 4, 1]\n",
        "parameters = optimization_model(_x.T, _y, layers_dims, optimizer = \"gd\")\n",
        "# Predict\n",
        "predictions = opt.predict(_x.T, _y, parameters)"
      ],
      "metadata": {
        "colab": {
          "base_uri": "https://localhost:8080/",
          "height": 597
        },
        "id": "scOCMTuAWsuy",
        "outputId": "8d136c16-a10e-4637-b9db-760144e3ca75"
      },
      "id": "scOCMTuAWsuy",
      "execution_count": null,
      "outputs": [
        {
          "output_type": "stream",
          "name": "stdout",
          "text": [
            "Cost after epoch 0: 0.002865\n",
            "Cost after epoch 1000: 0.000631\n",
            "Cost after epoch 2000: 0.000629\n",
            "Cost after epoch 3000: 0.000626\n",
            "Cost after epoch 4000: 0.000624\n"
          ]
        },
        {
          "output_type": "display_data",
          "data": {
            "text/plain": [
              "<Figure size 700x500 with 1 Axes>"
            ],
            "image/png": "[encoded data removed]"
          },
          "metadata": {}
        },
        {
          "output_type": "stream",
          "name": "stdout",
          "text": [
            "Accuracy: 0.830622009569378\n"
          ]
        }
      ]
    },
    {
      "cell_type": "markdown",
      "source": [
        "##### Mini-Batch with Adam"
      ],
      "metadata": {
        "id": "yTJ4nMwAW5Fs"
      },
      "id": "yTJ4nMwAW5Fs"
    },
    {
      "cell_type": "code",
      "source": [
        "# train 3-layer model\n",
        "layers_dims = [train_X.shape[0], 10, 4, 1]\n",
        "parameters = optimization_model(_x.T, _y, layers_dims, optimizer = \"adam\")\n",
        "# Predict\n",
        "predictions = opt.predict(train_X, train_Y, parameters)"
      ],
      "metadata": {
        "id": "xPih4bzm1Ug5",
        "colab": {
          "base_uri": "https://localhost:8080/",
          "height": 597
        },
        "outputId": "7d5b2752-d5de-4f84-fd1b-096cc3881d84"
      },
      "id": "xPih4bzm1Ug5",
      "execution_count": null,
      "outputs": [
        {
          "output_type": "stream",
          "name": "stdout",
          "text": [
            "Cost after epoch 0: 0.002865\n",
            "Cost after epoch 1000: 0.000347\n",
            "Cost after epoch 2000: 0.000100\n",
            "Cost after epoch 3000: 0.000027\n",
            "Cost after epoch 4000: 0.000009\n"
          ]
        },
        {
          "output_type": "display_data",
          "data": {
            "text/plain": [
              "<Figure size 700x500 with 1 Axes>"
            ],
            "image/png": "[encoded data removed]"
          },
          "metadata": {}
        },
        {
          "output_type": "stream",
          "name": "stdout",
          "text": [
            "Accuracy: 0.7133971291866029\n"
          ]
        }
      ]
    },
    {
      "cell_type": "markdown",
      "source": [
        "##### Momemtum"
      ],
      "metadata": {
        "id": "st4haCq5kRJw"
      },
      "id": "st4haCq5kRJw"
    },
    {
      "cell_type": "code",
      "source": [
        "# train 3-layer model\n",
        "layers_dims = [train_X.shape[0], 10, 4, 1]\n",
        "parameters = optimization_model(_x.T, _y, layers_dims, optimizer = \"momentum\")\n",
        "# Predict\n",
        "predictions = opt.predict(train_X, train_Y, parameters)"
      ],
      "metadata": {
        "colab": {
          "base_uri": "https://localhost:8080/",
          "height": 597
        },
        "id": "p132v6tykaYJ",
        "outputId": "e5ef663e-894c-4cc8-c556-84aeffc2696e"
      },
      "id": "p132v6tykaYJ",
      "execution_count": null,
      "outputs": [
        {
          "output_type": "stream",
          "name": "stdout",
          "text": [
            "Cost after epoch 0: 0.002865\n",
            "Cost after epoch 1000: 0.000631\n",
            "Cost after epoch 2000: 0.000629\n",
            "Cost after epoch 3000: 0.000626\n",
            "Cost after epoch 4000: 0.000624\n"
          ]
        },
        {
          "output_type": "display_data",
          "data": {
            "text/plain": [
              "<Figure size 700x500 with 1 Axes>"
            ],
            "image/png": "[encoded data removed]"
          },
          "metadata": {}
        },
        {
          "output_type": "stream",
          "name": "stdout",
          "text": [
            "Accuracy: 0.8308612440191387\n"
          ]
        }
      ]
    },
    {
      "cell_type": "markdown",
      "source": [
        "#### Comparison\n",
        "\n",
        "**Here are the results of our two models**:\n",
        "\n",
        "<table>\n",
        "    <tr>\n",
        "        <td>\n",
        "        <b>optimization method</b>\n",
        "        </td>\n",
        "        <td>\n",
        "        <b>accuracy</b>\n",
        "        </td>\n",
        "        <td>\n",
        "        <b>cost shape</b>\n",
        "        </td>\n",
        "    </tr>\n",
        "        <td>\n",
        "        Gradient descent\n",
        "        </td>\n",
        "        <td>\n",
        "        72%\n",
        "        </td>\n",
        "        <td>\n",
        "        smooth\n",
        "        </td>\n",
        "    <tr>\n",
        "        <td>\n",
        "        Adam\n",
        "        </td>\n",
        "        <td>\n",
        "        72%\n",
        "        </td>\n",
        "        <td>\n",
        "        smoother\n",
        "        </td>\n",
        "    </tr>\n",
        "</table>"
      ],
      "metadata": {
        "id": "PvbxgkBcVS5M"
      },
      "id": "PvbxgkBcVS5M"
    },
    {
      "cell_type": "code",
      "source": [
        "#Plot decision boundary\n",
        "plt.title(\"Model with Adam optimization\")\n",
        "axes = plt.gca()\n",
        "axes.set_xlim([-1.5,2.5])\n",
        "axes.set_ylim([-1,1.5])\n",
        "print (\"On the test set:\")\n",
        "predictions_test = reg.predict(_x_test, _y_test, parameters)"
      ],
      "metadata": {
        "id": "alizOKrm2uRU",
        "colab": {
          "base_uri": "https://localhost:8080/",
          "height": 738
        },
        "outputId": "92116ed1-dc20-433f-f0a6-82aa7265b9ed"
      },
      "id": "alizOKrm2uRU",
      "execution_count": null,
      "outputs": [
        {
          "output_type": "stream",
          "name": "stdout",
          "text": [
            "On the test set:\n"
          ]
        },
        {
          "output_type": "error",
          "ename": "ValueError",
          "evalue": "ignored",
          "traceback": [
            "\u001b[0;31m---------------------------------------------------------------------------\u001b[0m",
            "\u001b[0;31mValueError\u001b[0m                                Traceback (most recent call last)",
            "\u001b[0;32m<ipython-input-78-7c4f530c690d>\u001b[0m in \u001b[0;36m<cell line: 7>\u001b[0;34m()\u001b[0m\n\u001b[1;32m      5\u001b[0m \u001b[0maxes\u001b[0m\u001b[0;34m.\u001b[0m\u001b[0mset_ylim\u001b[0m\u001b[0;34m(\u001b[0m\u001b[0;34m[\u001b[0m\u001b[0;34m-\u001b[0m\u001b[0;36m1\u001b[0m\u001b[0;34m,\u001b[0m\u001b[0;36m1.5\u001b[0m\u001b[0;34m]\u001b[0m\u001b[0;34m)\u001b[0m\u001b[0;34m\u001b[0m\u001b[0;34m\u001b[0m\u001b[0m\n\u001b[1;32m      6\u001b[0m \u001b[0mprint\u001b[0m \u001b[0;34m(\u001b[0m\u001b[0;34m\"On the test set:\"\u001b[0m\u001b[0;34m)\u001b[0m\u001b[0;34m\u001b[0m\u001b[0;34m\u001b[0m\u001b[0m\n\u001b[0;32m----> 7\u001b[0;31m \u001b[0mpredictions_test\u001b[0m \u001b[0;34m=\u001b[0m \u001b[0mreg\u001b[0m\u001b[0;34m.\u001b[0m\u001b[0mpredict\u001b[0m\u001b[0;34m(\u001b[0m\u001b[0m_x_test\u001b[0m\u001b[0;34m,\u001b[0m \u001b[0m_y_test\u001b[0m\u001b[0;34m,\u001b[0m \u001b[0mparameters\u001b[0m\u001b[0;34m)\u001b[0m\u001b[0;34m\u001b[0m\u001b[0;34m\u001b[0m\u001b[0m\n\u001b[0m",
            "\u001b[0;32m/content/mle501/utils/reg_utils.py\u001b[0m in \u001b[0;36mpredict\u001b[0;34m(X, y, parameters)\u001b[0m\n\u001b[1;32m    204\u001b[0m \u001b[0;34m\u001b[0m\u001b[0m\n\u001b[1;32m    205\u001b[0m     \u001b[0;31m# Forward propagation\u001b[0m\u001b[0;34m\u001b[0m\u001b[0;34m\u001b[0m\u001b[0m\n\u001b[0;32m--> 206\u001b[0;31m     \u001b[0ma3\u001b[0m\u001b[0;34m,\u001b[0m \u001b[0mcaches\u001b[0m \u001b[0;34m=\u001b[0m \u001b[0mforward_propagation\u001b[0m\u001b[0;34m(\u001b[0m\u001b[0mX\u001b[0m\u001b[0;34m,\u001b[0m \u001b[0mparameters\u001b[0m\u001b[0;34m)\u001b[0m\u001b[0;34m\u001b[0m\u001b[0;34m\u001b[0m\u001b[0m\n\u001b[0m\u001b[1;32m    207\u001b[0m \u001b[0;34m\u001b[0m\u001b[0m\n\u001b[1;32m    208\u001b[0m     \u001b[0;31m# convert probas to 0/1 predictions\u001b[0m\u001b[0;34m\u001b[0m\u001b[0;34m\u001b[0m\u001b[0m\n",
            "\u001b[0;32m/content/mle501/utils/reg_utils.py\u001b[0m in \u001b[0;36mforward_propagation\u001b[0;34m(X, parameters)\u001b[0m\n\u001b[1;32m    116\u001b[0m \u001b[0;34m\u001b[0m\u001b[0m\n\u001b[1;32m    117\u001b[0m     \u001b[0;31m# LINEAR -> RELU -> LINEAR -> RELU -> LINEAR -> SIGMOID\u001b[0m\u001b[0;34m\u001b[0m\u001b[0;34m\u001b[0m\u001b[0m\n\u001b[0;32m--> 118\u001b[0;31m     \u001b[0mZ1\u001b[0m \u001b[0;34m=\u001b[0m \u001b[0mnp\u001b[0m\u001b[0;34m.\u001b[0m\u001b[0mdot\u001b[0m\u001b[0;34m(\u001b[0m\u001b[0mW1\u001b[0m\u001b[0;34m,\u001b[0m \u001b[0mX\u001b[0m\u001b[0;34m)\u001b[0m \u001b[0;34m+\u001b[0m \u001b[0mb1\u001b[0m\u001b[0;34m\u001b[0m\u001b[0;34m\u001b[0m\u001b[0m\n\u001b[0m\u001b[1;32m    119\u001b[0m     \u001b[0mA1\u001b[0m \u001b[0;34m=\u001b[0m \u001b[0mrelu\u001b[0m\u001b[0;34m(\u001b[0m\u001b[0mZ1\u001b[0m\u001b[0;34m)\u001b[0m\u001b[0;34m\u001b[0m\u001b[0;34m\u001b[0m\u001b[0m\n\u001b[1;32m    120\u001b[0m     \u001b[0mZ2\u001b[0m \u001b[0;34m=\u001b[0m \u001b[0mnp\u001b[0m\u001b[0;34m.\u001b[0m\u001b[0mdot\u001b[0m\u001b[0;34m(\u001b[0m\u001b[0mW2\u001b[0m\u001b[0;34m,\u001b[0m \u001b[0mA1\u001b[0m\u001b[0;34m)\u001b[0m \u001b[0;34m+\u001b[0m \u001b[0mb2\u001b[0m\u001b[0;34m\u001b[0m\u001b[0;34m\u001b[0m\u001b[0m\n",
            "\u001b[0;32m/usr/local/lib/python3.10/dist-packages/numpy/core/overrides.py\u001b[0m in \u001b[0;36mdot\u001b[0;34m(*args, **kwargs)\u001b[0m\n",
            "\u001b[0;31mValueError\u001b[0m: shapes (10,6) and (1046,6) not aligned: 6 (dim 1) != 1046 (dim 0)"
          ]
        },
        {
          "output_type": "display_data",
          "data": {
            "text/plain": [
              "<Figure size 700x500 with 1 Axes>"
            ],
            "image/png": "[encoded data removed]"
          },
          "metadata": {}
        }
      ]
    },
    {
      "cell_type": "code",
      "source": [
        "# plot_decision_boundary(lambda x: predict_dec(parameters, x.T), _x.T, _y)"
      ],
      "metadata": {
        "id": "6z4RQTC02Tjy"
      },
      "id": "6z4RQTC02Tjy",
      "execution_count": null,
      "outputs": []
    },
    {
      "cell_type": "code",
      "source": [
        "# from keras.models import Sequential\n",
        "# from keras.layers import Dense\n",
        "# from keras.callbacks import EarlyStopping\n",
        "# # Khởi tạo mô hình neural network\n",
        "# model = Sequential()\n",
        "# model.add(Dense(32, input_dim=8, activation='relu'))\n",
        "# model.add(Dense(16, activation='relu'))\n",
        "# model.add(Dense(1, activation='sigmoid'))\n",
        "# # # Biên dịch mô hình với loss function và optimizer\n",
        "# model.compile(loss='binary_crossentropy', optimizer='adam', metrics=['accuracy'])\n",
        "# # Khởi tạo early stopping\n",
        "# early_stop = EarlyStopping(monitor='val_loss', patience=5)\n",
        "# _x = x_train.values.reshape(x_train.shape[0], -1)\n",
        "# _y = train_Y\n",
        "# _x_test = x_test.values.reshape(x_test.shape[0], -1)\n",
        "# _y_test = test_Y\n",
        "# # Huấn luyện mô hình với early stopping\n",
        "# history = model.fit(_x, _y, validation_data=(_x_test, _y_test), epochs=100, batch_size=32, callbacks=[early_stop])"
      ],
      "metadata": {
        "id": "qsB9WzMdipiV"
      },
      "id": "qsB9WzMdipiV",
      "execution_count": null,
      "outputs": []
    },
    {
      "cell_type": "markdown",
      "source": [
        "Here are the results of our two models:\n",
        "\n",
        "\n",
        "\n",
        "|optimization method   | accuracy  | cost shape  |\n",
        "|---|---|---|\n",
        "|Gradient descent   |72%   |smooth   |\n",
        "| Adam  | 72%  | smoother  |\n",
        "\n",
        "---\n",
        "\n",
        "\n",
        "Gradient Descent: The employed technique resulted in a model accuracy of 72%. Over the course of training, the cost displayed a consistent decline, implying a gradual improvement in the cost function. Gradient Descent is a widely-used optimization algorithm that modifies the model parameters by taking steps proportional to the negative gradient of the cost function. While it achieved satisfactory accuracy, it is crucial to note that cautious adjustment of the learning rate might be necessary to avoid convergence issues.\n",
        "\n",
        "Adam: By employing the Adam optimization algorithm, the trained model also attained an accuracy of 72%. Remarkably, the cost progression during training appeared even smoother compared to Gradient Descent. Adam is an adaptive optimization algorithm that combines ideas from Adaptive Moment Estimation (Adam) and Root Mean Square Propagation (RMSprop). It dynamically adapts the learning rate for each parameter based on past gradients and squared gradients. This adaptiveness promotes faster convergence and potentially superior performance.\n",
        "\n",
        "In summary, both Gradient Descent and Adam optimization methods yielded identical accuracies of 72%. However, Adam exhibited a smoother cost shape during training, indicating more stable convergence. This suggests that Adam may offer a more reliable and efficient optimization approach in comparison to the traditional Gradient Descent. Further experimentation and meticulous fine-tuning of hyperparameters may be necessary to thoroughly evaluate the performance of both optimization methods."
      ],
      "metadata": {
        "id": "SO-tP_3-7so4"
      },
      "id": "SO-tP_3-7so4"
    },
    {
      "cell_type": "markdown",
      "source": [
        "To compare it with the neural network model, we merely applied it to a different solution."
      ],
      "metadata": {
        "id": "joOR8yHwbEcb"
      },
      "id": "joOR8yHwbEcb"
    },
    {
      "cell_type": "code",
      "source": [
        "print(classification_report(y_test,y_pred))"
      ],
      "metadata": {
        "colab": {
          "base_uri": "https://localhost:8080/"
        },
        "id": "62tWSXeeUmAC",
        "outputId": "0dde9508-f100-465e-97f1-c0e06bfe6dac"
      },
      "id": "62tWSXeeUmAC",
      "execution_count": null,
      "outputs": [
        {
          "output_type": "stream",
          "name": "stdout",
          "text": [
            "              precision    recall  f1-score   support\n",
            "\n",
            "           0       0.00      0.00      0.00       189\n",
            "           1       0.82      1.00      0.90       857\n",
            "\n",
            "    accuracy                           0.82      1046\n",
            "   macro avg       0.41      0.50      0.45      1046\n",
            "weighted avg       0.67      0.82      0.74      1046\n",
            "\n"
          ]
        }
      ]
    },
    {
      "cell_type": "markdown",
      "metadata": {
        "id": "Q1xKJcQJG2ZF"
      },
      "source": [
        "# Inclusion"
      ],
      "id": "Q1xKJcQJG2ZF"
    },
    {
      "cell_type": "markdown",
      "source": [
        "This study show that:\n",
        "- Initialization plays a vital role in the early stages of training a neural network as it establishes the starting point for the optimization process and influences the network's learning behavior. Inadequate initialization can result in convergence problems or suboptimal solutions.\n",
        "\n",
        "- To control the complexity of the model and prevent overfitting, regularization techniques like L2 regularization and dropout are employed. These techniques assist the model in generalizing effectively to new, unseen data by diminishing the impact of irrelevant or noisy features.\n",
        "\n",
        "- Optimization methods determine how the model's parameters are updated during training. Proper optimization ensures efficient convergence and faster learning. While Gradient Descent is a fundamental optimization method, Adam, with its adaptive learning rate, often leads to more stable convergence and potentially better overall performance.\n",
        "\n",
        "To sum up, Initialization, Regularization, and Optimization Methods are crucial elements of machine learning. They collaborate to ensure the model is appropriately initialized, regularized to prevent overfitting, and efficiently optimized to discover optimal solutions. Taking these aspects into consideration can significantly influence the performance and generalization ability of machine learning models."
      ],
      "metadata": {
        "id": "zGsyVRHU-2Pq"
      },
      "id": "zGsyVRHU-2Pq"
    }
  ],
  "metadata": {
    "colab": {
      "provenance": [],
      "toc_visible": true,
      "include_colab_link": true
    },
    "kernelspec": {
      "display_name": "Python 3",
      "language": "python",
      "name": "python3"
    },
    "language_info": {
      "codemirror_mode": {
        "name": "ipython",
        "version": 3
      },
      "file_extension": ".py",
      "mimetype": "text/x-python",
      "name": "python",
      "nbconvert_exporter": "python",
      "pygments_lexer": "ipython3",
      "version": "3.7.12"
    },
    "papermill": {
      "default_parameters": {},
      "duration": 18.48237,
      "end_time": "2023-02-07T18:43:13.916527",
      "environment_variables": {},
      "exception": null,
      "input_path": "__notebook__.ipynb",
      "output_path": "__notebook__.ipynb",
      "parameters": {},
      "start_time": "2023-02-07T18:42:55.434157",
      "version": "2.3.4"
    }
  },
  "nbformat": 4,
  "nbformat_minor": 5
}